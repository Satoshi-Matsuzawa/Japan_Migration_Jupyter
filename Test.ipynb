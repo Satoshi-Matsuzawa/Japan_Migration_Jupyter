{
 "cells": [
  {
   "cell_type": "code",
   "execution_count": 67,
   "metadata": {},
   "outputs": [],
   "source": [
    "import pandas as pd\n",
    "import os\n",
    "import sys\n",
    "sys.path.append('../Japan_Migration_Python')\n",
    "import functions as func\n",
    "\n",
    "directory_data = '../../Data/School/0001'\n",
    "file_name = 'student_employed.csv'\n",
    "file_read = os.path.join(directory_data, file_name)\n",
    "\n",
    "df = pd.read_csv(file_read)\n",
    "\n",
    "# Aggregate Employmnet Channels\n",
    "dict_channel = {1: 'school', 2: 'school', 3: 'school',\n",
    "                4: 'connections', 5: 'connections', 6: 'connections',\n",
    "                7: 'ad', 8: 'high_school', 9: 'firm', 99: 'no_response'}\n",
    "df['channel_agg'] = df.employment_channel\n",
    "df.channel_agg = df.channel_agg.map(dict_channel)\n",
    "\n",
    "#\n",
    "# Get the share of students for each channel for each school.\n",
    "dict_gender = {1: 'male', 2: 'female'}\n",
    "df['gender_mapped'] = df.gender.map(dict_gender)\n",
    "df['gender_count'] = 1\n",
    "df_sum = pd.get_dummies(df, columns=['channel_agg']).groupby(\n",
    "    ['school_id', 'gender_mapped']).sum()\n",
    "# Count the total for each channel\n",
    "df_sum_channel = df_sum.iloc[:, -6:].unstack(level=-1).reset_index()\n",
    "# Rename multi-index columns\n",
    "mi = df_sum_channel.columns\n",
    "#   Save categories for later use\n",
    "categories = list(pd.Index(e[0]for e in mi.tolist()[1:]).unique())\n",
    "gender = list(pd.Index(e[1]for e in mi.tolist()[1:]).unique())\n",
    "\n",
    "ind_channel = pd.Index([e[1] + '_' + e[0] for e in mi.tolist()[1:]])\n",
    "ind_channel = ind_channel.insert(0, 'school_id')\n",
    "df_sum_channel.columns = ind_channel\n",
    "\n",
    "# Count the total number of graduates\n",
    "df_sum_total = df_sum.iloc[:, -7].unstack(level=-1).reset_index()\n",
    "df_sum_total.columns = ['school_id', 'female_employed', 'male_employed']\n",
    "\n",
    "# Merge two dfs\n",
    "df_merged = pd.merge(df_sum_channel, df_sum_total, on='school_id')\n",
    "\n",
    "# Functions for creating shares and totals\n",
    "def create_share(df, gender, category, denominator):\n",
    "    df[gender + '_' + category + '_share'] = df[gender +\n",
    "                                                '_' + category] / df[gender + '_' + denominator]\n",
    "\n",
    "\n",
    "def create_total(df, category):\n",
    "    df['total' + '_' + category] = df['male' + '_' +\n",
    "                                      category] + df['female' + '_' + category]\n",
    "\n",
    "\n",
    "def create_total_share(df, category, denominator):\n",
    "    df['total' + '_' + category + '_share'] = df['total' + '_' +\n",
    "                                                 category] / df['total' + '_' + denominator]\n",
    "\n",
    "\n",
    "\n",
    "# Create Shares\n",
    "for gen in gender:\n",
    "    for cat in categories:\n",
    "        create_share(df_merged, gen, cat, 'employed')\n",
    "\n",
    "# Create Totals\n",
    "columns = categories + ['employed']\n",
    "for col in columns:\n",
    "    create_total(df_merged, col)\n",
    "\n",
    "# Create total shares\n",
    "for cat in categories:\n",
    "    create_total_share(df_merged, cat, 'employed')"
   ]
  },
  {
   "cell_type": "code",
   "execution_count": 70,
   "metadata": {},
   "outputs": [],
   "source": [
    "df_merged.describe().to_csv('df_merged_describe.csv')"
   ]
  },
  {
   "cell_type": "code",
   "execution_count": 64,
   "metadata": {},
   "outputs": [
    {
     "data": {
      "text/plain": [
       "['channel_agg_ad',\n",
       " 'channel_agg_connections',\n",
       " 'channel_agg_firm',\n",
       " 'channel_agg_high_school',\n",
       " 'channel_agg_no_response',\n",
       " 'channel_agg_school',\n",
       " 'employed']"
      ]
     },
     "execution_count": 64,
     "metadata": {},
     "output_type": "execute_result"
    }
   ],
   "source": [
    "columns"
   ]
  },
  {
   "cell_type": "code",
   "execution_count": null,
   "metadata": {},
   "outputs": [],
   "source": [
    "categories+['employed']"
   ]
  },
  {
   "cell_type": "code",
   "execution_count": null,
   "metadata": {},
   "outputs": [],
   "source": []
  }
 ],
 "metadata": {
  "kernelspec": {
   "display_name": "Python 3",
   "language": "python",
   "name": "python3"
  },
  "language_info": {
   "codemirror_mode": {
    "name": "ipython",
    "version": 3
   },
   "file_extension": ".py",
   "mimetype": "text/x-python",
   "name": "python",
   "nbconvert_exporter": "python",
   "pygments_lexer": "ipython3",
   "version": "3.7.4"
  }
 },
 "nbformat": 4,
 "nbformat_minor": 4
}
