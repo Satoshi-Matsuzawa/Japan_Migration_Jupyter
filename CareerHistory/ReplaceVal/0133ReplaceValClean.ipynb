{
 "cells": [
  {
   "cell_type": "code",
   "execution_count": 1,
   "metadata": {},
   "outputs": [],
   "source": [
    "import pandas as pd\n",
    "import os\n",
    "\n",
    "directory = '../../../../Data/CareerHistory/0133'\n",
    "file_name_label = '0133_ver2 label.txt'\n",
    "\n",
    "file_label = os.path.join(directory, file_name_label)"
   ]
  },
  {
   "cell_type": "code",
   "execution_count": 2,
   "metadata": {},
   "outputs": [
    {
     "name": "stderr",
     "output_type": "stream",
     "text": [
      "/Users/satoshi/miniconda3/envs/jpandas/lib/python3.9/site-packages/IPython/core/interactiveshell.py:3441: FutureWarning: The error_bad_lines argument has been deprecated and will be removed in a future version.\n",
      "\n",
      "\n",
      "  exec(code_obj, self.user_global_ns, self.user_ns)\n"
     ]
    }
   ],
   "source": [
    "file_name_data = '0133_ver2.dat'\n",
    "\n",
    "file_data = os.path.join(directory, file_name_data)\n",
    "df = pd.read_csv(file_data, sep = '\\t', error_bad_lines = False)"
   ]
  },
  {
   "cell_type": "code",
   "execution_count": 3,
   "metadata": {},
   "outputs": [
    {
     "data": {
      "text/plain": [
       "0       99\n",
       "1       99\n",
       "2       99\n",
       "3       99\n",
       "4       99\n",
       "        ..\n",
       "4250     5\n",
       "4251     8\n",
       "4252     4\n",
       "4253     4\n",
       "4254     8\n",
       "Name: q32, Length: 4255, dtype: int64"
      ]
     },
     "execution_count": 3,
     "metadata": {},
     "output_type": "execute_result"
    }
   ],
   "source": [
    "df['q32']"
   ]
  },
  {
   "cell_type": "code",
   "execution_count": 4,
   "metadata": {},
   "outputs": [],
   "source": [
    "with open(file_label, 'r') as f:\n",
    "    x = f.read().splitlines()"
   ]
  },
  {
   "cell_type": "code",
   "execution_count": 5,
   "metadata": {},
   "outputs": [],
   "source": [
    "def get_list_of_lists(x):\n",
    "    # Return each row as a list\n",
    "    list_of_lists = []\n",
    "    for line in x:\n",
    "        list_of_lists.append(line.split('\\t'))\n",
    "    return list_of_lists"
   ]
  },
  {
   "cell_type": "code",
   "execution_count": 6,
   "metadata": {},
   "outputs": [],
   "source": [
    "list_of_lists = get_list_of_lists(x)"
   ]
  },
  {
   "cell_type": "code",
   "execution_count": 7,
   "metadata": {},
   "outputs": [],
   "source": [
    "def search_index(keyword, list_of_lists = list_of_lists):\n",
    "    # Check if the keyword is in the list\n",
    "    idx_list = []\n",
    "    for idx, item in enumerate(list_of_lists):\n",
    "        if keyword in item[0]:\n",
    "            idx_list.append(idx)\n",
    "    return idx_list"
   ]
  },
  {
   "cell_type": "code",
   "execution_count": 8,
   "metadata": {},
   "outputs": [],
   "source": [
    "# Split list_of_lists to variable info list and varuable value list"
   ]
  },
  {
   "cell_type": "code",
   "execution_count": 9,
   "metadata": {},
   "outputs": [],
   "source": [
    "hensu_joho_idx = search_index('変数情報')[0] # id of 変数情報"
   ]
  },
  {
   "cell_type": "code",
   "execution_count": 10,
   "metadata": {},
   "outputs": [],
   "source": [
    "hensu_chi_idx = search_index('変数値')[0] # id of 変数値"
   ]
  },
  {
   "cell_type": "code",
   "execution_count": 11,
   "metadata": {},
   "outputs": [],
   "source": [
    "# split the list of lists\n",
    "list_of_lists_info = list_of_lists[hensu_joho_idx:hensu_chi_idx] # Contains value informaiotn\n",
    "list_of_lists_val = list_of_lists[hensu_chi_idx:-1] # Contains value variables"
   ]
  },
  {
   "cell_type": "code",
   "execution_count": 12,
   "metadata": {},
   "outputs": [],
   "source": [
    "list_of_lists_val_1st_elem = [item[0] for item in list_of_lists_val] # First elements in val list"
   ]
  },
  {
   "cell_type": "code",
   "execution_count": 13,
   "metadata": {},
   "outputs": [],
   "source": [
    "_list_of_vars_val  = [s for s in list_of_lists_val_1st_elem if s] # list of variables in the values list"
   ]
  },
  {
   "cell_type": "code",
   "execution_count": 14,
   "metadata": {},
   "outputs": [],
   "source": [
    "list_of_vars_val = _list_of_vars_val[2:]"
   ]
  },
  {
   "cell_type": "code",
   "execution_count": 15,
   "metadata": {},
   "outputs": [],
   "source": [
    "def return_next_var(var, list_of_vars):\n",
    "    # Use list of variables, taken from var_info, return the next variable\n",
    "    current_idx = list_of_vars.index(var)\n",
    "    next_var = list_of_vars[current_idx + 1]\n",
    "    return next_var"
   ]
  },
  {
   "cell_type": "code",
   "execution_count": 16,
   "metadata": {},
   "outputs": [],
   "source": [
    "def get_dict(var, \n",
    "             list_of_lists = list_of_lists_val,\n",
    "             list_of_lists_1st_elem = list_of_lists_val_1st_elem, \n",
    "             list_of_vars = list_of_vars_val):\n",
    "    # Return dictionary for var\n",
    "    \n",
    "    dict = {}\n",
    "    \n",
    "    idx = list_of_lists_1st_elem.index(var)\n",
    "\n",
    "    if var != list_of_vars[-1]:\n",
    "        # Get the next variable using the list of variables in the values list\n",
    "        next_var = return_next_var(var, list_of_vars)\n",
    "        \n",
    "        # Get the index for the list of lists of values\n",
    "        next_idx = list_of_lists_1st_elem.index(next_var)\n",
    "    \n",
    "        # Slice the list of lists\n",
    "        sublist = list_of_lists[idx:next_idx]\n",
    "    else:\n",
    "        sublist = list_of_lists[idx:]\n",
    "    \n",
    "    for item in sublist:\n",
    "        new_dict = {item[1]:item[2]}\n",
    "        dict.update(new_dict)\n",
    "    return dict"
   ]
  },
  {
   "cell_type": "code",
   "execution_count": 17,
   "metadata": {},
   "outputs": [],
   "source": [
    "def replace_val(var, df = df):\n",
    "    dictionary = get_dict(var)\n",
    "    df[var] = df[var].astype(str)\n",
    "    df[var] = df[var].map(dictionary)"
   ]
  },
  {
   "cell_type": "code",
   "execution_count": 18,
   "metadata": {},
   "outputs": [],
   "source": [
    "for var in list_of_vars_val:\n",
    "    replace_val(var)"
   ]
  },
  {
   "cell_type": "code",
   "execution_count": 19,
   "metadata": {},
   "outputs": [],
   "source": [
    "# Can be used to replace column names\n",
    "variables_dict = [{item[0]:item[2].replace('\\u3000', '_')} for item in list_of_lists_info if len(item) == 3]"
   ]
  },
  {
   "cell_type": "code",
   "execution_count": 22,
   "metadata": {},
   "outputs": [],
   "source": [
    "df.to_csv('test.csv')"
   ]
  },
  {
   "cell_type": "code",
   "execution_count": 21,
   "metadata": {},
   "outputs": [
    {
     "data": {
      "text/plain": [
       "{'1': '農業',\n",
       " '6': '林業，狩猟業',\n",
       " '8': '漁業',\n",
       " '9': '水産養殖業',\n",
       " '10': '鉱業',\n",
       " '12': '無職',\n",
       " '13': '学生',\n",
       " '14': '兵役',\n",
       " '15': '建設業',\n",
       " '18': '食料品・たばこ製造業',\n",
       " '20': '繊維工業（衣服・その他の繊維製品を除く）',\n",
       " '21': '衣服・その他の繊維製品製造業',\n",
       " '22': '木材・木製品製造業（家具を除く）',\n",
       " '23': '家具・装備品製造業',\n",
       " '24': 'パルプ・紙・紙加工製造業',\n",
       " '25': '出版・印刷・同関連産業',\n",
       " '26': '化学工業',\n",
       " '27': '石油製品・石炭製品製造業',\n",
       " '28': 'ゴム製品製造業',\n",
       " '29': 'なめしかわ・同製品・毛皮製造業',\n",
       " '30': '窯業・土石製品製造業',\n",
       " '31': '鉄鋼業',\n",
       " '32': '非鉄金属製造業',\n",
       " '33': '金属製品製造業',\n",
       " '34': '一般機械器具製造業',\n",
       " '35': '電気機械器具製造業',\n",
       " '36': '輸送用機械器具製造業',\n",
       " '37': '精密機械器具製造業',\n",
       " '38': 'その他の製造業',\n",
       " '40': '卸売業',\n",
       " '43': '百貨店',\n",
       " '44': '織物・衣服・身の回り品小売業',\n",
       " '45': '飲食料品小売業',\n",
       " '46': '飲食店',\n",
       " '47': '自動車・自転車小売業',\n",
       " '48': '家具・建具・じゅう器小売業',\n",
       " '49': 'その他の小売業',\n",
       " '50': '金融・保険業',\n",
       " '59': '不動産業',\n",
       " '60': '鉄道業',\n",
       " '61': '道路旅客運送業',\n",
       " '62': '道路貨物運送業',\n",
       " '63': '水運業',\n",
       " '64': '航空運輸業',\n",
       " '65': '倉庫業',\n",
       " '66': '運輸に附帯するサービス業',\n",
       " '67': '通信業',\n",
       " '70': '電気・ガス・水道・熱供給業',\n",
       " '74': '物品賃貸業',\n",
       " '75': '旅館，その他の宿泊所',\n",
       " '76': '家事サービス業',\n",
       " '77': '洗たく・理容・浴場業',\n",
       " '78': 'その他の個人サービス業',\n",
       " '79': '映画・娯楽業',\n",
       " '81': '放送業',\n",
       " '82': '自動車整備及び駐車場業',\n",
       " '83': 'その他の修理業',\n",
       " '84': '協同組合（他に分類されないもの）',\n",
       " '85': '情報サービス・調査・広告業',\n",
       " '86': 'その他の事業サービス業',\n",
       " '87': '専門サービス業（他に分類されないもの）',\n",
       " '88': '医療業',\n",
       " '89': '保健及び廃棄物処理業',\n",
       " '90': '宗教',\n",
       " '91': '教育',\n",
       " '92': '社会保険，社会福祉',\n",
       " '93': '学術研究機関',\n",
       " '94': '政治・経済・文化団体',\n",
       " '95': 'その他のサービス業',\n",
       " '96': '外国公務',\n",
       " '97': '国家事務',\n",
       " '98': '地方事務',\n",
       " '99': '分類不能の産業（不明）'}"
      ]
     },
     "execution_count": 21,
     "metadata": {},
     "output_type": "execute_result"
    }
   ],
   "source": [
    "get_dict('q6_4')"
   ]
  },
  {
   "cell_type": "code",
   "execution_count": null,
   "metadata": {},
   "outputs": [],
   "source": []
  }
 ],
 "metadata": {
  "kernelspec": {
   "display_name": "Python 3 (ipykernel)",
   "language": "python",
   "name": "python3"
  },
  "language_info": {
   "codemirror_mode": {
    "name": "ipython",
    "version": 3
   },
   "file_extension": ".py",
   "mimetype": "text/x-python",
   "name": "python",
   "nbconvert_exporter": "python",
   "pygments_lexer": "ipython3",
   "version": "3.9.6"
  }
 },
 "nbformat": 4,
 "nbformat_minor": 4
}
