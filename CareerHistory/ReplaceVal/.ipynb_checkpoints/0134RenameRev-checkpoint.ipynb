{
 "cells": [
  {
   "cell_type": "code",
   "execution_count": 1,
   "metadata": {},
   "outputs": [],
   "source": [
    "import pandas as pd\n",
    "import os\n",
    "\n",
    "directory = '../../Data/CareerHistory/0134'\n",
    "name = '0134_ver2.csv'\n",
    "\n",
    "file = os.path.join(directory, name)\n",
    "df = pd.read_csv(file, sep = ',', error_bad_lines = False)"
   ]
  },
  {
   "cell_type": "code",
   "execution_count": 2,
   "metadata": {},
   "outputs": [],
   "source": [
    "year = 1983"
   ]
  },
  {
   "cell_type": "code",
   "execution_count": 1,
   "metadata": {},
   "outputs": [],
   "source": [
    "# Maybe we can rename columns after the analysis"
   ]
  },
  {
   "cell_type": "code",
   "execution_count": 3,
   "metadata": {},
   "outputs": [],
   "source": [
    "shorthand = {'pref':'prefecture',\n",
    "             'compul':'compulsory',\n",
    "             'educ':'education',\n",
    "             'yrs':'years',\n",
    "             'voc':'vocational',\n",
    "             'sib':'siblings',\n",
    "             'ind':'industry',\n",
    "             'num':'number',\n",
    "             'curr':'current',\n",
    "             'emp':'employment',\n",
    "             'pos':'position',\n",
    "             'ctype':'city type',\n",
    "             'maj':'major',\n",
    "             'min':'minor',\n",
    "             'fsize':'firm size measured by employment',\n",
    "             'chnl':'employment channel',\n",
    "             'trans':'transfer' ,\n",
    "             'chng':'change',\n",
    "             'rsn':'reason',\n",
    "             'sage':'start age',\n",
    "             'eage':'end age',\n",
    "             'inst':'institute',\n",
    "             'sts':'special training school, sensyu or kakushu gakkou ',\n",
    "             'mfg':'manufacturing',\n",
    "             'ag':'agricultural',\n",
    "             'med':'medical',\n",
    "             'hlth':'health',\n",
    "             'educ':'education',\n",
    "             'com':'commerce',\n",
    "             'he':'household economy',\n",
    "             'cult':'culture',\n",
    "             'educ_bkg':'educational background',\n",
    "             'hs':'high school',\n",
    "             'clg':'college',\n",
    "             'crs':'course',\n",
    "             'est':'established by',\n",
    "             'marr':'marriage',\n",
    "             'remarr':'remarrage',\n",
    "             'sep':'separation',\n",
    "             'cld':'child',\n",
    "             'hus':'husband',\n",
    "             'income':'inc',\n",
    "             'cmmt':'commute',\n",
    "            }\n"
   ]
  },
  {
   "cell_type": "code",
   "execution_count": 4,
   "metadata": {},
   "outputs": [],
   "source": [
    "rename_col = {'sampleno':'id',\n",
    "              'kyojuuchi':'curr_liv_pref',\n",
    "              'q1':'age',\n",
    "              'q2_1':'moved',\n",
    "              'q2_2':'compul_educ_urban',\n",
    "              'q2_3':'compul_educ_ctype',\n",
    "              'q2_4':'compul_educ_pref',\n",
    "              'q6':'curr_job',\n",
    "              'q7':'curr_job_yrs',\n",
    "              'q23':'voc',\n",
    "              'q18sq1_1':'voc_mfg',\n",
    "              'q18sq1_2':'voc_ag',\n",
    "              'q18sq1_3':'voc_med',\n",
    "              'q18sq1_4':'voc_hlth',\n",
    "              'q18sq1_5':'voc_educ',\n",
    "              'q18sq1_6':'voc_com',\n",
    "              'q18sq1_7':'voc_he',\n",
    "              'q18sq1_8':'voc_cult',\n",
    "              'q24':'marr',\n",
    "              'q25q26_1q27_1':'marr_age',\n",
    "              'q26_2q27_2':'sep_age',\n",
    "              'q26_3':'remarr_age',\n",
    "              'q28_1':'num_kids',\n",
    "              'q28_2':'birth_age_1st',\n",
    "              'q28_3':'birth_age_last',\n",
    "              'q37':'hus_fin_educ',\n",
    "              'q39':'farther_educ',\n",
    "              'q40':'mother_educ',\n",
    "              'q41':'fam_size',\n",
    "              'q42':'inc_hh',\n",
    "              'q42_1':'inc_hh_100k',\n",
    "              'q43':'inc_ind_y_n',\n",
    "              'q43sq':'inc_ind',\n",
    "              'q43sq_1':'inc_ind_100k',\n",
    "              'q44':'inc_hus',\n",
    "              'q44':'inc_hus_100k',\n",
    "            }"
   ]
  },
  {
   "cell_type": "code",
   "execution_count": 2,
   "metadata": {},
   "outputs": [],
   "source": [
    "def dict_update_hus(x, y, dict_original):\n",
    "    # Automate renaming for husband job info\n",
    "    \n",
    "    dict_new = {\n",
    "        x + '_1': y + '_job_emp_pos',\n",
    "        x + '_2': y + '_job_ind',\n",
    "        x + '_4_1': y + '_job_ind_maj',\n",
    "        x + '_4_2': y + '_job_ind_min',\n",
    "        x + '_5': y + '_job_pos',\n",
    "        x + '_6': y + '_job_fsize',\n",
    "        }\n",
    "    dict_original.update(dict_new)\n",
    "    \n",
    "    return dict_original"
   ]
  },
  {
   "cell_type": "code",
   "execution_count": 6,
   "metadata": {},
   "outputs": [],
   "source": [
    "list_hus = [('q38_1','hus_marr'),\n",
    "             ('q38_2', 'hus_curr')]"
   ]
  },
  {
   "cell_type": "code",
   "execution_count": 7,
   "metadata": {},
   "outputs": [],
   "source": [
    "for item in list_hus:\n",
    "    dict_update_hus(item[0], item[1], rename_col)"
   ]
  },
  {
   "cell_type": "code",
   "execution_count": 3,
   "metadata": {},
   "outputs": [],
   "source": [
    "def dict_update_educ(x, y, dict_original):\n",
    "    # Automate renaming for q22\n",
    "    \n",
    "    dict_new = {\n",
    "        x + '_1': y + '_bkg',\n",
    "        x + '_1sq1': y + '_hs_maj',\n",
    "        x + '_1sq2': y + '_clg_maj',\n",
    "        x + '_2': y + '_pref',\n",
    "        x + '_3': y + '_course',\n",
    "        x + '_4': y + '_grad',\n",
    "        x + '_5': y + '_eage',\n",
    "        }\n",
    "    dict_original.update(dict_new)\n",
    "    \n",
    "    return dict_original    \n",
    "    "
   ]
  },
  {
   "cell_type": "code",
   "execution_count": 9,
   "metadata": {},
   "outputs": [],
   "source": [
    "list_educ = [('q22','fin_educ')]"
   ]
  },
  {
   "cell_type": "code",
   "execution_count": 10,
   "metadata": {},
   "outputs": [],
   "source": [
    "for item in list_educ:\n",
    "    dict_update_educ(item[0], item[1], rename_col)"
   ]
  },
  {
   "cell_type": "code",
   "execution_count": 4,
   "metadata": {},
   "outputs": [],
   "source": [
    "def dict_update_jobs(x, y, dict_original):\n",
    "    # Automate renaming for q8 and saishuu\n",
    "    \n",
    "    dict_new = {\n",
    "        x + '_card' : y + '_job_card_no',\n",
    "        x + '_kigyou' : y + '_job_firm_id',\n",
    "        x + '_1': y + '_job_emp_pos',\n",
    "        x + '_3': y + '_job_ind',\n",
    "        x + '_4_1': y + '_job_ind_maj',\n",
    "        x + '_4_2': y + '_job_ind_min',\n",
    "        x + '_5_1': y + '_job_work_hour',\n",
    "        x + '_5_2': y + '_job_work_day',\n",
    "        x + '_6': y + '_job_pos',\n",
    "        x + '_7': y + '_job_fsize',\n",
    "        x + '_8': y + '_job_cmmt_time',\n",
    "        x + '_9': y + '_job_chnl',\n",
    "        x + '_10_1': y + '_job_sage',\n",
    "        x + '_10_2': y + '_job_eage',\n",
    "        }\n",
    "    dict_original.update(dict_new)\n",
    "    \n",
    "    return dict_original"
   ]
  },
  {
   "cell_type": "code",
   "execution_count": 13,
   "metadata": {},
   "outputs": [],
   "source": [
    "list_jobs = [('q8', 'curr'),\n",
    "             ('saishu', 'last'),]"
   ]
  },
  {
   "cell_type": "code",
   "execution_count": 14,
   "metadata": {},
   "outputs": [],
   "source": [
    "for item in list_jobs:\n",
    "    dict_update_jobs(item[0],item[1],rename_col)"
   ]
  },
  {
   "cell_type": "code",
   "execution_count": 15,
   "metadata": {},
   "outputs": [],
   "source": [
    "def dict_update_chng(x, y, dict_original):\n",
    "    # Automate renaming for q6\n",
    "    \n",
    "    dict_new = {\n",
    "        x + '_kigyou' : y + '_job_firm_id',\n",
    "        x + '_1': y + '_job_emp_pos',\n",
    "        x + '_3': y + '_job_ind',\n",
    "        x + '_4_1': y + '_job_ind_maj',\n",
    "        x + '_4_2': y + '_job_ind_min',\n",
    "        x + '_5_1': y + '_job_work_hour',\n",
    "        x + '_5_2': y + '_job_work_day',\n",
    "        x + '_6': y + '_job_pos',\n",
    "        x + '_7': y + '_job_fsize',\n",
    "        x + '_8': y + '_job_cmmt_time',\n",
    "        x + '_9': y + '_job_chnl',\n",
    "        x + '_10_1': y + '_job_sage',\n",
    "        x + '_10_2': y + '_job_eage',\n",
    "        x + '_11': y + '_job_chng_rsn',\n",
    "        }\n",
    "    dict_original.update(dict_new)\n",
    "    \n",
    "    return dict_original"
   ]
  },
  {
   "cell_type": "code",
   "execution_count": 16,
   "metadata": {},
   "outputs": [],
   "source": [
    "list_chng = [('q20', 'init'),\n",
    "              ('q21_1', '1st'),\n",
    "              ('q21_2', '2nd'),\n",
    "              ('q21_3', '3rd'),\n",
    "              ('q21_4', '4th'),\n",
    "              ('q21_5', '5th'),\n",
    "              ('q21_6', '6th'),\n",
    "              ('q21_7', '7th'),\n",
    "              ('q21_8', '8th'),\n",
    "              ('q21_9', '9th'),\n",
    "              ('q21_10', '10th'),\n",
    "             ]"
   ]
  },
  {
   "cell_type": "code",
   "execution_count": 17,
   "metadata": {},
   "outputs": [],
   "source": [
    "for item in list_chng:\n",
    "    dict_update_chng(item[0], item[1], rename_col)"
   ]
  },
  {
   "cell_type": "code",
   "execution_count": 18,
   "metadata": {},
   "outputs": [],
   "source": [
    "df.rename(rename_col, axis = 1, inplace = True)"
   ]
  },
  {
   "cell_type": "code",
   "execution_count": 19,
   "metadata": {},
   "outputs": [],
   "source": [
    "# Need to remove whitespaces \" \""
   ]
  },
  {
   "cell_type": "code",
   "execution_count": null,
   "metadata": {},
   "outputs": [],
   "source": []
  }
 ],
 "metadata": {
  "kernelspec": {
   "display_name": "Python 3",
   "language": "python",
   "name": "python3"
  },
  "language_info": {
   "codemirror_mode": {
    "name": "ipython",
    "version": 3
   },
   "file_extension": ".py",
   "mimetype": "text/x-python",
   "name": "python",
   "nbconvert_exporter": "python",
   "pygments_lexer": "ipython3",
   "version": "3.7.7"
  }
 },
 "nbformat": 4,
 "nbformat_minor": 4
}
