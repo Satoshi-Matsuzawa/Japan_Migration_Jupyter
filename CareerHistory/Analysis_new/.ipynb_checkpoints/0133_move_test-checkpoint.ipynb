{
 "cells": [
  {
   "cell_type": "code",
   "execution_count": 1,
   "id": "d94d15d4-8124-4942-9e09-175e19a15e8a",
   "metadata": {},
   "outputs": [],
   "source": [
    "import pandas as pd"
   ]
  },
  {
   "cell_type": "code",
   "execution_count": 2,
   "id": "d7b2dbe3-1cf5-407b-9f03-820c4fb6a18a",
   "metadata": {},
   "outputs": [],
   "source": [
    "import matplotlib.pyplot as plt"
   ]
  },
  {
   "cell_type": "code",
   "execution_count": 3,
   "id": "e9b5c0e8-247e-49ab-97f9-948640425991",
   "metadata": {},
   "outputs": [],
   "source": [
    "file = '../ReplaceVal/0133test.csv'"
   ]
  },
  {
   "cell_type": "code",
   "execution_count": 4,
   "id": "19f8e6b2-6ea6-4818-b4c4-b54a95ffc6b1",
   "metadata": {},
   "outputs": [],
   "source": [
    "df = pd.read_csv(file)"
   ]
  },
  {
   "cell_type": "code",
   "execution_count": 5,
   "id": "7a99223d-a48f-44f4-992f-bb839b8ad786",
   "metadata": {},
   "outputs": [],
   "source": [
    "#df = df.loc[(df.q3 != 12) &(df.q3 != 11)&(df.q3 != 13) & (df.q3 != 14) & (df.q3 != 29) &(df.q3 != 26)& (df.q3 != 30) & (df.q3 != 21)]"
   ]
  },
  {
   "cell_type": "code",
   "execution_count": 6,
   "id": "3bbe5454-1d32-44c6-828f-d2fed90f2b95",
   "metadata": {
    "tags": []
   },
   "outputs": [],
   "source": [
    "df = df.loc[(df.q3 != 12) & (df.q3 != 14) & (df.q3 != 29) &(df.q3 != 26)& (df.q3 != 30) & (df.q3 != 21) & (df.q3 != 47)]"
   ]
  },
  {
   "cell_type": "code",
   "execution_count": 7,
   "id": "2efa034f-7767-414e-9428-b3df86020b37",
   "metadata": {},
   "outputs": [],
   "source": [
    "#df = df.loc[df.q3 != (12 or 14 or 21 or 26 or 29 or 30 or 47)]"
   ]
  },
  {
   "cell_type": "code",
   "execution_count": 8,
   "id": "8027943c-9deb-4142-b8bb-4db90a09c543",
   "metadata": {},
   "outputs": [],
   "source": [
    "#df = df.loc[df.q3_toshiruikei != (1)]"
   ]
  },
  {
   "cell_type": "code",
   "execution_count": 9,
   "id": "c3e733b8-f4ac-47e3-8542-80a209ff274b",
   "metadata": {},
   "outputs": [],
   "source": [
    "#df = df.loc[df.q3_toshiruikei == 4]"
   ]
  },
  {
   "cell_type": "code",
   "execution_count": 10,
   "id": "69699922-fa8f-473e-8128-c2a1ff840979",
   "metadata": {},
   "outputs": [],
   "source": [
    "df = df.loc[(df.q15_3 != 50) & (df.q15_3 != 98) & (df.q15_3 != 99) &(df.q15_3 != 49)]"
   ]
  },
  {
   "cell_type": "code",
   "execution_count": 11,
   "id": "92ac2c82-5319-4100-b776-4df9f157cdae",
   "metadata": {},
   "outputs": [
    {
     "data": {
      "text/plain": [
       "array([10, 16, 11, 40, 38,  4, 43,  7,  5,  1,  6, 46, 50,  9,  8, 37, 45,\n",
       "       20, 34, 13,  2,  3, 32, 31, 35, 36, 42, 19, 28, 27, 44, 15, 24, 33,\n",
       "       25, 17, 22, 18, 23, 39, 41])"
      ]
     },
     "execution_count": 11,
     "metadata": {},
     "output_type": "execute_result"
    }
   ],
   "source": [
    "df.q3.unique()"
   ]
  },
  {
   "cell_type": "code",
   "execution_count": 12,
   "id": "21ccb197-c99c-46c6-bc3c-6c49defcc478",
   "metadata": {},
   "outputs": [],
   "source": [
    "df['moved_pref_first_job'] = 0\n",
    "df.loc[df.q3 != df.q15_3, 'moved_pref_first_job'] = 1"
   ]
  },
  {
   "cell_type": "code",
   "execution_count": 13,
   "id": "60437b3b-aa20-4bb2-9953-1c1d071a92b9",
   "metadata": {},
   "outputs": [],
   "source": [
    "df['moved_within_pref_first_job'] = 0"
   ]
  },
  {
   "cell_type": "code",
   "execution_count": 14,
   "id": "e5d048d6-80b6-46a4-8b2a-70977785cbd0",
   "metadata": {},
   "outputs": [],
   "source": [
    "df.loc[(df.q3 == df.q15_3) & (df.q3_toshiruikei != df.q15_3_toshiruikei), 'moved_within_pref_first_job'] = 1"
   ]
  },
  {
   "cell_type": "code",
   "execution_count": 15,
   "id": "d9743a57-8e0a-41de-8895-92257273bae4",
   "metadata": {},
   "outputs": [],
   "source": [
    "df['moved_first_job'] = df['moved_pref_first_job'] + df['moved_within_pref_first_job']"
   ]
  },
  {
   "cell_type": "code",
   "execution_count": 16,
   "id": "4833b75b-856c-4eb1-b5b0-f8f8816ae340",
   "metadata": {},
   "outputs": [],
   "source": [
    "year = 1981"
   ]
  },
  {
   "cell_type": "code",
   "execution_count": 17,
   "id": "45570597-5237-47fb-b115-7dd719c7c6db",
   "metadata": {},
   "outputs": [],
   "source": [
    "df['birth_year'] = year - df.q1"
   ]
  },
  {
   "cell_type": "code",
   "execution_count": 18,
   "id": "0caa3473-4af1-4f4a-baeb-51a9e5311c1b",
   "metadata": {},
   "outputs": [],
   "source": [
    "df['counts'] = 1"
   ]
  },
  {
   "cell_type": "code",
   "execution_count": 19,
   "id": "a541423b-4156-42da-9316-9686acf4e487",
   "metadata": {},
   "outputs": [],
   "source": [
    "df['first_job_year'] = df['birth_year'] + df.q15_9_1"
   ]
  },
  {
   "cell_type": "code",
   "execution_count": 20,
   "id": "fd99b8d6-f27f-4f7d-9a1a-d97e6b4e9211",
   "metadata": {},
   "outputs": [
    {
     "name": "stderr",
     "output_type": "stream",
     "text": [
      "/var/folders/hb/3db8mbcj4l74ztsvqyx17yd00000gn/T/ipykernel_5481/3546275096.py:2: FutureWarning: Indexing with multiple keys (implicitly converted to a tuple of keys) will be deprecated, use a list instead.\n",
      "  df_group1 = _df.groupby(['birth_year'])['moved_pref_first_job', 'counts'].sum().reset_index()\n"
     ]
    }
   ],
   "source": [
    "_df = df[['birth_year', 'moved_pref_first_job', 'counts']].copy()\n",
    "df_group1 = _df.groupby(['birth_year'])['moved_pref_first_job', 'counts'].sum().reset_index()"
   ]
  },
  {
   "cell_type": "code",
   "execution_count": 21,
   "id": "b9a9fcba-171c-464a-b425-1b2fa9580709",
   "metadata": {},
   "outputs": [],
   "source": [
    "df_group1['moved_pref_ratio'] = df_group1.moved_pref_first_job / df_group1.counts"
   ]
  },
  {
   "cell_type": "code",
   "execution_count": 22,
   "id": "ab49781d-f597-4a79-b7f9-e549d158f5bd",
   "metadata": {},
   "outputs": [],
   "source": [
    "df_group1['moved_ratio_SMA_5'] = df_group1['moved_pref_ratio'].rolling(window=5).mean()"
   ]
  },
  {
   "cell_type": "code",
   "execution_count": 23,
   "id": "47391054-5b46-4950-825b-278512441088",
   "metadata": {},
   "outputs": [
    {
     "data": {
      "image/png": "[encoded data removed]",
      "text/plain": [
       "<Figure size 432x288 with 1 Axes>"
      ]
     },
     "metadata": {
      "needs_background": "light"
     },
     "output_type": "display_data"
    }
   ],
   "source": [
    "fig, ax = plt.subplots()\n",
    "df_group1.plot(x = 'birth_year', y = 'moved_pref_ratio', ax = ax)\n",
    "df_group1.plot(x = 'birth_year', y = 'moved_ratio_SMA_5', ax = ax)\n",
    "plt.show()"
   ]
  },
  {
   "cell_type": "code",
   "execution_count": 24,
   "id": "cd323017-9bab-4b97-83d1-5bbccb94e948",
   "metadata": {},
   "outputs": [
    {
     "data": {
      "text/plain": [
       "0.20406065987009292"
      ]
     },
     "execution_count": 24,
     "metadata": {},
     "output_type": "execute_result"
    }
   ],
   "source": [
    "df_group1.loc[(df_group1.birth_year <= 1930) & (df_group1.birth_year >= 1920)].moved_pref_ratio.mean()"
   ]
  },
  {
   "cell_type": "code",
   "execution_count": 25,
   "id": "f0934e80-3ab6-4cd1-be05-82f17212b5ed",
   "metadata": {},
   "outputs": [
    {
     "data": {
      "text/plain": [
       "0.24373334561111443"
      ]
     },
     "execution_count": 25,
     "metadata": {},
     "output_type": "execute_result"
    }
   ],
   "source": [
    "df_group1.loc[df_group1.birth_year <= 1940].moved_pref_ratio.mean()"
   ]
  },
  {
   "cell_type": "code",
   "execution_count": 26,
   "id": "a921d055-a406-4fb9-810b-1a11ab038677",
   "metadata": {},
   "outputs": [
    {
     "data": {
      "text/plain": [
       "0.3991545915954203"
      ]
     },
     "execution_count": 26,
     "metadata": {},
     "output_type": "execute_result"
    }
   ],
   "source": [
    "df_group1.loc[(df_group1.birth_year <= 1950) & (df_group1.birth_year >= 1940)].moved_pref_ratio.mean()"
   ]
  },
  {
   "cell_type": "code",
   "execution_count": 27,
   "id": "a695f59f-07cb-4789-a88f-16c71a2e3f8b",
   "metadata": {},
   "outputs": [
    {
     "data": {
      "text/plain": [
       "0.4154494315208601"
      ]
     },
     "execution_count": 27,
     "metadata": {},
     "output_type": "execute_result"
    }
   ],
   "source": [
    "df_group1.loc[(df_group1.birth_year <= 1960) & (df_group1.birth_year >= 1950)].moved_pref_ratio.mean()"
   ]
  },
  {
   "cell_type": "code",
   "execution_count": 28,
   "id": "813432de-aae4-41e2-adee-da10a1cb2dd4",
   "metadata": {},
   "outputs": [
    {
     "data": {
      "text/plain": [
       "0.38887785895310406"
      ]
     },
     "execution_count": 28,
     "metadata": {},
     "output_type": "execute_result"
    }
   ],
   "source": [
    "df_group1.loc[df_group1.birth_year >= 1935].moved_pref_ratio.mean()"
   ]
  },
  {
   "cell_type": "code",
   "execution_count": 29,
   "id": "70b376e3-85b9-426a-8550-8f5dc999c590",
   "metadata": {},
   "outputs": [
    {
     "data": {
      "text/plain": [
       "0.4080203840115085"
      ]
     },
     "execution_count": 29,
     "metadata": {},
     "output_type": "execute_result"
    }
   ],
   "source": [
    "df_group1.loc[df_group1.birth_year >= 1940].moved_pref_ratio.mean()"
   ]
  },
  {
   "cell_type": "code",
   "execution_count": 30,
   "id": "01c3037c-0cfe-4bc1-82f9-e34bd1888fc8",
   "metadata": {},
   "outputs": [
    {
     "name": "stderr",
     "output_type": "stream",
     "text": [
      "/var/folders/hb/3db8mbcj4l74ztsvqyx17yd00000gn/T/ipykernel_5481/2153551867.py:2: FutureWarning: Indexing with multiple keys (implicitly converted to a tuple of keys) will be deprecated, use a list instead.\n",
      "  df_group0 = _df0.groupby(['birth_year'])['moved_within_pref_first_job', 'counts'].sum().reset_index()\n"
     ]
    }
   ],
   "source": [
    "_df0 = df[['birth_year', 'moved_within_pref_first_job', 'counts']].copy()\n",
    "df_group0 = _df0.groupby(['birth_year'])['moved_within_pref_first_job', 'counts'].sum().reset_index()"
   ]
  },
  {
   "cell_type": "code",
   "execution_count": 31,
   "id": "033aafa4-4257-4328-92fe-638ae7e2eebb",
   "metadata": {},
   "outputs": [],
   "source": [
    "df_group0['moved_within_pref_ratio'] = df_group0.moved_within_pref_first_job / df_group0.counts"
   ]
  },
  {
   "cell_type": "code",
   "execution_count": 32,
   "id": "960c3d37-0e7d-4a1c-9912-df0fb9d08363",
   "metadata": {},
   "outputs": [],
   "source": [
    "df_group0['moved_ratio_SMA_5'] = df_group0['moved_within_pref_ratio'].rolling(window=5).mean()"
   ]
  },
  {
   "cell_type": "code",
   "execution_count": 33,
   "id": "89eea8f6-a3b0-466c-8a37-608a26ae02c9",
   "metadata": {},
   "outputs": [
    {
     "data": {
      "image/png": "[encoded data removed]",
      "text/plain": [
       "<Figure size 432x288 with 1 Axes>"
      ]
     },
     "metadata": {
      "needs_background": "light"
     },
     "output_type": "display_data"
    }
   ],
   "source": [
    "fig, ax = plt.subplots()\n",
    "df_group0.plot(x = 'birth_year', y = 'moved_within_pref_ratio', ax = ax)\n",
    "df_group0.plot(x = 'birth_year', y = 'moved_ratio_SMA_5', ax = ax)\n",
    "plt.show()"
   ]
  },
  {
   "cell_type": "code",
   "execution_count": 34,
   "id": "c12b8a8b-45e6-4d79-a68b-616eae2c5d8d",
   "metadata": {},
   "outputs": [
    {
     "name": "stderr",
     "output_type": "stream",
     "text": [
      "/var/folders/hb/3db8mbcj4l74ztsvqyx17yd00000gn/T/ipykernel_5481/2329475101.py:2: FutureWarning: Indexing with multiple keys (implicitly converted to a tuple of keys) will be deprecated, use a list instead.\n",
      "  df_group01 = _df01.groupby(['first_job_year'])['moved_within_pref_first_job', 'counts'].sum().reset_index()\n"
     ]
    }
   ],
   "source": [
    "_df01 = df[['first_job_year', 'moved_within_pref_first_job', 'counts']].copy()\n",
    "df_group01 = _df01.groupby(['first_job_year'])['moved_within_pref_first_job', 'counts'].sum().reset_index()"
   ]
  },
  {
   "cell_type": "code",
   "execution_count": 35,
   "id": "2d8ddb34-cde8-4a10-acd8-fbb732229171",
   "metadata": {},
   "outputs": [],
   "source": [
    "df_group01['moved_within_pref_ratio'] = df_group01.moved_within_pref_first_job / df_group01.counts"
   ]
  },
  {
   "cell_type": "code",
   "execution_count": 36,
   "id": "173e12ad-31f7-42ff-9243-4a434d413dea",
   "metadata": {},
   "outputs": [],
   "source": [
    "df_group01['moved_ratio_SMA_5'] = df_group01['moved_within_pref_ratio'].rolling(window=5).mean()"
   ]
  },
  {
   "cell_type": "code",
   "execution_count": 37,
   "id": "668450da-56fe-4779-b426-a18318ad4e10",
   "metadata": {},
   "outputs": [],
   "source": [
    "df_group01 = df_group01[df_group01.first_job_year < 1981]"
   ]
  },
  {
   "cell_type": "code",
   "execution_count": 38,
   "id": "e67e95e6-13f6-4f24-918d-e5b6d7d19644",
   "metadata": {},
   "outputs": [
    {
     "data": {
      "image/png": "[encoded data removed]",
      "text/plain": [
       "<Figure size 432x288 with 1 Axes>"
      ]
     },
     "metadata": {
      "needs_background": "light"
     },
     "output_type": "display_data"
    }
   ],
   "source": [
    "fig, ax = plt.subplots()\n",
    "df_group01.plot(x = 'first_job_year', y = 'moved_within_pref_ratio', ax = ax)\n",
    "df_group01.plot(x = 'first_job_year', y = 'moved_ratio_SMA_5', ax = ax)\n",
    "plt.show()"
   ]
  },
  {
   "cell_type": "code",
   "execution_count": 39,
   "id": "60e93274-5aa4-455a-a194-139afd4b4864",
   "metadata": {},
   "outputs": [
    {
     "data": {
      "text/plain": [
       "0.17198196465611384"
      ]
     },
     "execution_count": 39,
     "metadata": {},
     "output_type": "execute_result"
    }
   ],
   "source": [
    "df_group01.loc[(df_group01.first_job_year <= 1940) & (df_group01.first_job_year >= 1930)].moved_within_pref_ratio.mean()"
   ]
  },
  {
   "cell_type": "code",
   "execution_count": 40,
   "id": "afbd2cb0-3961-4a4b-846f-6cb9c43249b4",
   "metadata": {},
   "outputs": [
    {
     "data": {
      "text/plain": [
       "0.12751757424790605"
      ]
     },
     "execution_count": 40,
     "metadata": {},
     "output_type": "execute_result"
    }
   ],
   "source": [
    "df_group01.loc[df_group01.first_job_year <= 1940].moved_within_pref_ratio.mean()"
   ]
  },
  {
   "cell_type": "code",
   "execution_count": 41,
   "id": "15c9eb85-65a3-470f-8013-0ea9f9a2446f",
   "metadata": {},
   "outputs": [
    {
     "data": {
      "text/plain": [
       "0.18108919577811633"
      ]
     },
     "execution_count": 41,
     "metadata": {},
     "output_type": "execute_result"
    }
   ],
   "source": [
    "df_group01.loc[(df_group01.first_job_year <= 1960) & (df_group01.first_job_year >= 1950)].moved_within_pref_ratio.mean()"
   ]
  },
  {
   "cell_type": "code",
   "execution_count": 42,
   "id": "7e02362a-8062-4fca-b017-8e2e9f763d90",
   "metadata": {},
   "outputs": [
    {
     "data": {
      "text/plain": [
       "0.19524235817723465"
      ]
     },
     "execution_count": 42,
     "metadata": {},
     "output_type": "execute_result"
    }
   ],
   "source": [
    "df_group01.loc[(df_group01.first_job_year <= 1970) & (df_group01.first_job_year >= 1960)].moved_within_pref_ratio.mean()"
   ]
  },
  {
   "cell_type": "code",
   "execution_count": 43,
   "id": "80ddbfe6-3fd5-4054-906a-cee24f0e0bdf",
   "metadata": {},
   "outputs": [
    {
     "name": "stderr",
     "output_type": "stream",
     "text": [
      "/var/folders/hb/3db8mbcj4l74ztsvqyx17yd00000gn/T/ipykernel_5481/221325499.py:2: FutureWarning: Indexing with multiple keys (implicitly converted to a tuple of keys) will be deprecated, use a list instead.\n",
      "  df_group2 = _df2.groupby(['first_job_year'])['moved_pref_first_job', 'counts'].sum().reset_index()\n"
     ]
    }
   ],
   "source": [
    "_df2 = df[['first_job_year', 'moved_pref_first_job', 'counts']].copy()\n",
    "df_group2 = _df2.groupby(['first_job_year'])['moved_pref_first_job', 'counts'].sum().reset_index()"
   ]
  },
  {
   "cell_type": "code",
   "execution_count": 44,
   "id": "a022a243-7b13-410b-84cc-66efc952a435",
   "metadata": {},
   "outputs": [],
   "source": [
    "df_group2['moved_pref_ratio'] = df_group2.moved_pref_first_job / df_group2.counts"
   ]
  },
  {
   "cell_type": "code",
   "execution_count": 45,
   "id": "cbbadf59-b0b9-4a05-9118-6003876f2418",
   "metadata": {},
   "outputs": [],
   "source": [
    "df_group2 = df_group2[(df_group2.first_job_year < 1981) & (df_group2.first_job_year >= 1927)]"
   ]
  },
  {
   "cell_type": "code",
   "execution_count": 46,
   "id": "7481f6d0-d2c5-4825-a8f3-8bc94ec034ba",
   "metadata": {},
   "outputs": [],
   "source": [
    "df_group2['moved_ratio_SMA_3'] = df_group2['moved_pref_ratio'].rolling(window=3).mean()"
   ]
  },
  {
   "cell_type": "code",
   "execution_count": 47,
   "id": "8433e159-6816-4584-9894-b261e46e63db",
   "metadata": {},
   "outputs": [
    {
     "data": {
      "image/png": "[encoded data removed]",
      "text/plain": [
       "<Figure size 432x288 with 1 Axes>"
      ]
     },
     "metadata": {
      "needs_background": "light"
     },
     "output_type": "display_data"
    }
   ],
   "source": [
    "fig, ax = plt.subplots()\n",
    "df_group2.plot(x = 'first_job_year', y = 'moved_pref_ratio', ax = ax)\n",
    "df_group2.plot(x = 'first_job_year', y = 'moved_ratio_SMA_3', ax = ax)\n",
    "plt.show()"
   ]
  },
  {
   "cell_type": "code",
   "execution_count": 48,
   "id": "31e26484-ed06-43d9-8c1c-11dc2cdca87f",
   "metadata": {},
   "outputs": [
    {
     "data": {
      "text/html": [
       "<div>\n",
       "<style scoped>\n",
       "    .dataframe tbody tr th:only-of-type {\n",
       "        vertical-align: middle;\n",
       "    }\n",
       "\n",
       "    .dataframe tbody tr th {\n",
       "        vertical-align: top;\n",
       "    }\n",
       "\n",
       "    .dataframe thead th {\n",
       "        text-align: right;\n",
       "    }\n",
       "</style>\n",
       "<table border=\"1\" class=\"dataframe\">\n",
       "  <thead>\n",
       "    <tr style=\"text-align: right;\">\n",
       "      <th></th>\n",
       "      <th>first_job_year</th>\n",
       "      <th>moved_pref_first_job</th>\n",
       "      <th>counts</th>\n",
       "      <th>moved_pref_ratio</th>\n",
       "      <th>moved_ratio_SMA_3</th>\n",
       "    </tr>\n",
       "  </thead>\n",
       "  <tbody>\n",
       "    <tr>\n",
       "      <th>3</th>\n",
       "      <td>1927</td>\n",
       "      <td>4</td>\n",
       "      <td>16</td>\n",
       "      <td>0.250000</td>\n",
       "      <td>NaN</td>\n",
       "    </tr>\n",
       "    <tr>\n",
       "      <th>4</th>\n",
       "      <td>1928</td>\n",
       "      <td>3</td>\n",
       "      <td>27</td>\n",
       "      <td>0.111111</td>\n",
       "      <td>NaN</td>\n",
       "    </tr>\n",
       "    <tr>\n",
       "      <th>5</th>\n",
       "      <td>1929</td>\n",
       "      <td>2</td>\n",
       "      <td>26</td>\n",
       "      <td>0.076923</td>\n",
       "      <td>0.146011</td>\n",
       "    </tr>\n",
       "    <tr>\n",
       "      <th>6</th>\n",
       "      <td>1930</td>\n",
       "      <td>6</td>\n",
       "      <td>29</td>\n",
       "      <td>0.206897</td>\n",
       "      <td>0.131644</td>\n",
       "    </tr>\n",
       "    <tr>\n",
       "      <th>7</th>\n",
       "      <td>1931</td>\n",
       "      <td>6</td>\n",
       "      <td>22</td>\n",
       "      <td>0.272727</td>\n",
       "      <td>0.185516</td>\n",
       "    </tr>\n",
       "    <tr>\n",
       "      <th>8</th>\n",
       "      <td>1932</td>\n",
       "      <td>7</td>\n",
       "      <td>28</td>\n",
       "      <td>0.250000</td>\n",
       "      <td>0.243208</td>\n",
       "    </tr>\n",
       "    <tr>\n",
       "      <th>9</th>\n",
       "      <td>1933</td>\n",
       "      <td>6</td>\n",
       "      <td>43</td>\n",
       "      <td>0.139535</td>\n",
       "      <td>0.220754</td>\n",
       "    </tr>\n",
       "    <tr>\n",
       "      <th>10</th>\n",
       "      <td>1934</td>\n",
       "      <td>10</td>\n",
       "      <td>43</td>\n",
       "      <td>0.232558</td>\n",
       "      <td>0.207364</td>\n",
       "    </tr>\n",
       "    <tr>\n",
       "      <th>11</th>\n",
       "      <td>1935</td>\n",
       "      <td>7</td>\n",
       "      <td>42</td>\n",
       "      <td>0.166667</td>\n",
       "      <td>0.179587</td>\n",
       "    </tr>\n",
       "    <tr>\n",
       "      <th>12</th>\n",
       "      <td>1936</td>\n",
       "      <td>10</td>\n",
       "      <td>42</td>\n",
       "      <td>0.238095</td>\n",
       "      <td>0.212440</td>\n",
       "    </tr>\n",
       "    <tr>\n",
       "      <th>13</th>\n",
       "      <td>1937</td>\n",
       "      <td>11</td>\n",
       "      <td>35</td>\n",
       "      <td>0.314286</td>\n",
       "      <td>0.239683</td>\n",
       "    </tr>\n",
       "    <tr>\n",
       "      <th>14</th>\n",
       "      <td>1938</td>\n",
       "      <td>12</td>\n",
       "      <td>50</td>\n",
       "      <td>0.240000</td>\n",
       "      <td>0.264127</td>\n",
       "    </tr>\n",
       "    <tr>\n",
       "      <th>15</th>\n",
       "      <td>1939</td>\n",
       "      <td>9</td>\n",
       "      <td>46</td>\n",
       "      <td>0.195652</td>\n",
       "      <td>0.249979</td>\n",
       "    </tr>\n",
       "    <tr>\n",
       "      <th>16</th>\n",
       "      <td>1940</td>\n",
       "      <td>15</td>\n",
       "      <td>65</td>\n",
       "      <td>0.230769</td>\n",
       "      <td>0.222140</td>\n",
       "    </tr>\n",
       "    <tr>\n",
       "      <th>17</th>\n",
       "      <td>1941</td>\n",
       "      <td>9</td>\n",
       "      <td>57</td>\n",
       "      <td>0.157895</td>\n",
       "      <td>0.194772</td>\n",
       "    </tr>\n",
       "    <tr>\n",
       "      <th>18</th>\n",
       "      <td>1942</td>\n",
       "      <td>13</td>\n",
       "      <td>50</td>\n",
       "      <td>0.260000</td>\n",
       "      <td>0.216221</td>\n",
       "    </tr>\n",
       "    <tr>\n",
       "      <th>19</th>\n",
       "      <td>1943</td>\n",
       "      <td>11</td>\n",
       "      <td>47</td>\n",
       "      <td>0.234043</td>\n",
       "      <td>0.217312</td>\n",
       "    </tr>\n",
       "    <tr>\n",
       "      <th>20</th>\n",
       "      <td>1944</td>\n",
       "      <td>6</td>\n",
       "      <td>49</td>\n",
       "      <td>0.122449</td>\n",
       "      <td>0.205497</td>\n",
       "    </tr>\n",
       "    <tr>\n",
       "      <th>21</th>\n",
       "      <td>1945</td>\n",
       "      <td>11</td>\n",
       "      <td>59</td>\n",
       "      <td>0.186441</td>\n",
       "      <td>0.180977</td>\n",
       "    </tr>\n",
       "    <tr>\n",
       "      <th>22</th>\n",
       "      <td>1946</td>\n",
       "      <td>13</td>\n",
       "      <td>66</td>\n",
       "      <td>0.196970</td>\n",
       "      <td>0.168620</td>\n",
       "    </tr>\n",
       "    <tr>\n",
       "      <th>23</th>\n",
       "      <td>1947</td>\n",
       "      <td>14</td>\n",
       "      <td>69</td>\n",
       "      <td>0.202899</td>\n",
       "      <td>0.195436</td>\n",
       "    </tr>\n",
       "    <tr>\n",
       "      <th>24</th>\n",
       "      <td>1948</td>\n",
       "      <td>15</td>\n",
       "      <td>84</td>\n",
       "      <td>0.178571</td>\n",
       "      <td>0.192813</td>\n",
       "    </tr>\n",
       "    <tr>\n",
       "      <th>25</th>\n",
       "      <td>1949</td>\n",
       "      <td>17</td>\n",
       "      <td>79</td>\n",
       "      <td>0.215190</td>\n",
       "      <td>0.198887</td>\n",
       "    </tr>\n",
       "    <tr>\n",
       "      <th>26</th>\n",
       "      <td>1950</td>\n",
       "      <td>13</td>\n",
       "      <td>75</td>\n",
       "      <td>0.173333</td>\n",
       "      <td>0.189032</td>\n",
       "    </tr>\n",
       "    <tr>\n",
       "      <th>27</th>\n",
       "      <td>1951</td>\n",
       "      <td>24</td>\n",
       "      <td>89</td>\n",
       "      <td>0.269663</td>\n",
       "      <td>0.219395</td>\n",
       "    </tr>\n",
       "    <tr>\n",
       "      <th>28</th>\n",
       "      <td>1952</td>\n",
       "      <td>21</td>\n",
       "      <td>76</td>\n",
       "      <td>0.276316</td>\n",
       "      <td>0.239771</td>\n",
       "    </tr>\n",
       "    <tr>\n",
       "      <th>29</th>\n",
       "      <td>1953</td>\n",
       "      <td>27</td>\n",
       "      <td>79</td>\n",
       "      <td>0.341772</td>\n",
       "      <td>0.295917</td>\n",
       "    </tr>\n",
       "    <tr>\n",
       "      <th>30</th>\n",
       "      <td>1954</td>\n",
       "      <td>21</td>\n",
       "      <td>67</td>\n",
       "      <td>0.313433</td>\n",
       "      <td>0.310507</td>\n",
       "    </tr>\n",
       "    <tr>\n",
       "      <th>31</th>\n",
       "      <td>1955</td>\n",
       "      <td>30</td>\n",
       "      <td>90</td>\n",
       "      <td>0.333333</td>\n",
       "      <td>0.329513</td>\n",
       "    </tr>\n",
       "    <tr>\n",
       "      <th>32</th>\n",
       "      <td>1956</td>\n",
       "      <td>32</td>\n",
       "      <td>96</td>\n",
       "      <td>0.333333</td>\n",
       "      <td>0.326700</td>\n",
       "    </tr>\n",
       "    <tr>\n",
       "      <th>33</th>\n",
       "      <td>1957</td>\n",
       "      <td>31</td>\n",
       "      <td>99</td>\n",
       "      <td>0.313131</td>\n",
       "      <td>0.326599</td>\n",
       "    </tr>\n",
       "    <tr>\n",
       "      <th>34</th>\n",
       "      <td>1958</td>\n",
       "      <td>29</td>\n",
       "      <td>73</td>\n",
       "      <td>0.397260</td>\n",
       "      <td>0.347908</td>\n",
       "    </tr>\n",
       "    <tr>\n",
       "      <th>35</th>\n",
       "      <td>1959</td>\n",
       "      <td>36</td>\n",
       "      <td>79</td>\n",
       "      <td>0.455696</td>\n",
       "      <td>0.388696</td>\n",
       "    </tr>\n",
       "    <tr>\n",
       "      <th>36</th>\n",
       "      <td>1960</td>\n",
       "      <td>28</td>\n",
       "      <td>89</td>\n",
       "      <td>0.314607</td>\n",
       "      <td>0.389188</td>\n",
       "    </tr>\n",
       "    <tr>\n",
       "      <th>37</th>\n",
       "      <td>1961</td>\n",
       "      <td>35</td>\n",
       "      <td>88</td>\n",
       "      <td>0.397727</td>\n",
       "      <td>0.389343</td>\n",
       "    </tr>\n",
       "    <tr>\n",
       "      <th>38</th>\n",
       "      <td>1962</td>\n",
       "      <td>22</td>\n",
       "      <td>65</td>\n",
       "      <td>0.338462</td>\n",
       "      <td>0.350265</td>\n",
       "    </tr>\n",
       "    <tr>\n",
       "      <th>39</th>\n",
       "      <td>1963</td>\n",
       "      <td>28</td>\n",
       "      <td>66</td>\n",
       "      <td>0.424242</td>\n",
       "      <td>0.386810</td>\n",
       "    </tr>\n",
       "    <tr>\n",
       "      <th>40</th>\n",
       "      <td>1964</td>\n",
       "      <td>38</td>\n",
       "      <td>80</td>\n",
       "      <td>0.475000</td>\n",
       "      <td>0.412568</td>\n",
       "    </tr>\n",
       "    <tr>\n",
       "      <th>41</th>\n",
       "      <td>1965</td>\n",
       "      <td>25</td>\n",
       "      <td>75</td>\n",
       "      <td>0.333333</td>\n",
       "      <td>0.410859</td>\n",
       "    </tr>\n",
       "    <tr>\n",
       "      <th>42</th>\n",
       "      <td>1966</td>\n",
       "      <td>28</td>\n",
       "      <td>71</td>\n",
       "      <td>0.394366</td>\n",
       "      <td>0.400900</td>\n",
       "    </tr>\n",
       "    <tr>\n",
       "      <th>43</th>\n",
       "      <td>1967</td>\n",
       "      <td>32</td>\n",
       "      <td>80</td>\n",
       "      <td>0.400000</td>\n",
       "      <td>0.375900</td>\n",
       "    </tr>\n",
       "    <tr>\n",
       "      <th>44</th>\n",
       "      <td>1968</td>\n",
       "      <td>25</td>\n",
       "      <td>60</td>\n",
       "      <td>0.416667</td>\n",
       "      <td>0.403678</td>\n",
       "    </tr>\n",
       "    <tr>\n",
       "      <th>45</th>\n",
       "      <td>1969</td>\n",
       "      <td>34</td>\n",
       "      <td>75</td>\n",
       "      <td>0.453333</td>\n",
       "      <td>0.423333</td>\n",
       "    </tr>\n",
       "    <tr>\n",
       "      <th>46</th>\n",
       "      <td>1970</td>\n",
       "      <td>34</td>\n",
       "      <td>69</td>\n",
       "      <td>0.492754</td>\n",
       "      <td>0.454251</td>\n",
       "    </tr>\n",
       "    <tr>\n",
       "      <th>47</th>\n",
       "      <td>1971</td>\n",
       "      <td>34</td>\n",
       "      <td>66</td>\n",
       "      <td>0.515152</td>\n",
       "      <td>0.487079</td>\n",
       "    </tr>\n",
       "    <tr>\n",
       "      <th>48</th>\n",
       "      <td>1972</td>\n",
       "      <td>23</td>\n",
       "      <td>62</td>\n",
       "      <td>0.370968</td>\n",
       "      <td>0.459624</td>\n",
       "    </tr>\n",
       "    <tr>\n",
       "      <th>49</th>\n",
       "      <td>1973</td>\n",
       "      <td>28</td>\n",
       "      <td>56</td>\n",
       "      <td>0.500000</td>\n",
       "      <td>0.462040</td>\n",
       "    </tr>\n",
       "    <tr>\n",
       "      <th>50</th>\n",
       "      <td>1974</td>\n",
       "      <td>23</td>\n",
       "      <td>53</td>\n",
       "      <td>0.433962</td>\n",
       "      <td>0.434977</td>\n",
       "    </tr>\n",
       "    <tr>\n",
       "      <th>51</th>\n",
       "      <td>1975</td>\n",
       "      <td>10</td>\n",
       "      <td>25</td>\n",
       "      <td>0.400000</td>\n",
       "      <td>0.444654</td>\n",
       "    </tr>\n",
       "    <tr>\n",
       "      <th>52</th>\n",
       "      <td>1976</td>\n",
       "      <td>4</td>\n",
       "      <td>17</td>\n",
       "      <td>0.235294</td>\n",
       "      <td>0.356419</td>\n",
       "    </tr>\n",
       "    <tr>\n",
       "      <th>53</th>\n",
       "      <td>1977</td>\n",
       "      <td>10</td>\n",
       "      <td>21</td>\n",
       "      <td>0.476190</td>\n",
       "      <td>0.370495</td>\n",
       "    </tr>\n",
       "    <tr>\n",
       "      <th>54</th>\n",
       "      <td>1978</td>\n",
       "      <td>3</td>\n",
       "      <td>13</td>\n",
       "      <td>0.230769</td>\n",
       "      <td>0.314085</td>\n",
       "    </tr>\n",
       "    <tr>\n",
       "      <th>55</th>\n",
       "      <td>1979</td>\n",
       "      <td>5</td>\n",
       "      <td>8</td>\n",
       "      <td>0.625000</td>\n",
       "      <td>0.443987</td>\n",
       "    </tr>\n",
       "    <tr>\n",
       "      <th>56</th>\n",
       "      <td>1980</td>\n",
       "      <td>3</td>\n",
       "      <td>5</td>\n",
       "      <td>0.600000</td>\n",
       "      <td>0.485256</td>\n",
       "    </tr>\n",
       "  </tbody>\n",
       "</table>\n",
       "</div>"
      ],
      "text/plain": [
       "    first_job_year  moved_pref_first_job  counts  moved_pref_ratio  \\\n",
       "3             1927                     4      16          0.250000   \n",
       "4             1928                     3      27          0.111111   \n",
       "5             1929                     2      26          0.076923   \n",
       "6             1930                     6      29          0.206897   \n",
       "7             1931                     6      22          0.272727   \n",
       "8             1932                     7      28          0.250000   \n",
       "9             1933                     6      43          0.139535   \n",
       "10            1934                    10      43          0.232558   \n",
       "11            1935                     7      42          0.166667   \n",
       "12            1936                    10      42          0.238095   \n",
       "13            1937                    11      35          0.314286   \n",
       "14            1938                    12      50          0.240000   \n",
       "15            1939                     9      46          0.195652   \n",
       "16            1940                    15      65          0.230769   \n",
       "17            1941                     9      57          0.157895   \n",
       "18            1942                    13      50          0.260000   \n",
       "19            1943                    11      47          0.234043   \n",
       "20            1944                     6      49          0.122449   \n",
       "21            1945                    11      59          0.186441   \n",
       "22            1946                    13      66          0.196970   \n",
       "23            1947                    14      69          0.202899   \n",
       "24            1948                    15      84          0.178571   \n",
       "25            1949                    17      79          0.215190   \n",
       "26            1950                    13      75          0.173333   \n",
       "27            1951                    24      89          0.269663   \n",
       "28            1952                    21      76          0.276316   \n",
       "29            1953                    27      79          0.341772   \n",
       "30            1954                    21      67          0.313433   \n",
       "31            1955                    30      90          0.333333   \n",
       "32            1956                    32      96          0.333333   \n",
       "33            1957                    31      99          0.313131   \n",
       "34            1958                    29      73          0.397260   \n",
       "35            1959                    36      79          0.455696   \n",
       "36            1960                    28      89          0.314607   \n",
       "37            1961                    35      88          0.397727   \n",
       "38            1962                    22      65          0.338462   \n",
       "39            1963                    28      66          0.424242   \n",
       "40            1964                    38      80          0.475000   \n",
       "41            1965                    25      75          0.333333   \n",
       "42            1966                    28      71          0.394366   \n",
       "43            1967                    32      80          0.400000   \n",
       "44            1968                    25      60          0.416667   \n",
       "45            1969                    34      75          0.453333   \n",
       "46            1970                    34      69          0.492754   \n",
       "47            1971                    34      66          0.515152   \n",
       "48            1972                    23      62          0.370968   \n",
       "49            1973                    28      56          0.500000   \n",
       "50            1974                    23      53          0.433962   \n",
       "51            1975                    10      25          0.400000   \n",
       "52            1976                     4      17          0.235294   \n",
       "53            1977                    10      21          0.476190   \n",
       "54            1978                     3      13          0.230769   \n",
       "55            1979                     5       8          0.625000   \n",
       "56            1980                     3       5          0.600000   \n",
       "\n",
       "    moved_ratio_SMA_3  \n",
       "3                 NaN  \n",
       "4                 NaN  \n",
       "5            0.146011  \n",
       "6            0.131644  \n",
       "7            0.185516  \n",
       "8            0.243208  \n",
       "9            0.220754  \n",
       "10           0.207364  \n",
       "11           0.179587  \n",
       "12           0.212440  \n",
       "13           0.239683  \n",
       "14           0.264127  \n",
       "15           0.249979  \n",
       "16           0.222140  \n",
       "17           0.194772  \n",
       "18           0.216221  \n",
       "19           0.217312  \n",
       "20           0.205497  \n",
       "21           0.180977  \n",
       "22           0.168620  \n",
       "23           0.195436  \n",
       "24           0.192813  \n",
       "25           0.198887  \n",
       "26           0.189032  \n",
       "27           0.219395  \n",
       "28           0.239771  \n",
       "29           0.295917  \n",
       "30           0.310507  \n",
       "31           0.329513  \n",
       "32           0.326700  \n",
       "33           0.326599  \n",
       "34           0.347908  \n",
       "35           0.388696  \n",
       "36           0.389188  \n",
       "37           0.389343  \n",
       "38           0.350265  \n",
       "39           0.386810  \n",
       "40           0.412568  \n",
       "41           0.410859  \n",
       "42           0.400900  \n",
       "43           0.375900  \n",
       "44           0.403678  \n",
       "45           0.423333  \n",
       "46           0.454251  \n",
       "47           0.487079  \n",
       "48           0.459624  \n",
       "49           0.462040  \n",
       "50           0.434977  \n",
       "51           0.444654  \n",
       "52           0.356419  \n",
       "53           0.370495  \n",
       "54           0.314085  \n",
       "55           0.443987  \n",
       "56           0.485256  "
      ]
     },
     "execution_count": 48,
     "metadata": {},
     "output_type": "execute_result"
    }
   ],
   "source": [
    "df_group2"
   ]
  },
  {
   "cell_type": "code",
   "execution_count": 49,
   "id": "c57a8b4c-c4eb-448b-bfec-04ce70cc89b6",
   "metadata": {},
   "outputs": [
    {
     "data": {
      "text/plain": [
       "0.22610780649428344"
      ]
     },
     "execution_count": 49,
     "metadata": {},
     "output_type": "execute_result"
    }
   ],
   "source": [
    "df_group2.loc[(df_group2.first_job_year <= 1940) & (df_group2.first_job_year >= 1930)].moved_pref_ratio.mean()"
   ]
  },
  {
   "cell_type": "code",
   "execution_count": 50,
   "id": "c40c5577-172e-4f45-8bef-04ccafcff834",
   "metadata": {},
   "outputs": [
    {
     "data": {
      "text/plain": [
       "0.20894428996223616"
      ]
     },
     "execution_count": 50,
     "metadata": {},
     "output_type": "execute_result"
    }
   ],
   "source": [
    "df_group2.loc[df_group2.first_job_year <= 1940].moved_pref_ratio.mean()"
   ]
  },
  {
   "cell_type": "code",
   "execution_count": 51,
   "id": "48c18d8d-298b-4ef1-ae18-fa6d51bb27ac",
   "metadata": {},
   "outputs": [
    {
     "data": {
      "text/plain": [
       "0.32017074815911123"
      ]
     },
     "execution_count": 51,
     "metadata": {},
     "output_type": "execute_result"
    }
   ],
   "source": [
    "df_group2.loc[(df_group2.first_job_year <= 1960) & (df_group2.first_job_year >= 1950)].moved_pref_ratio.mean()"
   ]
  },
  {
   "cell_type": "code",
   "execution_count": 52,
   "id": "d155c87e-681c-4e53-a239-0fc79ccbfeae",
   "metadata": {},
   "outputs": [
    {
     "data": {
      "text/plain": [
       "0.40368101188264605"
      ]
     },
     "execution_count": 52,
     "metadata": {},
     "output_type": "execute_result"
    }
   ],
   "source": [
    "df_group2.loc[(df_group2.first_job_year <= 1970) & (df_group2.first_job_year >= 1960)].moved_pref_ratio.mean()"
   ]
  },
  {
   "cell_type": "code",
   "execution_count": 53,
   "id": "aa40a3c9-89f4-433b-9b56-b853b42a1d4a",
   "metadata": {},
   "outputs": [
    {
     "name": "stderr",
     "output_type": "stream",
     "text": [
      "/var/folders/hb/3db8mbcj4l74ztsvqyx17yd00000gn/T/ipykernel_5481/1352619254.py:2: FutureWarning: Indexing with multiple keys (implicitly converted to a tuple of keys) will be deprecated, use a list instead.\n",
      "  df_group3 = _df3.groupby(['first_job_year'])['moved_first_job', 'counts'].sum().reset_index()\n"
     ]
    }
   ],
   "source": [
    "_df3 = df[['first_job_year', 'moved_first_job', 'counts']].copy()\n",
    "df_group3 = _df3.groupby(['first_job_year'])['moved_first_job', 'counts'].sum().reset_index()"
   ]
  },
  {
   "cell_type": "code",
   "execution_count": 54,
   "id": "8731f825-bf38-437c-9a47-2e7233bc5f28",
   "metadata": {},
   "outputs": [],
   "source": [
    "df_group3 = df_group3[(df_group3.first_job_year <= 1980) & (df_group3.first_job_year >= 1926)]"
   ]
  },
  {
   "cell_type": "code",
   "execution_count": 55,
   "id": "fac6842a-6436-411f-b1b4-f8a867978779",
   "metadata": {},
   "outputs": [],
   "source": [
    "df_group3['moved_ratio'] = df_group3.moved_first_job / df_group3.counts"
   ]
  },
  {
   "cell_type": "code",
   "execution_count": 56,
   "id": "2ccf563d-c422-4717-bee8-abefae17b4e8",
   "metadata": {},
   "outputs": [],
   "source": [
    "df_group3['moved_ratio_SMA_5'] = df_group3['moved_ratio'].rolling(window=5).mean()"
   ]
  },
  {
   "cell_type": "code",
   "execution_count": 57,
   "id": "511afba4-540f-424e-8df7-6d1da8a9d4e2",
   "metadata": {},
   "outputs": [
    {
     "data": {
      "image/png": "[encoded data removed]",
      "text/plain": [
       "<Figure size 432x288 with 1 Axes>"
      ]
     },
     "metadata": {
      "needs_background": "light"
     },
     "output_type": "display_data"
    }
   ],
   "source": [
    "fig, ax = plt.subplots()\n",
    "df_group3.plot(x = 'first_job_year', y = 'moved_ratio', ax = ax)\n",
    "df_group3.plot(x = 'first_job_year', y = 'moved_ratio_SMA_5', ax = ax)\n",
    "plt.show()"
   ]
  },
  {
   "cell_type": "code",
   "execution_count": 58,
   "id": "95f21c3e-2095-44e6-a8eb-d1ecea2b7b1d",
   "metadata": {},
   "outputs": [
    {
     "data": {
      "text/plain": [
       "0.3980897711503973"
      ]
     },
     "execution_count": 58,
     "metadata": {},
     "output_type": "execute_result"
    }
   ],
   "source": [
    "df_group3.loc[(df_group3.first_job_year <= 1940) & (df_group3.first_job_year >= 1930)].moved_ratio.mean()"
   ]
  },
  {
   "cell_type": "code",
   "execution_count": 59,
   "id": "0926ad4f-89fe-4249-a958-65af21f66cae",
   "metadata": {},
   "outputs": [
    {
     "data": {
      "text/plain": [
       "0.35620125477904724"
      ]
     },
     "execution_count": 59,
     "metadata": {},
     "output_type": "execute_result"
    }
   ],
   "source": [
    "df_group3.loc[df_group3.first_job_year <= 1940].moved_ratio.mean()"
   ]
  },
  {
   "cell_type": "code",
   "execution_count": 60,
   "id": "f0f83154-3c9f-4d61-acd6-0d5e5ac2d590",
   "metadata": {},
   "outputs": [
    {
     "data": {
      "text/plain": [
       "0.5012599439372276"
      ]
     },
     "execution_count": 60,
     "metadata": {},
     "output_type": "execute_result"
    }
   ],
   "source": [
    "df_group3.loc[(df_group3.first_job_year <= 1960) & (df_group3.first_job_year >= 1950)].moved_ratio.mean()"
   ]
  },
  {
   "cell_type": "code",
   "execution_count": 61,
   "id": "5dd6b67a-06d0-4a79-bc0b-0d1024c0fa12",
   "metadata": {},
   "outputs": [
    {
     "data": {
      "text/plain": [
       "0.5989233700598807"
      ]
     },
     "execution_count": 61,
     "metadata": {},
     "output_type": "execute_result"
    }
   ],
   "source": [
    "df_group3.loc[(df_group3.first_job_year <= 1970) & (df_group3.first_job_year >= 1960)].moved_ratio.mean()"
   ]
  },
  {
   "cell_type": "code",
   "execution_count": 62,
   "id": "5ddedc3c-4bda-48f5-82e8-469d8d3b8410",
   "metadata": {},
   "outputs": [],
   "source": [
    "_df4 = df[['first_job_year', 'birth_year','q2', 'counts']].copy()"
   ]
  },
  {
   "cell_type": "code",
   "execution_count": 63,
   "id": "b4e19d86-5ea7-42ea-ac37-2fc02d93d440",
   "metadata": {},
   "outputs": [
    {
     "data": {
      "text/plain": [
       "0       1\n",
       "1       1\n",
       "2       1\n",
       "3       1\n",
       "4       1\n",
       "       ..\n",
       "4213    1\n",
       "4216    2\n",
       "4238    2\n",
       "4243    2\n",
       "4244    2\n",
       "Name: q2, Length: 3069, dtype: int64"
      ]
     },
     "execution_count": 63,
     "metadata": {},
     "output_type": "execute_result"
    }
   ],
   "source": [
    "_df4.q2"
   ]
  },
  {
   "cell_type": "code",
   "execution_count": 64,
   "id": "dea7970c-680b-4dfb-8545-3354a685cf16",
   "metadata": {},
   "outputs": [],
   "source": [
    "q2_dict = {\n",
    "    1:0,\n",
    "    2:1\n",
    "}"
   ]
  },
  {
   "cell_type": "code",
   "execution_count": 65,
   "id": "29f96079-e4f7-4804-a909-05d5adb327ec",
   "metadata": {},
   "outputs": [],
   "source": [
    "_df4.q2 = _df4.q2.map(q2_dict)"
   ]
  },
  {
   "cell_type": "code",
   "execution_count": 66,
   "id": "5055e268-0397-4d86-afa8-9d02d1fc30d2",
   "metadata": {},
   "outputs": [
    {
     "data": {
      "text/plain": [
       "0       0\n",
       "1       0\n",
       "2       0\n",
       "3       0\n",
       "4       0\n",
       "       ..\n",
       "4213    0\n",
       "4216    1\n",
       "4238    1\n",
       "4243    1\n",
       "4244    1\n",
       "Name: q2, Length: 3069, dtype: int64"
      ]
     },
     "execution_count": 66,
     "metadata": {},
     "output_type": "execute_result"
    }
   ],
   "source": [
    "_df4.q2"
   ]
  },
  {
   "cell_type": "code",
   "execution_count": 67,
   "id": "9b580d63-38ea-4621-ab34-98ce46ce7a57",
   "metadata": {},
   "outputs": [
    {
     "name": "stderr",
     "output_type": "stream",
     "text": [
      "/var/folders/hb/3db8mbcj4l74ztsvqyx17yd00000gn/T/ipykernel_5481/3784363881.py:1: FutureWarning: Indexing with multiple keys (implicitly converted to a tuple of keys) will be deprecated, use a list instead.\n",
      "  df_group4 = _df4.groupby(['first_job_year'])['q2', 'counts'].sum().reset_index()\n"
     ]
    }
   ],
   "source": [
    "df_group4 = _df4.groupby(['first_job_year'])['q2', 'counts'].sum().reset_index()"
   ]
  },
  {
   "cell_type": "code",
   "execution_count": 68,
   "id": "fb88a3f5-ec69-49fc-a02c-e82a74db1717",
   "metadata": {},
   "outputs": [
    {
     "name": "stderr",
     "output_type": "stream",
     "text": [
      "/var/folders/hb/3db8mbcj4l74ztsvqyx17yd00000gn/T/ipykernel_5481/114356776.py:1: FutureWarning: Indexing with multiple keys (implicitly converted to a tuple of keys) will be deprecated, use a list instead.\n",
      "  df_group5 = _df4.groupby(['birth_year'])['q2', 'counts'].sum().reset_index()\n"
     ]
    }
   ],
   "source": [
    "df_group5 = _df4.groupby(['birth_year'])['q2', 'counts'].sum().reset_index()"
   ]
  },
  {
   "cell_type": "code",
   "execution_count": 69,
   "id": "a12a04f1-ae8e-4abd-98fe-35be96203fda",
   "metadata": {},
   "outputs": [],
   "source": [
    "df_group4 = df_group4[df_group4.first_job_year <= 1981]"
   ]
  },
  {
   "cell_type": "code",
   "execution_count": 70,
   "id": "7391fb1f-5204-49e1-9be0-27a147f642ae",
   "metadata": {},
   "outputs": [],
   "source": [
    "df_group4['moved_ratio'] = df_group4.q2/ df_group4.counts"
   ]
  },
  {
   "cell_type": "code",
   "execution_count": 71,
   "id": "26b65e37-347e-45a9-baa2-eab19a2b8594",
   "metadata": {},
   "outputs": [],
   "source": [
    "df_group4['moved_ratio_SMA_5'] = df_group4['moved_ratio'].rolling(window=5).mean()"
   ]
  },
  {
   "cell_type": "code",
   "execution_count": 72,
   "id": "bd2f197d-c5f5-499a-ae0e-9b0d7e85a882",
   "metadata": {},
   "outputs": [],
   "source": [
    "df_group5['moved_ratio'] = df_group5.q2/ df_group5.counts"
   ]
  },
  {
   "cell_type": "code",
   "execution_count": 73,
   "id": "becc48cf-0230-470b-9fac-ec55f7682633",
   "metadata": {},
   "outputs": [],
   "source": [
    "df_group5['moved_ratio_SMA_5'] = df_group5['moved_ratio'].rolling(window=5).mean()"
   ]
  },
  {
   "cell_type": "code",
   "execution_count": 74,
   "id": "14fc7464-e022-40ad-a31c-4f0ff5247534",
   "metadata": {},
   "outputs": [],
   "source": [
    "df_group5 = df_group5[df_group5.birth_year <= 1956]"
   ]
  },
  {
   "cell_type": "code",
   "execution_count": 75,
   "id": "1f104d59-33a7-4db6-b047-a3521f472bb7",
   "metadata": {},
   "outputs": [
    {
     "data": {
      "image/png": "[encoded data removed]",
      "text/plain": [
       "<Figure size 432x288 with 1 Axes>"
      ]
     },
     "metadata": {
      "needs_background": "light"
     },
     "output_type": "display_data"
    }
   ],
   "source": [
    "fig, ax = plt.subplots()\n",
    "df_group4.plot(x = 'first_job_year', y = 'moved_ratio', ax = ax)\n",
    "df_group4.plot(x = 'first_job_year', y = 'moved_ratio_SMA_5', ax = ax)\n",
    "plt.show()"
   ]
  },
  {
   "cell_type": "code",
   "execution_count": 76,
   "id": "0b283b13-b63f-4863-a897-d9eb894810d6",
   "metadata": {},
   "outputs": [
    {
     "data": {
      "image/png": "[encoded data removed]",
      "text/plain": [
       "<Figure size 432x288 with 1 Axes>"
      ]
     },
     "metadata": {
      "needs_background": "light"
     },
     "output_type": "display_data"
    }
   ],
   "source": [
    "fig, ax = plt.subplots()\n",
    "df_group5.plot(x = 'birth_year', y = 'moved_ratio', ax = ax)\n",
    "df_group5.plot(x = 'birth_year', y = 'moved_ratio_SMA_5', ax = ax)\n",
    "plt.show()"
   ]
  },
  {
   "cell_type": "code",
   "execution_count": 77,
   "id": "a975b97e-8d70-49b0-994e-20cebd87b7cd",
   "metadata": {},
   "outputs": [
    {
     "data": {
      "text/plain": [
       "0        3\n",
       "1        1\n",
       "2        3\n",
       "3        1\n",
       "4        1\n",
       "        ..\n",
       "4213     7\n",
       "4216     7\n",
       "4238    99\n",
       "4243     3\n",
       "4244     3\n",
       "Name: q15_8, Length: 3069, dtype: int64"
      ]
     },
     "execution_count": 77,
     "metadata": {},
     "output_type": "execute_result"
    }
   ],
   "source": [
    "df.q15_8"
   ]
  },
  {
   "cell_type": "code",
   "execution_count": 78,
   "id": "9857571f-29e8-483a-8e77-72768575a8d8",
   "metadata": {},
   "outputs": [],
   "source": [
    "df['first_job_school'] = 0\n",
    "df.loc[df.q15_8 == 3, 'first_job_school'] = 1"
   ]
  },
  {
   "cell_type": "code",
   "execution_count": 79,
   "id": "43695699-c9b7-4978-99e8-7a074931cab7",
   "metadata": {},
   "outputs": [],
   "source": [
    "#df['first_job_pub_emp'] = 0\n",
    "#df.loc[df.q15_8 == 4, 'first_job_pub_emp'] = 1"
   ]
  },
  {
   "cell_type": "code",
   "execution_count": 80,
   "id": "77843b3d-d4ad-48b2-b228-66e41c40cca8",
   "metadata": {},
   "outputs": [],
   "source": [
    "# define pub emp as the sum of school and pub emp\n",
    "df['first_job_pub_emp'] = 0\n",
    "df.loc[df.q15_8 == 3, 'first_job_pub_emp'] = 1\n",
    "df.loc[df.q15_8 == 4, 'first_job_pub_emp'] = 1"
   ]
  },
  {
   "cell_type": "code",
   "execution_count": 81,
   "id": "6af7cb29-be17-412a-a8fa-bc841936dd21",
   "metadata": {},
   "outputs": [],
   "source": [
    "df['first_job_conn'] = 0\n",
    "df.loc[df.q15_8 == 1, 'first_job_conn'] = 1\n",
    "df.loc[df.q15_8 == 2, 'first_job_conn'] = 1"
   ]
  },
  {
   "cell_type": "code",
   "execution_count": 82,
   "id": "119db8e4-c425-40c6-945b-75e692766dd3",
   "metadata": {},
   "outputs": [],
   "source": [
    "df['first_job_adv'] = 0\n",
    "df.loc[df.q15_8 == 5, 'first_job_adv'] = 1"
   ]
  },
  {
   "cell_type": "code",
   "execution_count": 83,
   "id": "65984cba-9c8e-45f6-8988-252d928b83be",
   "metadata": {},
   "outputs": [],
   "source": [
    "df['first_job_other'] = 0\n",
    "df.loc[df.q15_8 == 6, 'first_job_other'] = 1"
   ]
  },
  {
   "cell_type": "code",
   "execution_count": 84,
   "id": "88f077de-ac9c-46e2-b5c6-c5a667685cd7",
   "metadata": {},
   "outputs": [],
   "source": [
    "df['first_job_self'] = 0\n",
    "df.loc[df.q15_8 == 7, 'first_job_self'] = 1"
   ]
  },
  {
   "cell_type": "code",
   "execution_count": 85,
   "id": "6c135dd0-3133-4282-a1bd-6a0feb38ac4e",
   "metadata": {},
   "outputs": [
    {
     "data": {
      "text/html": [
       "<div>\n",
       "<style scoped>\n",
       "    .dataframe tbody tr th:only-of-type {\n",
       "        vertical-align: middle;\n",
       "    }\n",
       "\n",
       "    .dataframe tbody tr th {\n",
       "        vertical-align: top;\n",
       "    }\n",
       "\n",
       "    .dataframe thead th {\n",
       "        text-align: right;\n",
       "    }\n",
       "</style>\n",
       "<table border=\"1\" class=\"dataframe\">\n",
       "  <thead>\n",
       "    <tr style=\"text-align: right;\">\n",
       "      <th></th>\n",
       "      <th>Unnamed: 0</th>\n",
       "      <th>sampleno</th>\n",
       "      <th>kyojuuchi</th>\n",
       "      <th>q1</th>\n",
       "      <th>q2</th>\n",
       "      <th>q3</th>\n",
       "      <th>q3_toshiruikei</th>\n",
       "      <th>q4_1</th>\n",
       "      <th>q4_2</th>\n",
       "      <th>q5_1</th>\n",
       "      <th>...</th>\n",
       "      <th>moved_first_job</th>\n",
       "      <th>birth_year</th>\n",
       "      <th>counts</th>\n",
       "      <th>first_job_year</th>\n",
       "      <th>first_job_school</th>\n",
       "      <th>first_job_pub_emp</th>\n",
       "      <th>first_job_conn</th>\n",
       "      <th>first_job_adv</th>\n",
       "      <th>first_job_other</th>\n",
       "      <th>first_job_self</th>\n",
       "    </tr>\n",
       "  </thead>\n",
       "  <tbody>\n",
       "    <tr>\n",
       "      <th>0</th>\n",
       "      <td>0</td>\n",
       "      <td>1</td>\n",
       "      <td>10</td>\n",
       "      <td>53</td>\n",
       "      <td>1</td>\n",
       "      <td>10</td>\n",
       "      <td>4</td>\n",
       "      <td>4</td>\n",
       "      <td>3</td>\n",
       "      <td>3</td>\n",
       "      <td>...</td>\n",
       "      <td>1</td>\n",
       "      <td>1928</td>\n",
       "      <td>1</td>\n",
       "      <td>1942</td>\n",
       "      <td>1</td>\n",
       "      <td>1</td>\n",
       "      <td>0</td>\n",
       "      <td>0</td>\n",
       "      <td>0</td>\n",
       "      <td>0</td>\n",
       "    </tr>\n",
       "    <tr>\n",
       "      <th>1</th>\n",
       "      <td>1</td>\n",
       "      <td>2</td>\n",
       "      <td>10</td>\n",
       "      <td>61</td>\n",
       "      <td>1</td>\n",
       "      <td>10</td>\n",
       "      <td>4</td>\n",
       "      <td>4</td>\n",
       "      <td>3</td>\n",
       "      <td>3</td>\n",
       "      <td>...</td>\n",
       "      <td>0</td>\n",
       "      <td>1920</td>\n",
       "      <td>1</td>\n",
       "      <td>1938</td>\n",
       "      <td>0</td>\n",
       "      <td>0</td>\n",
       "      <td>1</td>\n",
       "      <td>0</td>\n",
       "      <td>0</td>\n",
       "      <td>0</td>\n",
       "    </tr>\n",
       "    <tr>\n",
       "      <th>2</th>\n",
       "      <td>2</td>\n",
       "      <td>3</td>\n",
       "      <td>10</td>\n",
       "      <td>49</td>\n",
       "      <td>1</td>\n",
       "      <td>10</td>\n",
       "      <td>4</td>\n",
       "      <td>6</td>\n",
       "      <td>3</td>\n",
       "      <td>1</td>\n",
       "      <td>...</td>\n",
       "      <td>1</td>\n",
       "      <td>1932</td>\n",
       "      <td>1</td>\n",
       "      <td>1950</td>\n",
       "      <td>1</td>\n",
       "      <td>1</td>\n",
       "      <td>0</td>\n",
       "      <td>0</td>\n",
       "      <td>0</td>\n",
       "      <td>0</td>\n",
       "    </tr>\n",
       "    <tr>\n",
       "      <th>3</th>\n",
       "      <td>3</td>\n",
       "      <td>4</td>\n",
       "      <td>10</td>\n",
       "      <td>69</td>\n",
       "      <td>1</td>\n",
       "      <td>10</td>\n",
       "      <td>4</td>\n",
       "      <td>9</td>\n",
       "      <td>6</td>\n",
       "      <td>6</td>\n",
       "      <td>...</td>\n",
       "      <td>1</td>\n",
       "      <td>1912</td>\n",
       "      <td>1</td>\n",
       "      <td>1937</td>\n",
       "      <td>0</td>\n",
       "      <td>0</td>\n",
       "      <td>1</td>\n",
       "      <td>0</td>\n",
       "      <td>0</td>\n",
       "      <td>0</td>\n",
       "    </tr>\n",
       "    <tr>\n",
       "      <th>4</th>\n",
       "      <td>4</td>\n",
       "      <td>5</td>\n",
       "      <td>10</td>\n",
       "      <td>45</td>\n",
       "      <td>1</td>\n",
       "      <td>10</td>\n",
       "      <td>4</td>\n",
       "      <td>4</td>\n",
       "      <td>1</td>\n",
       "      <td>3</td>\n",
       "      <td>...</td>\n",
       "      <td>1</td>\n",
       "      <td>1936</td>\n",
       "      <td>1</td>\n",
       "      <td>1952</td>\n",
       "      <td>0</td>\n",
       "      <td>0</td>\n",
       "      <td>1</td>\n",
       "      <td>0</td>\n",
       "      <td>0</td>\n",
       "      <td>0</td>\n",
       "    </tr>\n",
       "    <tr>\n",
       "      <th>...</th>\n",
       "      <td>...</td>\n",
       "      <td>...</td>\n",
       "      <td>...</td>\n",
       "      <td>...</td>\n",
       "      <td>...</td>\n",
       "      <td>...</td>\n",
       "      <td>...</td>\n",
       "      <td>...</td>\n",
       "      <td>...</td>\n",
       "      <td>...</td>\n",
       "      <td>...</td>\n",
       "      <td>...</td>\n",
       "      <td>...</td>\n",
       "      <td>...</td>\n",
       "      <td>...</td>\n",
       "      <td>...</td>\n",
       "      <td>...</td>\n",
       "      <td>...</td>\n",
       "      <td>...</td>\n",
       "      <td>...</td>\n",
       "      <td>...</td>\n",
       "    </tr>\n",
       "    <tr>\n",
       "      <th>4213</th>\n",
       "      <td>4213</td>\n",
       "      <td>4214</td>\n",
       "      <td>2</td>\n",
       "      <td>48</td>\n",
       "      <td>1</td>\n",
       "      <td>2</td>\n",
       "      <td>4</td>\n",
       "      <td>3</td>\n",
       "      <td>3</td>\n",
       "      <td>3</td>\n",
       "      <td>...</td>\n",
       "      <td>0</td>\n",
       "      <td>1933</td>\n",
       "      <td>1</td>\n",
       "      <td>1948</td>\n",
       "      <td>0</td>\n",
       "      <td>0</td>\n",
       "      <td>0</td>\n",
       "      <td>0</td>\n",
       "      <td>0</td>\n",
       "      <td>1</td>\n",
       "    </tr>\n",
       "    <tr>\n",
       "      <th>4216</th>\n",
       "      <td>4216</td>\n",
       "      <td>4217</td>\n",
       "      <td>47</td>\n",
       "      <td>56</td>\n",
       "      <td>2</td>\n",
       "      <td>50</td>\n",
       "      <td>7</td>\n",
       "      <td>4</td>\n",
       "      <td>2</td>\n",
       "      <td>2</td>\n",
       "      <td>...</td>\n",
       "      <td>1</td>\n",
       "      <td>1925</td>\n",
       "      <td>1</td>\n",
       "      <td>1947</td>\n",
       "      <td>0</td>\n",
       "      <td>0</td>\n",
       "      <td>0</td>\n",
       "      <td>0</td>\n",
       "      <td>0</td>\n",
       "      <td>1</td>\n",
       "    </tr>\n",
       "    <tr>\n",
       "      <th>4238</th>\n",
       "      <td>4238</td>\n",
       "      <td>4239</td>\n",
       "      <td>47</td>\n",
       "      <td>49</td>\n",
       "      <td>2</td>\n",
       "      <td>46</td>\n",
       "      <td>4</td>\n",
       "      <td>6</td>\n",
       "      <td>6</td>\n",
       "      <td>4</td>\n",
       "      <td>...</td>\n",
       "      <td>1</td>\n",
       "      <td>1932</td>\n",
       "      <td>1</td>\n",
       "      <td>1950</td>\n",
       "      <td>0</td>\n",
       "      <td>0</td>\n",
       "      <td>0</td>\n",
       "      <td>0</td>\n",
       "      <td>0</td>\n",
       "      <td>0</td>\n",
       "    </tr>\n",
       "    <tr>\n",
       "      <th>4243</th>\n",
       "      <td>4243</td>\n",
       "      <td>4244</td>\n",
       "      <td>47</td>\n",
       "      <td>31</td>\n",
       "      <td>2</td>\n",
       "      <td>44</td>\n",
       "      <td>3</td>\n",
       "      <td>6</td>\n",
       "      <td>5</td>\n",
       "      <td>4</td>\n",
       "      <td>...</td>\n",
       "      <td>1</td>\n",
       "      <td>1950</td>\n",
       "      <td>1</td>\n",
       "      <td>1968</td>\n",
       "      <td>1</td>\n",
       "      <td>1</td>\n",
       "      <td>0</td>\n",
       "      <td>0</td>\n",
       "      <td>0</td>\n",
       "      <td>0</td>\n",
       "    </tr>\n",
       "    <tr>\n",
       "      <th>4244</th>\n",
       "      <td>4244</td>\n",
       "      <td>4245</td>\n",
       "      <td>47</td>\n",
       "      <td>32</td>\n",
       "      <td>2</td>\n",
       "      <td>4</td>\n",
       "      <td>4</td>\n",
       "      <td>6</td>\n",
       "      <td>5</td>\n",
       "      <td>4</td>\n",
       "      <td>...</td>\n",
       "      <td>1</td>\n",
       "      <td>1949</td>\n",
       "      <td>1</td>\n",
       "      <td>1964</td>\n",
       "      <td>1</td>\n",
       "      <td>1</td>\n",
       "      <td>0</td>\n",
       "      <td>0</td>\n",
       "      <td>0</td>\n",
       "      <td>0</td>\n",
       "    </tr>\n",
       "  </tbody>\n",
       "</table>\n",
       "<p>3069 rows × 419 columns</p>\n",
       "</div>"
      ],
      "text/plain": [
       "      Unnamed: 0  sampleno  kyojuuchi  q1  q2  q3  q3_toshiruikei  q4_1  q4_2  \\\n",
       "0              0         1         10  53   1  10               4     4     3   \n",
       "1              1         2         10  61   1  10               4     4     3   \n",
       "2              2         3         10  49   1  10               4     6     3   \n",
       "3              3         4         10  69   1  10               4     9     6   \n",
       "4              4         5         10  45   1  10               4     4     1   \n",
       "...          ...       ...        ...  ..  ..  ..             ...   ...   ...   \n",
       "4213        4213      4214          2  48   1   2               4     3     3   \n",
       "4216        4216      4217         47  56   2  50               7     4     2   \n",
       "4238        4238      4239         47  49   2  46               4     6     6   \n",
       "4243        4243      4244         47  31   2  44               3     6     5   \n",
       "4244        4244      4245         47  32   2   4               4     6     5   \n",
       "\n",
       "      q5_1  ...  moved_first_job  birth_year  counts  first_job_year  \\\n",
       "0        3  ...                1        1928       1            1942   \n",
       "1        3  ...                0        1920       1            1938   \n",
       "2        1  ...                1        1932       1            1950   \n",
       "3        6  ...                1        1912       1            1937   \n",
       "4        3  ...                1        1936       1            1952   \n",
       "...    ...  ...              ...         ...     ...             ...   \n",
       "4213     3  ...                0        1933       1            1948   \n",
       "4216     2  ...                1        1925       1            1947   \n",
       "4238     4  ...                1        1932       1            1950   \n",
       "4243     4  ...                1        1950       1            1968   \n",
       "4244     4  ...                1        1949       1            1964   \n",
       "\n",
       "      first_job_school  first_job_pub_emp  first_job_conn  first_job_adv  \\\n",
       "0                    1                  1               0              0   \n",
       "1                    0                  0               1              0   \n",
       "2                    1                  1               0              0   \n",
       "3                    0                  0               1              0   \n",
       "4                    0                  0               1              0   \n",
       "...                ...                ...             ...            ...   \n",
       "4213                 0                  0               0              0   \n",
       "4216                 0                  0               0              0   \n",
       "4238                 0                  0               0              0   \n",
       "4243                 1                  1               0              0   \n",
       "4244                 1                  1               0              0   \n",
       "\n",
       "      first_job_other  first_job_self  \n",
       "0                   0               0  \n",
       "1                   0               0  \n",
       "2                   0               0  \n",
       "3                   0               0  \n",
       "4                   0               0  \n",
       "...               ...             ...  \n",
       "4213                0               1  \n",
       "4216                0               1  \n",
       "4238                0               0  \n",
       "4243                0               0  \n",
       "4244                0               0  \n",
       "\n",
       "[3069 rows x 419 columns]"
      ]
     },
     "execution_count": 85,
     "metadata": {},
     "output_type": "execute_result"
    }
   ],
   "source": [
    "df"
   ]
  },
  {
   "cell_type": "code",
   "execution_count": 86,
   "id": "a68eb6c3-8133-4905-ad0d-09071d1e22ad",
   "metadata": {},
   "outputs": [],
   "source": [
    "_df6 = df[['first_job_year', 'birth_year','first_job_school', 'counts']].copy()"
   ]
  },
  {
   "cell_type": "code",
   "execution_count": 87,
   "id": "c3af3248-8108-4388-bd3c-6a866e481702",
   "metadata": {},
   "outputs": [
    {
     "name": "stderr",
     "output_type": "stream",
     "text": [
      "/var/folders/hb/3db8mbcj4l74ztsvqyx17yd00000gn/T/ipykernel_5481/1416463483.py:1: FutureWarning: Indexing with multiple keys (implicitly converted to a tuple of keys) will be deprecated, use a list instead.\n",
      "  df_group6 = _df6.groupby(['first_job_year'])['first_job_school', 'counts'].sum().reset_index()\n"
     ]
    }
   ],
   "source": [
    "df_group6 = _df6.groupby(['first_job_year'])['first_job_school', 'counts'].sum().reset_index()"
   ]
  },
  {
   "cell_type": "code",
   "execution_count": 88,
   "id": "5a11fd0a-eb8c-4e88-b8fa-f3046ff0b8fd",
   "metadata": {},
   "outputs": [],
   "source": [
    "df_group6 = df_group6[df_group6.first_job_year <= 1981]"
   ]
  },
  {
   "cell_type": "code",
   "execution_count": 89,
   "id": "7c2786c4-bbd8-49da-ba02-9b0025bc2d2c",
   "metadata": {},
   "outputs": [],
   "source": [
    "df_group6['school_ratio'] = df_group6.first_job_school/ df_group6.counts"
   ]
  },
  {
   "cell_type": "code",
   "execution_count": 90,
   "id": "a8172c66-cc83-4dfc-b369-67327a8529a9",
   "metadata": {},
   "outputs": [],
   "source": [
    "df_group6['school_ratio_SMA_5'] = df_group6['school_ratio'].rolling(window=5).mean()"
   ]
  },
  {
   "cell_type": "code",
   "execution_count": 91,
   "id": "6c6edc5b-c16b-4ed7-afbc-6e0c29c0bc12",
   "metadata": {
    "tags": []
   },
   "outputs": [
    {
     "data": {
      "image/png": "[encoded data removed]",
      "text/plain": [
       "<Figure size 432x288 with 1 Axes>"
      ]
     },
     "metadata": {
      "needs_background": "light"
     },
     "output_type": "display_data"
    }
   ],
   "source": [
    "fig, ax = plt.subplots()\n",
    "df_group6.plot(x = 'first_job_year', y = 'school_ratio', ax = ax)\n",
    "df_group6.plot(x = 'first_job_year', y = 'school_ratio_SMA_5', ax = ax)\n",
    "plt.show()"
   ]
  },
  {
   "cell_type": "code",
   "execution_count": 92,
   "id": "b0bc800c-2fa0-48fc-974d-6df8a5dd4aca",
   "metadata": {},
   "outputs": [],
   "source": [
    "_df7 = df[['first_job_year', 'birth_year','first_job_pub_emp', 'counts']].copy()"
   ]
  },
  {
   "cell_type": "code",
   "execution_count": 93,
   "id": "bce24375-ce0c-45dc-b4aa-0aa8724f4661",
   "metadata": {},
   "outputs": [
    {
     "name": "stderr",
     "output_type": "stream",
     "text": [
      "/var/folders/hb/3db8mbcj4l74ztsvqyx17yd00000gn/T/ipykernel_5481/4224689988.py:1: FutureWarning: Indexing with multiple keys (implicitly converted to a tuple of keys) will be deprecated, use a list instead.\n",
      "  df_group7 = _df7.groupby(['first_job_year'])['first_job_pub_emp', 'counts'].sum().reset_index()\n"
     ]
    }
   ],
   "source": [
    "df_group7 = _df7.groupby(['first_job_year'])['first_job_pub_emp', 'counts'].sum().reset_index()"
   ]
  },
  {
   "cell_type": "code",
   "execution_count": 94,
   "id": "ea2d34da-ec72-46b4-9321-d9137a982109",
   "metadata": {},
   "outputs": [],
   "source": [
    "df_group7 = df_group7[df_group7.first_job_year <= 1981]"
   ]
  },
  {
   "cell_type": "code",
   "execution_count": 95,
   "id": "e262149e-3757-4563-b608-2fc92bcb92f8",
   "metadata": {},
   "outputs": [],
   "source": [
    "df_group7['pub_emp_ratio'] = df_group7.first_job_pub_emp/ df_group7.counts"
   ]
  },
  {
   "cell_type": "code",
   "execution_count": 96,
   "id": "962ea70b-5370-4c7d-a15d-395f0c31354c",
   "metadata": {},
   "outputs": [],
   "source": [
    "df_group7['pub_emp_ratio_SMA_5'] = df_group7['pub_emp_ratio'].rolling(window=5).mean()"
   ]
  },
  {
   "cell_type": "code",
   "execution_count": 97,
   "id": "921d7433-1ab6-4cc3-8295-ca7f85cf68ee",
   "metadata": {
    "tags": []
   },
   "outputs": [
    {
     "data": {
      "image/png": "[encoded data removed]",
      "text/plain": [
       "<Figure size 432x288 with 1 Axes>"
      ]
     },
     "metadata": {
      "needs_background": "light"
     },
     "output_type": "display_data"
    }
   ],
   "source": [
    "fig, ax = plt.subplots()\n",
    "df_group7.plot(x = 'first_job_year', y = 'pub_emp_ratio', ax = ax)\n",
    "df_group7.plot(x = 'first_job_year', y = 'pub_emp_ratio_SMA_5', ax = ax)\n",
    "plt.show()"
   ]
  },
  {
   "cell_type": "code",
   "execution_count": null,
   "id": "96fdd358-e5c8-4bde-99e6-27c26d05a29f",
   "metadata": {},
   "outputs": [],
   "source": []
  },
  {
   "cell_type": "code",
   "execution_count": 98,
   "id": "f5113d05-ed01-40ac-ad3e-db74438a2041",
   "metadata": {},
   "outputs": [],
   "source": [
    "_df8 = df[['first_job_year', 'birth_year','first_job_conn', 'counts']].copy()"
   ]
  },
  {
   "cell_type": "code",
   "execution_count": 99,
   "id": "4058aed8-561f-46c1-ae60-65a866180721",
   "metadata": {},
   "outputs": [
    {
     "name": "stderr",
     "output_type": "stream",
     "text": [
      "/var/folders/hb/3db8mbcj4l74ztsvqyx17yd00000gn/T/ipykernel_5481/3214844470.py:1: FutureWarning: Indexing with multiple keys (implicitly converted to a tuple of keys) will be deprecated, use a list instead.\n",
      "  df_group8 = _df8.groupby(['first_job_year'])['first_job_conn', 'counts'].sum().reset_index()\n"
     ]
    }
   ],
   "source": [
    "df_group8 = _df8.groupby(['first_job_year'])['first_job_conn', 'counts'].sum().reset_index()"
   ]
  },
  {
   "cell_type": "code",
   "execution_count": 100,
   "id": "4cff98eb-a8cd-4e98-87b0-7451a1e323c5",
   "metadata": {},
   "outputs": [],
   "source": [
    "df_group8 = df_group8[df_group8.first_job_year <= 1981]"
   ]
  },
  {
   "cell_type": "code",
   "execution_count": 101,
   "id": "f6896b8e-4700-4615-b85b-5d16ca48f620",
   "metadata": {},
   "outputs": [],
   "source": [
    "df_group8['conn_ratio'] = df_group8.first_job_conn/ df_group8.counts"
   ]
  },
  {
   "cell_type": "code",
   "execution_count": 102,
   "id": "ed69fe17-d2bf-46ee-acab-8ac5c239a776",
   "metadata": {},
   "outputs": [],
   "source": [
    "df_group8['conn_ratio_SMA_5'] = df_group8['conn_ratio'].rolling(window=5).mean()"
   ]
  },
  {
   "cell_type": "code",
   "execution_count": 103,
   "id": "3674d30b-8c61-4cc7-b14e-8c875f22fb77",
   "metadata": {
    "tags": []
   },
   "outputs": [
    {
     "data": {
      "image/png": "[encoded data removed]",
      "text/plain": [
       "<Figure size 432x288 with 1 Axes>"
      ]
     },
     "metadata": {
      "needs_background": "light"
     },
     "output_type": "display_data"
    }
   ],
   "source": [
    "fig, ax = plt.subplots()\n",
    "df_group8.plot(x = 'first_job_year', y = 'conn_ratio', ax = ax)\n",
    "df_group8.plot(x = 'first_job_year', y = 'conn_ratio_SMA_5', ax = ax)\n",
    "plt.show()"
   ]
  },
  {
   "cell_type": "code",
   "execution_count": 104,
   "id": "af8c4e10-66e1-4a8a-84a3-6774e3eaf0c5",
   "metadata": {},
   "outputs": [],
   "source": [
    "_df9 = df[['first_job_year', 'birth_year','first_job_adv', 'counts']].copy()"
   ]
  },
  {
   "cell_type": "code",
   "execution_count": 105,
   "id": "8b87d9b5-a9b1-49ce-9e46-8235a51ea60e",
   "metadata": {},
   "outputs": [
    {
     "name": "stderr",
     "output_type": "stream",
     "text": [
      "/var/folders/hb/3db8mbcj4l74ztsvqyx17yd00000gn/T/ipykernel_5481/1178086919.py:1: FutureWarning: Indexing with multiple keys (implicitly converted to a tuple of keys) will be deprecated, use a list instead.\n",
      "  df_group9 = _df9.groupby(['first_job_year'])['first_job_adv', 'counts'].sum().reset_index()\n"
     ]
    }
   ],
   "source": [
    "df_group9 = _df9.groupby(['first_job_year'])['first_job_adv', 'counts'].sum().reset_index()"
   ]
  },
  {
   "cell_type": "code",
   "execution_count": 106,
   "id": "eed21fdc-a853-47c1-8330-00fb505259e5",
   "metadata": {},
   "outputs": [],
   "source": [
    "df_group9 = df_group9[df_group9.first_job_year <= 1981]"
   ]
  },
  {
   "cell_type": "code",
   "execution_count": 107,
   "id": "5c879afc-3e0d-45bf-8b55-90ec45b9e1b6",
   "metadata": {},
   "outputs": [],
   "source": [
    "df_group9['adv_ratio'] = df_group9.first_job_adv/ df_group9.counts"
   ]
  },
  {
   "cell_type": "code",
   "execution_count": 108,
   "id": "949676be-d14d-4ee2-aace-bf0374cde2c2",
   "metadata": {},
   "outputs": [],
   "source": [
    "df_group9['adv_ratio_SMA_5'] = df_group9['adv_ratio'].rolling(window=5).mean()"
   ]
  },
  {
   "cell_type": "code",
   "execution_count": 109,
   "id": "45a17b0c-7e62-4ef4-a9cd-2100e77a330f",
   "metadata": {
    "tags": []
   },
   "outputs": [
    {
     "data": {
      "image/png": "[encoded data removed]",
      "text/plain": [
       "<Figure size 432x288 with 1 Axes>"
      ]
     },
     "metadata": {
      "needs_background": "light"
     },
     "output_type": "display_data"
    }
   ],
   "source": [
    "fig, ax = plt.subplots()\n",
    "df_group9.plot(x = 'first_job_year', y = 'adv_ratio', ax = ax)\n",
    "df_group9.plot(x = 'first_job_year', y = 'adv_ratio_SMA_5', ax = ax)\n",
    "plt.show()"
   ]
  },
  {
   "cell_type": "code",
   "execution_count": null,
   "id": "0983c880-534d-4030-a2d2-dddc4e97bb5a",
   "metadata": {},
   "outputs": [],
   "source": []
  },
  {
   "cell_type": "code",
   "execution_count": 110,
   "id": "96415174-1e20-45bb-85ce-dd0d622f14ae",
   "metadata": {},
   "outputs": [],
   "source": [
    "_df10 = df[['first_job_year', 'birth_year','first_job_other', 'counts']].copy()"
   ]
  },
  {
   "cell_type": "code",
   "execution_count": 111,
   "id": "80bea440-c08e-4d34-ada8-4369b915c6e5",
   "metadata": {},
   "outputs": [
    {
     "name": "stderr",
     "output_type": "stream",
     "text": [
      "/var/folders/hb/3db8mbcj4l74ztsvqyx17yd00000gn/T/ipykernel_5481/3304460168.py:1: FutureWarning: Indexing with multiple keys (implicitly converted to a tuple of keys) will be deprecated, use a list instead.\n",
      "  df_group10 = _df10.groupby(['first_job_year'])['first_job_other', 'counts'].sum().reset_index()\n"
     ]
    }
   ],
   "source": [
    "df_group10 = _df10.groupby(['first_job_year'])['first_job_other', 'counts'].sum().reset_index()"
   ]
  },
  {
   "cell_type": "code",
   "execution_count": 112,
   "id": "5922fa3a-ca9f-400a-85b6-a8941c8357a7",
   "metadata": {},
   "outputs": [],
   "source": [
    "df_group10 = df_group10[df_group10.first_job_year <= 1981]"
   ]
  },
  {
   "cell_type": "code",
   "execution_count": 113,
   "id": "ab8e188a-9fd0-4221-8951-ce799672cea0",
   "metadata": {},
   "outputs": [],
   "source": [
    "df_group10['other_ratio'] = df_group10.first_job_other/ df_group10.counts"
   ]
  },
  {
   "cell_type": "code",
   "execution_count": 114,
   "id": "f9ed90e6-90b9-4aeb-8a59-6bd1a1e41269",
   "metadata": {},
   "outputs": [],
   "source": [
    "df_group10['other_ratio_SMA_5'] = df_group10['other_ratio'].rolling(window=5).mean()"
   ]
  },
  {
   "cell_type": "code",
   "execution_count": 115,
   "id": "feff7648-27c2-46e5-bfea-d58769ddad28",
   "metadata": {
    "tags": []
   },
   "outputs": [
    {
     "data": {
      "image/png": "[encoded data removed]",
      "text/plain": [
       "<Figure size 432x288 with 1 Axes>"
      ]
     },
     "metadata": {
      "needs_background": "light"
     },
     "output_type": "display_data"
    }
   ],
   "source": [
    "fig, ax = plt.subplots()\n",
    "df_group10.plot(x = 'first_job_year', y = 'other_ratio', ax = ax)\n",
    "df_group10.plot(x = 'first_job_year', y = 'other_ratio_SMA_5', ax = ax)\n",
    "plt.show()"
   ]
  },
  {
   "cell_type": "code",
   "execution_count": null,
   "id": "09e8f174-433c-4295-91ac-e689d2ee2aef",
   "metadata": {},
   "outputs": [],
   "source": []
  },
  {
   "cell_type": "code",
   "execution_count": 116,
   "id": "701625e7-24d7-451a-916d-a840fc3a0e55",
   "metadata": {},
   "outputs": [],
   "source": [
    "_df11 = df[['first_job_year', 'birth_year','first_job_self', 'counts']].copy()"
   ]
  },
  {
   "cell_type": "code",
   "execution_count": 117,
   "id": "acc16980-10e7-4077-a643-195e73e23556",
   "metadata": {},
   "outputs": [
    {
     "name": "stderr",
     "output_type": "stream",
     "text": [
      "/var/folders/hb/3db8mbcj4l74ztsvqyx17yd00000gn/T/ipykernel_5481/957045670.py:1: FutureWarning: Indexing with multiple keys (implicitly converted to a tuple of keys) will be deprecated, use a list instead.\n",
      "  df_group11 = _df11.groupby(['first_job_year'])['first_job_self', 'counts'].sum().reset_index()\n"
     ]
    }
   ],
   "source": [
    "df_group11 = _df11.groupby(['first_job_year'])['first_job_self', 'counts'].sum().reset_index()"
   ]
  },
  {
   "cell_type": "code",
   "execution_count": 118,
   "id": "28a4ce99-f9c6-47a4-ad62-93c5326e3998",
   "metadata": {},
   "outputs": [],
   "source": [
    "df_group11 = df_group11[df_group11.first_job_year <= 1981]"
   ]
  },
  {
   "cell_type": "code",
   "execution_count": 119,
   "id": "5c377183-364d-455e-bd0d-3168abe97487",
   "metadata": {},
   "outputs": [],
   "source": [
    "df_group11['self_ratio'] = df_group11.first_job_self/ df_group11.counts"
   ]
  },
  {
   "cell_type": "code",
   "execution_count": 120,
   "id": "3b3e4bbf-f94c-4c72-95be-49037c3ac5a3",
   "metadata": {},
   "outputs": [],
   "source": [
    "df_group11['self_ratio_SMA_5'] = df_group11['self_ratio'].rolling(window=5).mean()"
   ]
  },
  {
   "cell_type": "code",
   "execution_count": 121,
   "id": "e17de35a-030f-4c78-860b-df05ebdb6221",
   "metadata": {
    "tags": []
   },
   "outputs": [
    {
     "data": {
      "image/png": "[encoded data removed]",
      "text/plain": [
       "<Figure size 432x288 with 1 Axes>"
      ]
     },
     "metadata": {
      "needs_background": "light"
     },
     "output_type": "display_data"
    }
   ],
   "source": [
    "fig, ax = plt.subplots()\n",
    "df_group11.plot(x = 'first_job_year', y = 'self_ratio', ax = ax)\n",
    "df_group11.plot(x = 'first_job_year', y = 'self_ratio_SMA_5', ax = ax)\n",
    "plt.show()"
   ]
  },
  {
   "cell_type": "code",
   "execution_count": 122,
   "id": "265d288d-4f93-47e6-8263-71dcff9c817e",
   "metadata": {},
   "outputs": [
    {
     "data": {
      "text/plain": [
       "0       35\n",
       "1       47\n",
       "2       60\n",
       "3       60\n",
       "4       48\n",
       "        ..\n",
       "4213     1\n",
       "4216     1\n",
       "4238    15\n",
       "4243    15\n",
       "4244    34\n",
       "Name: q15_4, Length: 3069, dtype: int64"
      ]
     },
     "execution_count": 122,
     "metadata": {},
     "output_type": "execute_result"
    }
   ],
   "source": [
    "df.q15_4"
   ]
  },
  {
   "cell_type": "code",
   "execution_count": 123,
   "id": "427222ed-8c9d-46fc-a01e-f34be07cdf65",
   "metadata": {},
   "outputs": [],
   "source": [
    "df['first_job_aff'] = 0\n",
    "df.loc[df.q15_4 == (1 or 6 or 8 or 9), 'first_job_aff'] = 1"
   ]
  },
  {
   "cell_type": "code",
   "execution_count": 124,
   "id": "f0927ec4-cad8-4516-8366-273974ec057b",
   "metadata": {},
   "outputs": [],
   "source": [
    "_df12 = df[['first_job_year', 'birth_year','first_job_aff', 'counts']].copy()"
   ]
  },
  {
   "cell_type": "code",
   "execution_count": 125,
   "id": "726ba8e0-4988-40b2-b314-6007a1779b01",
   "metadata": {},
   "outputs": [
    {
     "name": "stderr",
     "output_type": "stream",
     "text": [
      "/var/folders/hb/3db8mbcj4l74ztsvqyx17yd00000gn/T/ipykernel_5481/1002455213.py:1: FutureWarning: Indexing with multiple keys (implicitly converted to a tuple of keys) will be deprecated, use a list instead.\n",
      "  df_group12 = _df12.groupby(['first_job_year'])['first_job_aff', 'counts'].sum().reset_index()\n"
     ]
    }
   ],
   "source": [
    "df_group12 = _df12.groupby(['first_job_year'])['first_job_aff', 'counts'].sum().reset_index()"
   ]
  },
  {
   "cell_type": "code",
   "execution_count": 126,
   "id": "67d07f50-00b6-41be-b5ca-9da064fc6542",
   "metadata": {},
   "outputs": [],
   "source": [
    "df_group12 = df_group12[df_group12.first_job_year <= 1981]"
   ]
  },
  {
   "cell_type": "code",
   "execution_count": 127,
   "id": "344242b6-ad88-4ff4-9d49-19bc66afca96",
   "metadata": {},
   "outputs": [],
   "source": [
    "df_group12['aff_ratio'] = df_group12.first_job_aff/ df_group12.counts"
   ]
  },
  {
   "cell_type": "code",
   "execution_count": 128,
   "id": "45fefe04-3d83-4b60-b364-452137888ccf",
   "metadata": {},
   "outputs": [],
   "source": [
    "df_group12['aff_ratio_SMA_5'] = df_group12['aff_ratio'].rolling(window=5).mean()"
   ]
  },
  {
   "cell_type": "code",
   "execution_count": 129,
   "id": "eddf9fe9-53c9-4a7b-833a-5ba8b793ae79",
   "metadata": {
    "tags": []
   },
   "outputs": [
    {
     "data": {
      "image/png": "[encoded data removed]",
      "text/plain": [
       "<Figure size 432x288 with 1 Axes>"
      ]
     },
     "metadata": {
      "needs_background": "light"
     },
     "output_type": "display_data"
    }
   ],
   "source": [
    "fig, ax = plt.subplots()\n",
    "df_group12.plot(x = 'first_job_year', y = 'aff_ratio', ax = ax)\n",
    "df_group12.plot(x = 'first_job_year', y = 'aff_ratio_SMA_5', ax = ax)\n",
    "plt.show()"
   ]
  },
  {
   "cell_type": "code",
   "execution_count": 130,
   "id": "0b1cbee9-11b1-4fe5-ac0f-35023a78535e",
   "metadata": {},
   "outputs": [],
   "source": [
    "df_table1 = df[['first_job_aff', 'first_job_conn', 'first_job_school', 'first_job_self']]"
   ]
  },
  {
   "cell_type": "code",
   "execution_count": 131,
   "id": "614cc1ab-030a-48e5-9017-f0a5759fc142",
   "metadata": {},
   "outputs": [
    {
     "data": {
      "text/html": [
       "<div>\n",
       "<style scoped>\n",
       "    .dataframe tbody tr th:only-of-type {\n",
       "        vertical-align: middle;\n",
       "    }\n",
       "\n",
       "    .dataframe tbody tr th {\n",
       "        vertical-align: top;\n",
       "    }\n",
       "\n",
       "    .dataframe thead th {\n",
       "        text-align: right;\n",
       "    }\n",
       "</style>\n",
       "<table border=\"1\" class=\"dataframe\">\n",
       "  <thead>\n",
       "    <tr style=\"text-align: right;\">\n",
       "      <th></th>\n",
       "      <th>first_job_aff</th>\n",
       "      <th>first_job_conn</th>\n",
       "      <th>first_job_school</th>\n",
       "      <th>first_job_self</th>\n",
       "    </tr>\n",
       "  </thead>\n",
       "  <tbody>\n",
       "    <tr>\n",
       "      <th>first_job_aff</th>\n",
       "      <td>1.000000</td>\n",
       "      <td>-0.299525</td>\n",
       "      <td>-0.259858</td>\n",
       "      <td>0.745143</td>\n",
       "    </tr>\n",
       "    <tr>\n",
       "      <th>first_job_conn</th>\n",
       "      <td>-0.299525</td>\n",
       "      <td>1.000000</td>\n",
       "      <td>-0.448163</td>\n",
       "      <td>-0.421630</td>\n",
       "    </tr>\n",
       "    <tr>\n",
       "      <th>first_job_school</th>\n",
       "      <td>-0.259858</td>\n",
       "      <td>-0.448163</td>\n",
       "      <td>1.000000</td>\n",
       "      <td>-0.331144</td>\n",
       "    </tr>\n",
       "    <tr>\n",
       "      <th>first_job_self</th>\n",
       "      <td>0.745143</td>\n",
       "      <td>-0.421630</td>\n",
       "      <td>-0.331144</td>\n",
       "      <td>1.000000</td>\n",
       "    </tr>\n",
       "  </tbody>\n",
       "</table>\n",
       "</div>"
      ],
      "text/plain": [
       "                  first_job_aff  first_job_conn  first_job_school  \\\n",
       "first_job_aff          1.000000       -0.299525         -0.259858   \n",
       "first_job_conn        -0.299525        1.000000         -0.448163   \n",
       "first_job_school      -0.259858       -0.448163          1.000000   \n",
       "first_job_self         0.745143       -0.421630         -0.331144   \n",
       "\n",
       "                  first_job_self  \n",
       "first_job_aff           0.745143  \n",
       "first_job_conn         -0.421630  \n",
       "first_job_school       -0.331144  \n",
       "first_job_self          1.000000  "
      ]
     },
     "execution_count": 131,
     "metadata": {},
     "output_type": "execute_result"
    }
   ],
   "source": [
    "df_table1.corr()"
   ]
  },
  {
   "cell_type": "code",
   "execution_count": null,
   "id": "5365ab57-e8de-426e-b582-344cc138534f",
   "metadata": {},
   "outputs": [],
   "source": []
  },
  {
   "cell_type": "code",
   "execution_count": 132,
   "id": "8df3ad19-e78b-4695-a940-9d48cf405a2b",
   "metadata": {},
   "outputs": [],
   "source": [
    "_df13 = df[['first_job_year', 'birth_year','first_job_aff', 'first_job_self','first_job_school','counts']].copy()"
   ]
  },
  {
   "cell_type": "code",
   "execution_count": 133,
   "id": "fae008c5-1cad-43e3-822e-2de8057d29c2",
   "metadata": {},
   "outputs": [
    {
     "data": {
      "text/html": [
       "<div>\n",
       "<style scoped>\n",
       "    .dataframe tbody tr th:only-of-type {\n",
       "        vertical-align: middle;\n",
       "    }\n",
       "\n",
       "    .dataframe tbody tr th {\n",
       "        vertical-align: top;\n",
       "    }\n",
       "\n",
       "    .dataframe thead th {\n",
       "        text-align: right;\n",
       "    }\n",
       "</style>\n",
       "<table border=\"1\" class=\"dataframe\">\n",
       "  <thead>\n",
       "    <tr style=\"text-align: right;\">\n",
       "      <th></th>\n",
       "      <th>first_job_year</th>\n",
       "      <th>birth_year</th>\n",
       "      <th>first_job_aff</th>\n",
       "      <th>first_job_self</th>\n",
       "      <th>first_job_school</th>\n",
       "      <th>counts</th>\n",
       "    </tr>\n",
       "  </thead>\n",
       "  <tbody>\n",
       "    <tr>\n",
       "      <th>0</th>\n",
       "      <td>1942</td>\n",
       "      <td>1928</td>\n",
       "      <td>0</td>\n",
       "      <td>0</td>\n",
       "      <td>1</td>\n",
       "      <td>1</td>\n",
       "    </tr>\n",
       "    <tr>\n",
       "      <th>1</th>\n",
       "      <td>1938</td>\n",
       "      <td>1920</td>\n",
       "      <td>0</td>\n",
       "      <td>0</td>\n",
       "      <td>0</td>\n",
       "      <td>1</td>\n",
       "    </tr>\n",
       "    <tr>\n",
       "      <th>2</th>\n",
       "      <td>1950</td>\n",
       "      <td>1932</td>\n",
       "      <td>0</td>\n",
       "      <td>0</td>\n",
       "      <td>1</td>\n",
       "      <td>1</td>\n",
       "    </tr>\n",
       "    <tr>\n",
       "      <th>3</th>\n",
       "      <td>1937</td>\n",
       "      <td>1912</td>\n",
       "      <td>0</td>\n",
       "      <td>0</td>\n",
       "      <td>0</td>\n",
       "      <td>1</td>\n",
       "    </tr>\n",
       "    <tr>\n",
       "      <th>4</th>\n",
       "      <td>1952</td>\n",
       "      <td>1936</td>\n",
       "      <td>0</td>\n",
       "      <td>0</td>\n",
       "      <td>0</td>\n",
       "      <td>1</td>\n",
       "    </tr>\n",
       "    <tr>\n",
       "      <th>...</th>\n",
       "      <td>...</td>\n",
       "      <td>...</td>\n",
       "      <td>...</td>\n",
       "      <td>...</td>\n",
       "      <td>...</td>\n",
       "      <td>...</td>\n",
       "    </tr>\n",
       "    <tr>\n",
       "      <th>4213</th>\n",
       "      <td>1948</td>\n",
       "      <td>1933</td>\n",
       "      <td>1</td>\n",
       "      <td>1</td>\n",
       "      <td>0</td>\n",
       "      <td>1</td>\n",
       "    </tr>\n",
       "    <tr>\n",
       "      <th>4216</th>\n",
       "      <td>1947</td>\n",
       "      <td>1925</td>\n",
       "      <td>1</td>\n",
       "      <td>1</td>\n",
       "      <td>0</td>\n",
       "      <td>1</td>\n",
       "    </tr>\n",
       "    <tr>\n",
       "      <th>4238</th>\n",
       "      <td>1950</td>\n",
       "      <td>1932</td>\n",
       "      <td>0</td>\n",
       "      <td>0</td>\n",
       "      <td>0</td>\n",
       "      <td>1</td>\n",
       "    </tr>\n",
       "    <tr>\n",
       "      <th>4243</th>\n",
       "      <td>1968</td>\n",
       "      <td>1950</td>\n",
       "      <td>0</td>\n",
       "      <td>0</td>\n",
       "      <td>1</td>\n",
       "      <td>1</td>\n",
       "    </tr>\n",
       "    <tr>\n",
       "      <th>4244</th>\n",
       "      <td>1964</td>\n",
       "      <td>1949</td>\n",
       "      <td>0</td>\n",
       "      <td>0</td>\n",
       "      <td>1</td>\n",
       "      <td>1</td>\n",
       "    </tr>\n",
       "  </tbody>\n",
       "</table>\n",
       "<p>3069 rows × 6 columns</p>\n",
       "</div>"
      ],
      "text/plain": [
       "      first_job_year  birth_year  first_job_aff  first_job_self  \\\n",
       "0               1942        1928              0               0   \n",
       "1               1938        1920              0               0   \n",
       "2               1950        1932              0               0   \n",
       "3               1937        1912              0               0   \n",
       "4               1952        1936              0               0   \n",
       "...              ...         ...            ...             ...   \n",
       "4213            1948        1933              1               1   \n",
       "4216            1947        1925              1               1   \n",
       "4238            1950        1932              0               0   \n",
       "4243            1968        1950              0               0   \n",
       "4244            1964        1949              0               0   \n",
       "\n",
       "      first_job_school  counts  \n",
       "0                    1       1  \n",
       "1                    0       1  \n",
       "2                    1       1  \n",
       "3                    0       1  \n",
       "4                    0       1  \n",
       "...                ...     ...  \n",
       "4213                 0       1  \n",
       "4216                 0       1  \n",
       "4238                 0       1  \n",
       "4243                 1       1  \n",
       "4244                 1       1  \n",
       "\n",
       "[3069 rows x 6 columns]"
      ]
     },
     "execution_count": 133,
     "metadata": {},
     "output_type": "execute_result"
    }
   ],
   "source": [
    "_df13"
   ]
  },
  {
   "cell_type": "code",
   "execution_count": 134,
   "id": "26005fc3-5585-4c78-a502-d7226f5ad67f",
   "metadata": {},
   "outputs": [],
   "source": [
    "_df13_temp = _df13.loc[df.first_job_self == 1, :]"
   ]
  },
  {
   "cell_type": "code",
   "execution_count": 135,
   "id": "ed4a7b7b-14e6-4803-9f69-f7a40a2ebe6d",
   "metadata": {},
   "outputs": [
    {
     "data": {
      "text/html": [
       "<div>\n",
       "<style scoped>\n",
       "    .dataframe tbody tr th:only-of-type {\n",
       "        vertical-align: middle;\n",
       "    }\n",
       "\n",
       "    .dataframe tbody tr th {\n",
       "        vertical-align: top;\n",
       "    }\n",
       "\n",
       "    .dataframe thead th {\n",
       "        text-align: right;\n",
       "    }\n",
       "</style>\n",
       "<table border=\"1\" class=\"dataframe\">\n",
       "  <thead>\n",
       "    <tr style=\"text-align: right;\">\n",
       "      <th></th>\n",
       "      <th>first_job_year</th>\n",
       "      <th>birth_year</th>\n",
       "      <th>first_job_aff</th>\n",
       "      <th>first_job_self</th>\n",
       "      <th>first_job_school</th>\n",
       "      <th>counts</th>\n",
       "    </tr>\n",
       "  </thead>\n",
       "  <tbody>\n",
       "    <tr>\n",
       "      <th>20</th>\n",
       "      <td>1950</td>\n",
       "      <td>1932</td>\n",
       "      <td>1</td>\n",
       "      <td>1</td>\n",
       "      <td>0</td>\n",
       "      <td>1</td>\n",
       "    </tr>\n",
       "    <tr>\n",
       "      <th>21</th>\n",
       "      <td>1968</td>\n",
       "      <td>1953</td>\n",
       "      <td>1</td>\n",
       "      <td>1</td>\n",
       "      <td>0</td>\n",
       "      <td>1</td>\n",
       "    </tr>\n",
       "    <tr>\n",
       "      <th>26</th>\n",
       "      <td>1934</td>\n",
       "      <td>1915</td>\n",
       "      <td>1</td>\n",
       "      <td>1</td>\n",
       "      <td>0</td>\n",
       "      <td>1</td>\n",
       "    </tr>\n",
       "    <tr>\n",
       "      <th>27</th>\n",
       "      <td>1936</td>\n",
       "      <td>1917</td>\n",
       "      <td>1</td>\n",
       "      <td>1</td>\n",
       "      <td>0</td>\n",
       "      <td>1</td>\n",
       "    </tr>\n",
       "    <tr>\n",
       "      <th>28</th>\n",
       "      <td>1954</td>\n",
       "      <td>1938</td>\n",
       "      <td>1</td>\n",
       "      <td>1</td>\n",
       "      <td>0</td>\n",
       "      <td>1</td>\n",
       "    </tr>\n",
       "    <tr>\n",
       "      <th>...</th>\n",
       "      <td>...</td>\n",
       "      <td>...</td>\n",
       "      <td>...</td>\n",
       "      <td>...</td>\n",
       "      <td>...</td>\n",
       "      <td>...</td>\n",
       "    </tr>\n",
       "    <tr>\n",
       "      <th>4209</th>\n",
       "      <td>1929</td>\n",
       "      <td>1915</td>\n",
       "      <td>1</td>\n",
       "      <td>1</td>\n",
       "      <td>0</td>\n",
       "      <td>1</td>\n",
       "    </tr>\n",
       "    <tr>\n",
       "      <th>4211</th>\n",
       "      <td>1949</td>\n",
       "      <td>1934</td>\n",
       "      <td>1</td>\n",
       "      <td>1</td>\n",
       "      <td>0</td>\n",
       "      <td>1</td>\n",
       "    </tr>\n",
       "    <tr>\n",
       "      <th>4212</th>\n",
       "      <td>1949</td>\n",
       "      <td>1934</td>\n",
       "      <td>1</td>\n",
       "      <td>1</td>\n",
       "      <td>0</td>\n",
       "      <td>1</td>\n",
       "    </tr>\n",
       "    <tr>\n",
       "      <th>4213</th>\n",
       "      <td>1948</td>\n",
       "      <td>1933</td>\n",
       "      <td>1</td>\n",
       "      <td>1</td>\n",
       "      <td>0</td>\n",
       "      <td>1</td>\n",
       "    </tr>\n",
       "    <tr>\n",
       "      <th>4216</th>\n",
       "      <td>1947</td>\n",
       "      <td>1925</td>\n",
       "      <td>1</td>\n",
       "      <td>1</td>\n",
       "      <td>0</td>\n",
       "      <td>1</td>\n",
       "    </tr>\n",
       "  </tbody>\n",
       "</table>\n",
       "<p>729 rows × 6 columns</p>\n",
       "</div>"
      ],
      "text/plain": [
       "      first_job_year  birth_year  first_job_aff  first_job_self  \\\n",
       "20              1950        1932              1               1   \n",
       "21              1968        1953              1               1   \n",
       "26              1934        1915              1               1   \n",
       "27              1936        1917              1               1   \n",
       "28              1954        1938              1               1   \n",
       "...              ...         ...            ...             ...   \n",
       "4209            1929        1915              1               1   \n",
       "4211            1949        1934              1               1   \n",
       "4212            1949        1934              1               1   \n",
       "4213            1948        1933              1               1   \n",
       "4216            1947        1925              1               1   \n",
       "\n",
       "      first_job_school  counts  \n",
       "20                   0       1  \n",
       "21                   0       1  \n",
       "26                   0       1  \n",
       "27                   0       1  \n",
       "28                   0       1  \n",
       "...                ...     ...  \n",
       "4209                 0       1  \n",
       "4211                 0       1  \n",
       "4212                 0       1  \n",
       "4213                 0       1  \n",
       "4216                 0       1  \n",
       "\n",
       "[729 rows x 6 columns]"
      ]
     },
     "execution_count": 135,
     "metadata": {},
     "output_type": "execute_result"
    }
   ],
   "source": [
    "_df13_temp"
   ]
  },
  {
   "cell_type": "code",
   "execution_count": 136,
   "id": "21383ce8-2375-4970-8a42-83ed6e27bd1f",
   "metadata": {},
   "outputs": [
    {
     "name": "stderr",
     "output_type": "stream",
     "text": [
      "/var/folders/hb/3db8mbcj4l74ztsvqyx17yd00000gn/T/ipykernel_5481/4285348396.py:1: FutureWarning: Indexing with multiple keys (implicitly converted to a tuple of keys) will be deprecated, use a list instead.\n",
      "  df_group13 = _df13_temp.groupby(['first_job_year'])['first_job_aff', 'counts'].sum().reset_index()\n"
     ]
    }
   ],
   "source": [
    "df_group13 = _df13_temp.groupby(['first_job_year'])['first_job_aff', 'counts'].sum().reset_index()"
   ]
  },
  {
   "cell_type": "code",
   "execution_count": 137,
   "id": "486db07b-fca5-420e-b6e6-5253fc042181",
   "metadata": {},
   "outputs": [],
   "source": [
    "df_group13 = df_group13[df_group13.first_job_year <= 1981]"
   ]
  },
  {
   "cell_type": "code",
   "execution_count": 138,
   "id": "87d90a95-1a9d-4399-8ffe-11ac8f112131",
   "metadata": {},
   "outputs": [],
   "source": [
    "df_group13['aff_ratio'] = df_group13.first_job_aff/ df_group13.counts"
   ]
  },
  {
   "cell_type": "code",
   "execution_count": 139,
   "id": "ec45d77d-7822-42ea-b062-763d4af72523",
   "metadata": {},
   "outputs": [],
   "source": [
    "df_group13['aff_ratio_SMA_5'] = df_group13['aff_ratio'].rolling(window=5).mean()"
   ]
  },
  {
   "cell_type": "code",
   "execution_count": 140,
   "id": "753e157a-07f5-4db6-b4aa-0e3ea8151bef",
   "metadata": {
    "tags": []
   },
   "outputs": [
    {
     "data": {
      "image/png": "[encoded data removed]",
      "text/plain": [
       "<Figure size 432x288 with 1 Axes>"
      ]
     },
     "metadata": {
      "needs_background": "light"
     },
     "output_type": "display_data"
    }
   ],
   "source": [
    "fig, ax = plt.subplots()\n",
    "df_group13.plot(x = 'first_job_year', y = 'aff_ratio', ax = ax)\n",
    "df_group13.plot(x = 'first_job_year', y = 'aff_ratio_SMA_5', ax = ax)\n",
    "plt.show()"
   ]
  },
  {
   "cell_type": "code",
   "execution_count": 141,
   "id": "6b793fb3-fdae-4562-ab79-1e0f319c20a7",
   "metadata": {},
   "outputs": [],
   "source": [
    "_df14_temp = _df13.loc[df.first_job_school == 1, :]"
   ]
  },
  {
   "cell_type": "code",
   "execution_count": 142,
   "id": "e4a5d145-1d86-4ec1-a411-5d1b72ed6155",
   "metadata": {},
   "outputs": [
    {
     "data": {
      "text/html": [
       "<div>\n",
       "<style scoped>\n",
       "    .dataframe tbody tr th:only-of-type {\n",
       "        vertical-align: middle;\n",
       "    }\n",
       "\n",
       "    .dataframe tbody tr th {\n",
       "        vertical-align: top;\n",
       "    }\n",
       "\n",
       "    .dataframe thead th {\n",
       "        text-align: right;\n",
       "    }\n",
       "</style>\n",
       "<table border=\"1\" class=\"dataframe\">\n",
       "  <thead>\n",
       "    <tr style=\"text-align: right;\">\n",
       "      <th></th>\n",
       "      <th>first_job_year</th>\n",
       "      <th>birth_year</th>\n",
       "      <th>first_job_aff</th>\n",
       "      <th>first_job_self</th>\n",
       "      <th>first_job_school</th>\n",
       "      <th>counts</th>\n",
       "    </tr>\n",
       "  </thead>\n",
       "  <tbody>\n",
       "    <tr>\n",
       "      <th>0</th>\n",
       "      <td>1942</td>\n",
       "      <td>1928</td>\n",
       "      <td>0</td>\n",
       "      <td>0</td>\n",
       "      <td>1</td>\n",
       "      <td>1</td>\n",
       "    </tr>\n",
       "    <tr>\n",
       "      <th>2</th>\n",
       "      <td>1950</td>\n",
       "      <td>1932</td>\n",
       "      <td>0</td>\n",
       "      <td>0</td>\n",
       "      <td>1</td>\n",
       "      <td>1</td>\n",
       "    </tr>\n",
       "    <tr>\n",
       "      <th>7</th>\n",
       "      <td>1945</td>\n",
       "      <td>1926</td>\n",
       "      <td>0</td>\n",
       "      <td>0</td>\n",
       "      <td>1</td>\n",
       "      <td>1</td>\n",
       "    </tr>\n",
       "    <tr>\n",
       "      <th>14</th>\n",
       "      <td>1957</td>\n",
       "      <td>1939</td>\n",
       "      <td>0</td>\n",
       "      <td>0</td>\n",
       "      <td>1</td>\n",
       "      <td>1</td>\n",
       "    </tr>\n",
       "    <tr>\n",
       "      <th>19</th>\n",
       "      <td>1960</td>\n",
       "      <td>1938</td>\n",
       "      <td>0</td>\n",
       "      <td>0</td>\n",
       "      <td>1</td>\n",
       "      <td>1</td>\n",
       "    </tr>\n",
       "    <tr>\n",
       "      <th>...</th>\n",
       "      <td>...</td>\n",
       "      <td>...</td>\n",
       "      <td>...</td>\n",
       "      <td>...</td>\n",
       "      <td>...</td>\n",
       "      <td>...</td>\n",
       "    </tr>\n",
       "    <tr>\n",
       "      <th>4192</th>\n",
       "      <td>1960</td>\n",
       "      <td>1942</td>\n",
       "      <td>0</td>\n",
       "      <td>0</td>\n",
       "      <td>1</td>\n",
       "      <td>1</td>\n",
       "    </tr>\n",
       "    <tr>\n",
       "      <th>4197</th>\n",
       "      <td>1970</td>\n",
       "      <td>1952</td>\n",
       "      <td>0</td>\n",
       "      <td>0</td>\n",
       "      <td>1</td>\n",
       "      <td>1</td>\n",
       "    </tr>\n",
       "    <tr>\n",
       "      <th>4210</th>\n",
       "      <td>1946</td>\n",
       "      <td>1928</td>\n",
       "      <td>0</td>\n",
       "      <td>0</td>\n",
       "      <td>1</td>\n",
       "      <td>1</td>\n",
       "    </tr>\n",
       "    <tr>\n",
       "      <th>4243</th>\n",
       "      <td>1968</td>\n",
       "      <td>1950</td>\n",
       "      <td>0</td>\n",
       "      <td>0</td>\n",
       "      <td>1</td>\n",
       "      <td>1</td>\n",
       "    </tr>\n",
       "    <tr>\n",
       "      <th>4244</th>\n",
       "      <td>1964</td>\n",
       "      <td>1949</td>\n",
       "      <td>0</td>\n",
       "      <td>0</td>\n",
       "      <td>1</td>\n",
       "      <td>1</td>\n",
       "    </tr>\n",
       "  </tbody>\n",
       "</table>\n",
       "<p>799 rows × 6 columns</p>\n",
       "</div>"
      ],
      "text/plain": [
       "      first_job_year  birth_year  first_job_aff  first_job_self  \\\n",
       "0               1942        1928              0               0   \n",
       "2               1950        1932              0               0   \n",
       "7               1945        1926              0               0   \n",
       "14              1957        1939              0               0   \n",
       "19              1960        1938              0               0   \n",
       "...              ...         ...            ...             ...   \n",
       "4192            1960        1942              0               0   \n",
       "4197            1970        1952              0               0   \n",
       "4210            1946        1928              0               0   \n",
       "4243            1968        1950              0               0   \n",
       "4244            1964        1949              0               0   \n",
       "\n",
       "      first_job_school  counts  \n",
       "0                    1       1  \n",
       "2                    1       1  \n",
       "7                    1       1  \n",
       "14                   1       1  \n",
       "19                   1       1  \n",
       "...                ...     ...  \n",
       "4192                 1       1  \n",
       "4197                 1       1  \n",
       "4210                 1       1  \n",
       "4243                 1       1  \n",
       "4244                 1       1  \n",
       "\n",
       "[799 rows x 6 columns]"
      ]
     },
     "execution_count": 142,
     "metadata": {},
     "output_type": "execute_result"
    }
   ],
   "source": [
    "_df14_temp"
   ]
  },
  {
   "cell_type": "code",
   "execution_count": 143,
   "id": "2c7d41f5-3723-4bc1-8ba8-fe8a2bd98b55",
   "metadata": {},
   "outputs": [
    {
     "name": "stderr",
     "output_type": "stream",
     "text": [
      "/var/folders/hb/3db8mbcj4l74ztsvqyx17yd00000gn/T/ipykernel_5481/1553661346.py:1: FutureWarning: Indexing with multiple keys (implicitly converted to a tuple of keys) will be deprecated, use a list instead.\n",
      "  df_group14 = _df14_temp.groupby(['first_job_year'])['first_job_aff', 'counts'].sum().reset_index()\n"
     ]
    }
   ],
   "source": [
    "df_group14 = _df14_temp.groupby(['first_job_year'])['first_job_aff', 'counts'].sum().reset_index()"
   ]
  },
  {
   "cell_type": "code",
   "execution_count": 144,
   "id": "8efaee1c-fa8e-46fe-8458-5a87a96fbf06",
   "metadata": {},
   "outputs": [],
   "source": [
    "df_group14 = df_group14[df_group14.first_job_year <= 1981]"
   ]
  },
  {
   "cell_type": "code",
   "execution_count": 145,
   "id": "8d9dff13-7fdc-4374-8cd1-d7830eb2612e",
   "metadata": {},
   "outputs": [],
   "source": [
    "df_group14['aff_ratio'] = df_group14.first_job_aff/ df_group14.counts"
   ]
  },
  {
   "cell_type": "code",
   "execution_count": 146,
   "id": "d0e94ce9-9e1e-4584-98a7-144e701365df",
   "metadata": {},
   "outputs": [],
   "source": [
    "df_group14['aff_ratio_SMA_5'] = df_group14['aff_ratio'].rolling(window=5).mean()"
   ]
  },
  {
   "cell_type": "code",
   "execution_count": 147,
   "id": "9e834547-a4e6-45ae-bf19-faac7f0e6bff",
   "metadata": {
    "tags": []
   },
   "outputs": [
    {
     "data": {
      "image/png": "[encoded data removed]",
      "text/plain": [
       "<Figure size 432x288 with 1 Axes>"
      ]
     },
     "metadata": {
      "needs_background": "light"
     },
     "output_type": "display_data"
    }
   ],
   "source": [
    "fig, ax = plt.subplots()\n",
    "df_group14.plot(x = 'first_job_year', y = 'aff_ratio', ax = ax)\n",
    "df_group14.plot(x = 'first_job_year', y = 'aff_ratio_SMA_5', ax = ax)\n",
    "plt.show()"
   ]
  },
  {
   "cell_type": "code",
   "execution_count": 148,
   "id": "25e8bb47-ce50-4d2c-9ff9-6afd68e5d82b",
   "metadata": {},
   "outputs": [],
   "source": [
    "_df15 = df[['first_job_year', 'birth_year','moved_pref_first_job','first_job_school','counts']].copy()"
   ]
  },
  {
   "cell_type": "code",
   "execution_count": 149,
   "id": "fe0c050d-0047-41f4-80c5-e6e7fcc1f944",
   "metadata": {},
   "outputs": [],
   "source": [
    "_df15_temp = _df15.loc[df.first_job_school == 1, :]"
   ]
  },
  {
   "cell_type": "code",
   "execution_count": 150,
   "id": "c9cb2bc2-d191-4cb8-9117-0d55b57e617a",
   "metadata": {},
   "outputs": [
    {
     "name": "stderr",
     "output_type": "stream",
     "text": [
      "/var/folders/hb/3db8mbcj4l74ztsvqyx17yd00000gn/T/ipykernel_5481/3423115278.py:1: FutureWarning: Indexing with multiple keys (implicitly converted to a tuple of keys) will be deprecated, use a list instead.\n",
      "  df_group15 = _df15_temp.groupby(['first_job_year'])['moved_pref_first_job', 'counts'].sum().reset_index()\n"
     ]
    }
   ],
   "source": [
    "df_group15 = _df15_temp.groupby(['first_job_year'])['moved_pref_first_job', 'counts'].sum().reset_index()"
   ]
  },
  {
   "cell_type": "code",
   "execution_count": 151,
   "id": "87414ad2-0fdb-4868-9b7c-c45a4cc8b677",
   "metadata": {},
   "outputs": [],
   "source": [
    "df_group15 = df_group15[df_group15.first_job_year <= 1981]"
   ]
  },
  {
   "cell_type": "code",
   "execution_count": 152,
   "id": "0b15ffba-630d-43be-9e4b-081b9848bc70",
   "metadata": {},
   "outputs": [],
   "source": [
    "df_group15['moved_ratio'] = df_group15.moved_pref_first_job/ df_group15.counts"
   ]
  },
  {
   "cell_type": "code",
   "execution_count": 153,
   "id": "e8123a22-b80a-4008-8c9d-52146964d790",
   "metadata": {},
   "outputs": [],
   "source": [
    "df_group15['moved_ratio_SMA_5'] = df_group15['moved_ratio'].rolling(window=5).mean()"
   ]
  },
  {
   "cell_type": "code",
   "execution_count": 154,
   "id": "e7872e93-ccc4-4ce8-a892-c5e6133658d0",
   "metadata": {
    "tags": []
   },
   "outputs": [
    {
     "data": {
      "image/png": "[encoded data removed]",
      "text/plain": [
       "<Figure size 432x288 with 1 Axes>"
      ]
     },
     "metadata": {
      "needs_background": "light"
     },
     "output_type": "display_data"
    }
   ],
   "source": [
    "fig, ax = plt.subplots()\n",
    "df_group15.plot(x = 'first_job_year', y = 'moved_ratio', ax = ax)\n",
    "df_group15.plot(x = 'first_job_year', y = 'moved_ratio_SMA_5', ax = ax)\n",
    "plt.show()"
   ]
  },
  {
   "cell_type": "code",
   "execution_count": 155,
   "id": "c4422be7-e5de-43b3-bfa1-f480c1f9dab8",
   "metadata": {},
   "outputs": [],
   "source": [
    "df_table2 = df[['moved_pref_first_job', 'first_job_conn', 'first_job_school', 'first_job_self']]"
   ]
  },
  {
   "cell_type": "code",
   "execution_count": 156,
   "id": "b0a3bedb-ed67-441c-aedd-dbd0b7aec9aa",
   "metadata": {
    "tags": []
   },
   "outputs": [
    {
     "data": {
      "text/html": [
       "<div>\n",
       "<style scoped>\n",
       "    .dataframe tbody tr th:only-of-type {\n",
       "        vertical-align: middle;\n",
       "    }\n",
       "\n",
       "    .dataframe tbody tr th {\n",
       "        vertical-align: top;\n",
       "    }\n",
       "\n",
       "    .dataframe thead th {\n",
       "        text-align: right;\n",
       "    }\n",
       "</style>\n",
       "<table border=\"1\" class=\"dataframe\">\n",
       "  <thead>\n",
       "    <tr style=\"text-align: right;\">\n",
       "      <th></th>\n",
       "      <th>moved_pref_first_job</th>\n",
       "      <th>first_job_conn</th>\n",
       "      <th>first_job_school</th>\n",
       "      <th>first_job_self</th>\n",
       "    </tr>\n",
       "  </thead>\n",
       "  <tbody>\n",
       "    <tr>\n",
       "      <th>moved_pref_first_job</th>\n",
       "      <td>1.000000</td>\n",
       "      <td>0.050007</td>\n",
       "      <td>0.209911</td>\n",
       "      <td>-0.320429</td>\n",
       "    </tr>\n",
       "    <tr>\n",
       "      <th>first_job_conn</th>\n",
       "      <td>0.050007</td>\n",
       "      <td>1.000000</td>\n",
       "      <td>-0.448163</td>\n",
       "      <td>-0.421630</td>\n",
       "    </tr>\n",
       "    <tr>\n",
       "      <th>first_job_school</th>\n",
       "      <td>0.209911</td>\n",
       "      <td>-0.448163</td>\n",
       "      <td>1.000000</td>\n",
       "      <td>-0.331144</td>\n",
       "    </tr>\n",
       "    <tr>\n",
       "      <th>first_job_self</th>\n",
       "      <td>-0.320429</td>\n",
       "      <td>-0.421630</td>\n",
       "      <td>-0.331144</td>\n",
       "      <td>1.000000</td>\n",
       "    </tr>\n",
       "  </tbody>\n",
       "</table>\n",
       "</div>"
      ],
      "text/plain": [
       "                      moved_pref_first_job  first_job_conn  first_job_school  \\\n",
       "moved_pref_first_job              1.000000        0.050007          0.209911   \n",
       "first_job_conn                    0.050007        1.000000         -0.448163   \n",
       "first_job_school                  0.209911       -0.448163          1.000000   \n",
       "first_job_self                   -0.320429       -0.421630         -0.331144   \n",
       "\n",
       "                      first_job_self  \n",
       "moved_pref_first_job       -0.320429  \n",
       "first_job_conn             -0.421630  \n",
       "first_job_school           -0.331144  \n",
       "first_job_self              1.000000  "
      ]
     },
     "execution_count": 156,
     "metadata": {},
     "output_type": "execute_result"
    }
   ],
   "source": [
    "df_table2.corr()"
   ]
  },
  {
   "cell_type": "code",
   "execution_count": null,
   "id": "26e155fb-7621-4abc-91c4-290e231bcc49",
   "metadata": {},
   "outputs": [],
   "source": []
  },
  {
   "cell_type": "code",
   "execution_count": 157,
   "id": "da257a74-a5aa-4d8c-b5c8-6bb77c10a35e",
   "metadata": {},
   "outputs": [],
   "source": [
    "_df16 = df[['first_job_year', 'birth_year','moved_pref_first_job','first_job_conn','counts']].copy()"
   ]
  },
  {
   "cell_type": "code",
   "execution_count": 158,
   "id": "6b617fa7-c6bf-44d8-b821-0eac530fb34c",
   "metadata": {},
   "outputs": [],
   "source": [
    "_df16_temp = _df16.loc[df.first_job_conn == 1, :]"
   ]
  },
  {
   "cell_type": "code",
   "execution_count": 159,
   "id": "dace8ad0-2657-4bb8-9062-01dc6fc34a75",
   "metadata": {},
   "outputs": [
    {
     "name": "stderr",
     "output_type": "stream",
     "text": [
      "/var/folders/hb/3db8mbcj4l74ztsvqyx17yd00000gn/T/ipykernel_5481/208253932.py:1: FutureWarning: Indexing with multiple keys (implicitly converted to a tuple of keys) will be deprecated, use a list instead.\n",
      "  df_group16 = _df16_temp.groupby(['first_job_year'])['moved_pref_first_job', 'counts'].sum().reset_index()\n"
     ]
    }
   ],
   "source": [
    "df_group16 = _df16_temp.groupby(['first_job_year'])['moved_pref_first_job', 'counts'].sum().reset_index()"
   ]
  },
  {
   "cell_type": "code",
   "execution_count": 160,
   "id": "b9d76c4f-683e-4ad8-8fab-c4446d256561",
   "metadata": {},
   "outputs": [],
   "source": [
    "df_group16 = df_group16[df_group16.first_job_year <= 1981]"
   ]
  },
  {
   "cell_type": "code",
   "execution_count": 161,
   "id": "5f144b7e-31eb-4ea9-b3a7-e8367d011624",
   "metadata": {},
   "outputs": [],
   "source": [
    "df_group16['moved_ratio'] = df_group16.moved_pref_first_job/ df_group16.counts"
   ]
  },
  {
   "cell_type": "code",
   "execution_count": 162,
   "id": "7c85c419-3653-4801-93a5-cc20e9067d84",
   "metadata": {},
   "outputs": [],
   "source": [
    "df_group16['moved_ratio_SMA_5'] = df_group16['moved_ratio'].rolling(window=5).mean()"
   ]
  },
  {
   "cell_type": "code",
   "execution_count": 163,
   "id": "bc7df6d3-53b7-4245-a056-dda6c13e8342",
   "metadata": {
    "tags": []
   },
   "outputs": [
    {
     "data": {
      "image/png": "[encoded data removed]",
      "text/plain": [
       "<Figure size 432x288 with 1 Axes>"
      ]
     },
     "metadata": {
      "needs_background": "light"
     },
     "output_type": "display_data"
    }
   ],
   "source": [
    "fig, ax = plt.subplots()\n",
    "df_group16.plot(x = 'first_job_year', y = 'moved_ratio', ax = ax)\n",
    "df_group16.plot(x = 'first_job_year', y = 'moved_ratio_SMA_5', ax = ax)\n",
    "plt.show()"
   ]
  },
  {
   "cell_type": "code",
   "execution_count": null,
   "id": "11a34286-e0d8-4223-8429-21d741ca6924",
   "metadata": {},
   "outputs": [],
   "source": []
  },
  {
   "cell_type": "code",
   "execution_count": 164,
   "id": "78ee724e-e300-4d4e-8f31-7902f620e3a7",
   "metadata": {},
   "outputs": [],
   "source": [
    "_df17= df[['first_job_year', 'birth_year','moved_pref_first_job','first_job_self','counts']].copy()"
   ]
  },
  {
   "cell_type": "code",
   "execution_count": 165,
   "id": "be912439-4783-44a6-a29b-a6fd4088b37c",
   "metadata": {},
   "outputs": [],
   "source": [
    "_df17_temp = _df17.loc[df.first_job_self == 1, :]"
   ]
  },
  {
   "cell_type": "code",
   "execution_count": 166,
   "id": "373357f3-1af8-4de3-82c5-6372005c9ef8",
   "metadata": {},
   "outputs": [
    {
     "name": "stderr",
     "output_type": "stream",
     "text": [
      "/var/folders/hb/3db8mbcj4l74ztsvqyx17yd00000gn/T/ipykernel_5481/2982392576.py:1: FutureWarning: Indexing with multiple keys (implicitly converted to a tuple of keys) will be deprecated, use a list instead.\n",
      "  df_group17 = _df17_temp.groupby(['first_job_year'])['moved_pref_first_job', 'counts'].sum().reset_index()\n"
     ]
    }
   ],
   "source": [
    "df_group17 = _df17_temp.groupby(['first_job_year'])['moved_pref_first_job', 'counts'].sum().reset_index()"
   ]
  },
  {
   "cell_type": "code",
   "execution_count": 167,
   "id": "ab0c6a43-815f-4519-b7db-adcff4420d55",
   "metadata": {},
   "outputs": [],
   "source": [
    "df_group17 = df_group17[df_group17.first_job_year <= 1981]"
   ]
  },
  {
   "cell_type": "code",
   "execution_count": 168,
   "id": "8c3aa7d0-b2c6-4e0e-b265-1b1671bee458",
   "metadata": {},
   "outputs": [],
   "source": [
    "df_group17['moved_ratio'] = df_group17.moved_pref_first_job/ df_group17.counts"
   ]
  },
  {
   "cell_type": "code",
   "execution_count": 169,
   "id": "effe1886-6698-407a-9320-03ae47404e5a",
   "metadata": {},
   "outputs": [],
   "source": [
    "df_group17['moved_ratio_SMA_5'] = df_group17['moved_ratio'].rolling(window=5).mean()"
   ]
  },
  {
   "cell_type": "code",
   "execution_count": 170,
   "id": "89a47235-0fe2-4296-b98e-6c976b11b1bd",
   "metadata": {
    "tags": []
   },
   "outputs": [
    {
     "data": {
      "image/png": "[encoded data removed]",
      "text/plain": [
       "<Figure size 432x288 with 1 Axes>"
      ]
     },
     "metadata": {
      "needs_background": "light"
     },
     "output_type": "display_data"
    }
   ],
   "source": [
    "fig, ax = plt.subplots()\n",
    "df_group17.plot(x = 'first_job_year', y = 'moved_ratio', ax = ax)\n",
    "df_group17.plot(x = 'first_job_year', y = 'moved_ratio_SMA_5', ax = ax)\n",
    "plt.show()"
   ]
  },
  {
   "cell_type": "code",
   "execution_count": 171,
   "id": "d796d379-5582-4d73-9d62-ba7e6f602e95",
   "metadata": {},
   "outputs": [],
   "source": [
    "birth_year_list = df.birth_year.unique()"
   ]
  },
  {
   "cell_type": "code",
   "execution_count": 172,
   "id": "641b58b4-f035-44a2-9864-0b3e188e09c1",
   "metadata": {},
   "outputs": [],
   "source": [
    "import numpy as np"
   ]
  },
  {
   "cell_type": "code",
   "execution_count": 173,
   "id": "ef65b9ea-da8d-4911-bef6-05d699b34a3c",
   "metadata": {},
   "outputs": [
    {
     "data": {
      "text/plain": [
       "array([1912, 1913, 1914, 1915, 1916, 1917, 1918, 1919, 1920, 1921, 1922,\n",
       "       1923, 1924, 1925, 1926, 1927, 1928, 1929, 1930, 1931, 1932, 1933,\n",
       "       1934, 1935, 1936, 1937, 1938, 1939, 1940, 1941, 1942, 1943, 1944,\n",
       "       1945, 1946, 1947, 1948, 1949, 1950, 1951, 1952, 1953, 1954, 1955,\n",
       "       1956])"
      ]
     },
     "execution_count": 173,
     "metadata": {},
     "output_type": "execute_result"
    }
   ],
   "source": [
    "np.sort(birth_year_list)"
   ]
  },
  {
   "cell_type": "code",
   "execution_count": 174,
   "id": "ed22ac61-0789-4082-90bd-80c9b992306f",
   "metadata": {},
   "outputs": [
    {
     "data": {
      "image/png": "[encoded data removed]",
      "text/plain": [
       "<Figure size 432x288 with 1 Axes>"
      ]
     },
     "metadata": {
      "needs_background": "light"
     },
     "output_type": "display_data"
    }
   ],
   "source": [
    "fig, ax = plt.subplots()\n",
    "_df_hist = df[df.first_job_year <= 1981]\n",
    "ax = _df_hist.first_job_year.value_counts().sort_index().plot(kind = 'bar')\n",
    "plt.title('First job year')\n",
    "ax.set_xlabel('first job year')\n",
    "ax.set_ylabel('Counts')\n",
    "plt.show()"
   ]
  },
  {
   "cell_type": "code",
   "execution_count": null,
   "id": "89b63975-9e23-4def-9970-0f71ca946c93",
   "metadata": {},
   "outputs": [],
   "source": []
  }
 ],
 "metadata": {
  "kernelspec": {
   "display_name": "Python 3 (ipykernel)",
   "language": "python",
   "name": "python3"
  },
  "language_info": {
   "codemirror_mode": {
    "name": "ipython",
    "version": 3
   },
   "file_extension": ".py",
   "mimetype": "text/x-python",
   "name": "python",
   "nbconvert_exporter": "python",
   "pygments_lexer": "ipython3",
   "version": "3.9.6"
  }
 },
 "nbformat": 4,
 "nbformat_minor": 5
}
