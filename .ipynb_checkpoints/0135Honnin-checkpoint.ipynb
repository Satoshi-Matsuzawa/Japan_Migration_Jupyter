{
 "cells": [
  {
   "cell_type": "code",
   "execution_count": 1,
   "metadata": {},
   "outputs": [],
   "source": [
    "import pandas as pd\n",
    "import os\n",
    "\n",
    "directory = '../../Data/CareerHistory/0134'\n",
    "file_name_label = '0134_ver2 label.txt'\n",
    "\n",
    "file_label = os.path.join(directory, file_name_label)"
   ]
  },
  {
   "cell_type": "code",
   "execution_count": 2,
   "metadata": {},
   "outputs": [],
   "source": [
    "file_name_data = '0134_ver2.csv'\n",
    "\n",
    "file_data = os.path.join(directory, file_name_data)\n",
    "df = pd.read_csv(file_data, sep = ',', error_bad_lines = False)"
   ]
  },
  {
   "cell_type": "code",
   "execution_count": 3,
   "metadata": {},
   "outputs": [],
   "source": [
    "with open(file_label, 'r') as f:\n",
    "    x = f.read().splitlines()"
   ]
  },
  {
   "cell_type": "code",
   "execution_count": 4,
   "metadata": {},
   "outputs": [],
   "source": [
    "def get_list_of_lists(x):\n",
    "    # Return each row as a list\n",
    "    list_of_lists = []\n",
    "    for line in x:\n",
    "        list_of_lists.append(line.split('\\t'))\n",
    "    return list_of_lists"
   ]
  },
  {
   "cell_type": "code",
   "execution_count": 5,
   "metadata": {},
   "outputs": [],
   "source": [
    "list_of_lists = get_list_of_lists(x)"
   ]
  },
  {
   "cell_type": "code",
   "execution_count": 6,
   "metadata": {},
   "outputs": [],
   "source": [
    "def search_index(keyword, list_of_lists = list_of_lists):\n",
    "    # Check if the keyword is in the list\n",
    "    idx_list = []\n",
    "    for idx, item in enumerate(list_of_lists):\n",
    "        if keyword in item[0]:\n",
    "            idx_list.append(idx)\n",
    "    return idx_list"
   ]
  },
  {
   "cell_type": "code",
   "execution_count": 7,
   "metadata": {},
   "outputs": [],
   "source": [
    "# Split list_of_lists to variable info list and varuable value list"
   ]
  },
  {
   "cell_type": "code",
   "execution_count": 8,
   "metadata": {},
   "outputs": [],
   "source": [
    "hensu_joho_idx = search_index('変数情報')[0] # id of 変数情報"
   ]
  },
  {
   "cell_type": "code",
   "execution_count": 9,
   "metadata": {},
   "outputs": [],
   "source": [
    "hensu_chi_idx = search_index('変数値')[0] # id of 変数値"
   ]
  },
  {
   "cell_type": "code",
   "execution_count": 10,
   "metadata": {},
   "outputs": [],
   "source": [
    "# split the list of lists\n",
    "list_of_lists_info = list_of_lists[hensu_joho_idx:hensu_chi_idx] # Contains value informaiotn\n",
    "list_of_lists_val = list_of_lists[hensu_chi_idx:] # Contains value variables"
   ]
  },
  {
   "cell_type": "code",
   "execution_count": 11,
   "metadata": {},
   "outputs": [],
   "source": [
    "list_of_lists_val_1st_elem = [item[0] for item in list_of_lists_val] # First elements in val list"
   ]
  },
  {
   "cell_type": "code",
   "execution_count": 12,
   "metadata": {},
   "outputs": [],
   "source": [
    "list_of_vars_info = [item[0] for item in list_of_lists_info] # list of variables in the info list"
   ]
  },
  {
   "cell_type": "code",
   "execution_count": 13,
   "metadata": {},
   "outputs": [],
   "source": [
    "list_of_vars_val  = [s for s in list_of_lists_val_1st_elem if s] # list of variables in the values list"
   ]
  },
  {
   "cell_type": "code",
   "execution_count": 14,
   "metadata": {},
   "outputs": [],
   "source": [
    "def search_keyword(keyword, list_of_lists = list_of_lists_info):\n",
    "    variables = []\n",
    "    for item in list_of_lists:\n",
    "        if len(item) == 3:\n",
    "            if keyword in item[2]:\n",
    "                variables.append(item[0])\n",
    "                \n",
    "    # Remove empty elements\n",
    "    variables = [item for item in variables if item]\n",
    "    return variables"
   ]
  },
  {
   "cell_type": "code",
   "execution_count": 15,
   "metadata": {},
   "outputs": [],
   "source": [
    "def return_next_var(var, list_of_vars):\n",
    "    # Use list of variables, taken from var_info, return the next variable\n",
    "    current_idx = list_of_vars.index(var)\n",
    "    next_var = list_of_vars[current_idx + 1]\n",
    "    return next_var"
   ]
  },
  {
   "cell_type": "code",
   "execution_count": 16,
   "metadata": {},
   "outputs": [],
   "source": [
    "def get_dict(var, \n",
    "             list_of_lists = list_of_lists_val,\n",
    "             list_of_lists_1st_elem = list_of_lists_val_1st_elem, \n",
    "             list_of_vars = list_of_vars_val):\n",
    "    # Return dictionary for var\n",
    "    \n",
    "    dict = {}\n",
    "    # Get the next variable using the list of variables in the values list\n",
    "    next_var = return_next_var(var, list_of_vars)\n",
    "    \n",
    "    # Get the index for the list of lists of values\n",
    "    idx = list_of_lists_1st_elem.index(var)\n",
    "    next_idx = list_of_lists_1st_elem.index(next_var)\n",
    "    \n",
    "    # Slice the list of lists\n",
    "    sublist = list_of_lists[idx:next_idx]\n",
    "    \n",
    "    for item in sublist:\n",
    "        new_dict = {item[1]:item[2]}\n",
    "        dict.update(new_dict)\n",
    "    return dict"
   ]
  },
  {
   "cell_type": "code",
   "execution_count": 17,
   "metadata": {},
   "outputs": [],
   "source": [
    "def replace_val(keyword, df = df):\n",
    "    variables = search_keyword(keyword)\n",
    "    dictionary = get_dict(variables[0])\n",
    "    for item in variables:\n",
    "        df[item] = df[item].astype(str)\n",
    "        df[item] = df[item].map(dictionary)"
   ]
  },
  {
   "cell_type": "code",
   "execution_count": 18,
   "metadata": {},
   "outputs": [],
   "source": [
    "# Can be used to replace column names\n",
    "variables_dict = [{item[0],item[2].replace('\\u3000', '_')} for item in list_of_lists_info if len(item) == 3]"
   ]
  },
  {
   "cell_type": "code",
   "execution_count": 22,
   "metadata": {},
   "outputs": [],
   "source": [
    "list_of_keywords = ['県', \n",
    "                    '都市類型',\n",
    "                    '居住地状況',\n",
    "                    '地域間移動', \n",
    "                    '大分類', \n",
    "                    '小分類',\n",
    "                    '現職の有無',\n",
    "                    '最終学歴',\n",
    "                    '新制高校の学科',\n",
    "                    '大学の分野',\n",
    "                    '最終学校の所在地',\n",
    "                    '最終学校の課程',\n",
    "                    '最終学校の卒業状況',\n",
    "                    '従業上の地位',\n",
    "                    '産業分類',\n",
    "                    '役職',\n",
    "                    '雇用者数',\n",
    "                    '異動理由',\n",
    "                    '入職経路',                    \n",
    "                    '世帯収入',\n",
    "                    '個人収入'\n",
    "                   ]"
   ]
  },
  {
   "cell_type": "code",
   "execution_count": 20,
   "metadata": {},
   "outputs": [],
   "source": [
    "for keywords in list_of_keywords:\n",
    "    replace_val(keywords)"
   ]
  },
  {
   "cell_type": "code",
   "execution_count": 21,
   "metadata": {},
   "outputs": [
    {
     "data": {
      "text/plain": [
       "0          この市（郡）に住んでいた\n",
       "1          この市（郡）に住んでいた\n",
       "2       この市（郡）以外にに住んでいた\n",
       "3       この市（郡）以外にに住んでいた\n",
       "4       この市（郡）以外にに住んでいた\n",
       "             ...       \n",
       "2485       この市（郡）に住んでいた\n",
       "2486    この市（郡）以外にに住んでいた\n",
       "2487    この市（郡）以外にに住んでいた\n",
       "2488       この市（郡）に住んでいた\n",
       "2489       この市（郡）に住んでいた\n",
       "Name: q2_1, Length: 2490, dtype: object"
      ]
     },
     "execution_count": 21,
     "metadata": {},
     "output_type": "execute_result"
    }
   ],
   "source": [
    "df.q2_1"
   ]
  },
  {
   "cell_type": "code",
   "execution_count": 23,
   "metadata": {},
   "outputs": [],
   "source": [
    "df.to_csv('0134.csv')"
   ]
  },
  {
   "cell_type": "code",
   "execution_count": null,
   "metadata": {},
   "outputs": [],
   "source": []
  }
 ],
 "metadata": {
  "kernelspec": {
   "display_name": "Python 3",
   "language": "python",
   "name": "python3"
  },
  "language_info": {
   "codemirror_mode": {
    "name": "ipython",
    "version": 3
   },
   "file_extension": ".py",
   "mimetype": "text/x-python",
   "name": "python",
   "nbconvert_exporter": "python",
   "pygments_lexer": "ipython3",
   "version": "3.7.7"
  }
 },
 "nbformat": 4,
 "nbformat_minor": 4
}
