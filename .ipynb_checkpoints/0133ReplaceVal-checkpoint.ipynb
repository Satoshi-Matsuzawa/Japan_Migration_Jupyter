{
 "cells": [
  {
   "cell_type": "code",
   "execution_count": 1,
   "metadata": {},
   "outputs": [],
   "source": [
    "import pandas as pd\n",
    "import os\n",
    "\n",
    "directory = '../../Data/CareerHistory/0134'\n",
    "file_name_label = '0134_ver2 label.txt'\n",
    "\n",
    "file_label = os.path.join(directory, file_name_label)"
   ]
  },
  {
   "cell_type": "code",
   "execution_count": 2,
   "metadata": {},
   "outputs": [],
   "source": [
    "directory = '../../Data/CareerHistory/0134'\n",
    "file_name_data = '0134_ver2.csv'\n",
    "\n",
    "file_data = os.path.join(directory, file_name_data)\n",
    "df = pd.read_csv(file_data, sep = ',', error_bad_lines = False)"
   ]
  },
  {
   "cell_type": "code",
   "execution_count": 3,
   "metadata": {},
   "outputs": [],
   "source": [
    "with open(file_label, 'r') as f:\n",
    "    x = f.read().splitlines()"
   ]
  },
  {
   "cell_type": "code",
   "execution_count": 4,
   "metadata": {},
   "outputs": [],
   "source": [
    "def get_list_of_lists(x):\n",
    "    # Return each row as a list\n",
    "    list_of_lists = []\n",
    "    for line in x:\n",
    "        list_of_lists.append(line.split('\\t'))\n",
    "    return list_of_lists"
   ]
  },
  {
   "cell_type": "code",
   "execution_count": 5,
   "metadata": {},
   "outputs": [],
   "source": [
    "list_of_lists = get_list_of_lists(x)"
   ]
  },
  {
   "cell_type": "code",
   "execution_count": 6,
   "metadata": {},
   "outputs": [],
   "source": [
    "def search_index(keyword, list_of_lists = list_of_lists):\n",
    "    # Check if the keyword is in the list\n",
    "    idx_list = []\n",
    "    for idx, item in enumerate(list_of_lists):\n",
    "        if keyword in item[0]:\n",
    "            idx_list.append(idx)\n",
    "    return idx_list"
   ]
  },
  {
   "cell_type": "code",
   "execution_count": 7,
   "metadata": {},
   "outputs": [],
   "source": [
    "# Split list_of_lists to variable info list and varuable value list"
   ]
  },
  {
   "cell_type": "code",
   "execution_count": 8,
   "metadata": {},
   "outputs": [],
   "source": [
    "hensu_joho_idx = search_index('変数情報')[0] # id of 変数情報"
   ]
  },
  {
   "cell_type": "code",
   "execution_count": 9,
   "metadata": {},
   "outputs": [],
   "source": [
    "hensu_chi_idx = search_index('変数値')[0] # id of 変数値"
   ]
  },
  {
   "cell_type": "code",
   "execution_count": 10,
   "metadata": {},
   "outputs": [],
   "source": [
    "# split the list of lists\n",
    "list_of_lists_info = list_of_lists[hensu_joho_idx:hensu_chi_idx] # Contains value informaiotn\n",
    "list_of_lists_val = list_of_lists[hensu_chi_idx:] # Contains value variables"
   ]
  },
  {
   "cell_type": "code",
   "execution_count": 11,
   "metadata": {},
   "outputs": [],
   "source": [
    "list_of_lists_val_1st_elem = [item[0] for item in list_of_lists_val] # First elements in val list"
   ]
  },
  {
   "cell_type": "code",
   "execution_count": 12,
   "metadata": {},
   "outputs": [],
   "source": [
    "list_of_vars_info = [item[0] for item in list_of_lists_info] # list of variables in the info list"
   ]
  },
  {
   "cell_type": "code",
   "execution_count": 13,
   "metadata": {},
   "outputs": [],
   "source": [
    "list_of_vars_val  = [s for s in list_of_lists_val_1st_elem if s] # list of variables in the values list"
   ]
  },
  {
   "cell_type": "code",
   "execution_count": 14,
   "metadata": {},
   "outputs": [],
   "source": [
    "def search_keyword(keyword, list_of_lists = list_of_lists_info):\n",
    "    variables = []\n",
    "    for item in list_of_lists:\n",
    "        if len(item) == 3:\n",
    "            if keyword in item[2]:\n",
    "                variables.append(item[0])\n",
    "                \n",
    "    # Remove empty elements\n",
    "    variables = [item for item in variables if item]\n",
    "    return variables"
   ]
  },
  {
   "cell_type": "code",
   "execution_count": 15,
   "metadata": {},
   "outputs": [],
   "source": [
    "def return_next_var(var, list_of_vars):\n",
    "    # Use list of variables, taken from var_info, return the next variable\n",
    "    current_idx = list_of_vars.index(var)\n",
    "    next_var = list_of_vars[current_idx + 1]\n",
    "    return next_var"
   ]
  },
  {
   "cell_type": "code",
   "execution_count": 16,
   "metadata": {},
   "outputs": [],
   "source": [
    "def get_dict(var, \n",
    "             list_of_lists = list_of_lists_val,\n",
    "             list_of_lists_1st_elem = list_of_lists_val_1st_elem, \n",
    "             list_of_vars = list_of_vars_val):\n",
    "    # Return dictionary for var\n",
    "    \n",
    "    dict = {}\n",
    "    # Get the next variable using the list of variables in the values list\n",
    "    next_var = return_next_var(var, list_of_vars)\n",
    "    \n",
    "    # Get the index for the list of lists of values\n",
    "    idx = list_of_lists_1st_elem.index(var)\n",
    "    next_idx = list_of_lists_1st_elem.index(next_var)\n",
    "    \n",
    "    # Slice the list of lists\n",
    "    sublist = list_of_lists[idx:next_idx]\n",
    "    \n",
    "    for item in sublist:\n",
    "        new_dict = {item[1]:item[2]}\n",
    "        dict.update(new_dict)\n",
    "    return dict"
   ]
  },
  {
   "cell_type": "code",
   "execution_count": 17,
   "metadata": {},
   "outputs": [],
   "source": [
    "def replace_val(keyword, df = df):\n",
    "    variables = search_keyword(keyword)\n",
    "    dictionary = get_dict(variables[0])\n",
    "    for item in variables:\n",
    "        df[item] = df[item].astype(str)\n",
    "        df[item] = df[item].map(dictionary)"
   ]
  },
  {
   "cell_type": "code",
   "execution_count": 18,
   "metadata": {},
   "outputs": [
    {
     "data": {
      "text/plain": [
       "['kyojuuchi', 'q2_4']"
      ]
     },
     "execution_count": 18,
     "metadata": {},
     "output_type": "execute_result"
    }
   ],
   "source": [
    "search_keyword('県')"
   ]
  },
  {
   "cell_type": "code",
   "execution_count": 19,
   "metadata": {},
   "outputs": [],
   "source": [
    "replace_val('大分類')"
   ]
  },
  {
   "cell_type": "code",
   "execution_count": 22,
   "metadata": {},
   "outputs": [],
   "source": [
    "replace_val('小分類')"
   ]
  },
  {
   "cell_type": "code",
   "execution_count": null,
   "metadata": {},
   "outputs": [],
   "source": []
  },
  {
   "cell_type": "code",
   "execution_count": 23,
   "metadata": {},
   "outputs": [
    {
     "data": {
      "text/plain": [
       "0           販売店員\n",
       "1            NaN\n",
       "2          一般事務員\n",
       "3          一般事務員\n",
       "4            美容師\n",
       "          ...   \n",
       "2485       一般事務員\n",
       "2486         NaN\n",
       "2487    農耕・養蚕作業者\n",
       "2488    農耕・養蚕作業者\n",
       "2489    農耕・養蚕作業者\n",
       "Name: q20_4_2, Length: 2490, dtype: object"
      ]
     },
     "execution_count": 23,
     "metadata": {},
     "output_type": "execute_result"
    }
   ],
   "source": [
    "df['q20_4_2']"
   ]
  },
  {
   "cell_type": "code",
   "execution_count": 21,
   "metadata": {},
   "outputs": [
    {
     "data": {
      "text/plain": [
       "0              販売従事者\n",
       "1          サービス職業従事者\n",
       "2              事務従事者\n",
       "3       専門的・技術的職業従事者\n",
       "4          サービス職業従事者\n",
       "            ...     \n",
       "2485    専門的・技術的職業従事者\n",
       "2486    専門的・技術的職業従事者\n",
       "2487              不明\n",
       "2488              不明\n",
       "2489    専門的・技術的職業従事者\n",
       "Name: q4_1, Length: 2490, dtype: object"
      ]
     },
     "execution_count": 21,
     "metadata": {},
     "output_type": "execute_result"
    }
   ],
   "source": [
    "df['q4_1']"
   ]
  },
  {
   "cell_type": "code",
   "execution_count": null,
   "metadata": {},
   "outputs": [],
   "source": []
  }
 ],
 "metadata": {
  "kernelspec": {
   "display_name": "Python 3",
   "language": "python",
   "name": "python3"
  },
  "language_info": {
   "codemirror_mode": {
    "name": "ipython",
    "version": 3
   },
   "file_extension": ".py",
   "mimetype": "text/x-python",
   "name": "python",
   "nbconvert_exporter": "python",
   "pygments_lexer": "ipython3",
   "version": "3.7.7"
  }
 },
 "nbformat": 4,
 "nbformat_minor": 4
}
