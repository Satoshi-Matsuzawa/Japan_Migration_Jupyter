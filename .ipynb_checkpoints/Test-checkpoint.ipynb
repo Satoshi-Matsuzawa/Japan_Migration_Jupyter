{
 "cells": [
  {
   "cell_type": "code",
   "execution_count": 4,
   "metadata": {
    "scrolled": true
   },
   "outputs": [],
   "source": [
    "import numpy as np\n",
    "import pandas as pd"
   ]
  },
  {
   "cell_type": "code",
   "execution_count": 1,
   "metadata": {},
   "outputs": [
    {
     "data": {
      "text/plain": [
       "'/home/satoshi/Documents/Projects/Japan_Migration/Codes/Jupyter_Notebooks'"
      ]
     },
     "execution_count": 1,
     "metadata": {},
     "output_type": "execute_result"
    }
   ],
   "source": [
    "import os\n",
    "os.getcwd()"
   ]
  },
  {
   "cell_type": "code",
   "execution_count": 51,
   "metadata": {},
   "outputs": [],
   "source": [
    "df3 = pd.read_csv('../../Data/School/0001/0001_hei.dat')"
   ]
  },
  {
   "cell_type": "code",
   "execution_count": 52,
   "metadata": {},
   "outputs": [
    {
     "data": {
      "text/plain": [
       "Index(['gakkou\\tseibetu\\tq2_1\\tq2_2\\tq2_3\\tq2_4\\tq2_5\\tq2_6\\tq3.1\\tq3.2\\tq4.1\\tq4.3.1\\tq4.3.2\\tq5\\tq7\\tq8'], dtype='object')"
      ]
     },
     "execution_count": 52,
     "metadata": {},
     "output_type": "execute_result"
    }
   ],
   "source": [
    "df3.columns"
   ]
  },
  {
   "cell_type": "code",
   "execution_count": 91,
   "metadata": {},
   "outputs": [],
   "source": [
    "df1 = pd.read_csv('School_Statistics.dat', sep='\\t')"
   ]
  },
  {
   "cell_type": "code",
   "execution_count": 97,
   "metadata": {},
   "outputs": [],
   "source": [
    "df1.columns=['school_id', 'male_graduates', 'male_highschool', 'male_parttime_highschool', 'male_employed', 'male_home_and_highschool', 'male_home', 'male_others', 'female_graduates', 'female_highschool', 'female_parttime_highschool' , 'female_employed', 'female_home_and_highschool', 'female_home', 'female_others'] "
   ]
  },
  {
   "cell_type": "code",
   "execution_count": 98,
   "metadata": {},
   "outputs": [
    {
     "data": {
      "text/plain": [
       "Index(['school_id', 'male_graduates', 'male_highschool',\n",
       "       'male_parttime_highschool', 'male_employed', 'male_home_and_highschool',\n",
       "       'male_home', 'male_others', 'female_graduates', 'female_highschool',\n",
       "       'female_parttime_highschool', 'female_employed',\n",
       "       'female_home_and_highschool', 'female_home', 'female_others'],\n",
       "      dtype='object')"
      ]
     },
     "execution_count": 98,
     "metadata": {},
     "output_type": "execute_result"
    }
   ],
   "source": [
    "df1.columns"
   ]
  },
  {
   "cell_type": "code",
   "execution_count": 99,
   "metadata": {},
   "outputs": [],
   "source": [
    "df2 = pd.read_csv('0001_otsu.dat',sep='\\t', error_bad_lines=False)"
   ]
  },
  {
   "cell_type": "code",
   "execution_count": 100,
   "metadata": {},
   "outputs": [
    {
     "data": {
      "text/plain": [
       "Index(['gakkou', 'seibetu', 'q2_1', 'q2_2', 'q2_3', 'q2_4', 'q2_5', 'q2_6',\n",
       "       'q3.1', 'q3.2', 'q4.1', 'q4.3.1', 'q4.3.2', 'q6', 'q7', 'q8', 'q9.1.2',\n",
       "       'q9.2', 'q10', 'q11', 'q12', 'q13'],\n",
       "      dtype='object')"
      ]
     },
     "execution_count": 100,
     "metadata": {},
     "output_type": "execute_result"
    }
   ],
   "source": [
    "df2.columns"
   ]
  },
  {
   "cell_type": "code",
   "execution_count": 104,
   "metadata": {},
   "outputs": [],
   "source": [
    "df2.columns = ['school_id','gender','course_1','course_2','course_3', 'course_4','course_5', 'course_6', 'heir','relation_to_the_guardian','oppupation_of_the_guardian','living_standard','family_size','job_industry','job_location','job_firm_size','job_description','job_trainee_or_apprentice','job_starting_salary','job_commute_or_independent','job_employment_channel','attend_school']"
   ]
  },
  {
   "cell_type": "code",
   "execution_count": 105,
   "metadata": {},
   "outputs": [
    {
     "data": {
      "text/plain": [
       "Index(['school_id', 'gender', 'course_1', 'course_2', 'course_3', 'course_4',\n",
       "       'course_5', 'course_6', 'heir', 'relation_to_the_guardian',\n",
       "       'oppupation_of_the_guardian', 'living_standard', 'family_size',\n",
       "       'job_industry', 'job_location', 'job_firm_size', 'job_description',\n",
       "       'job_trainee_or_apprentice', 'job_starting_salary',\n",
       "       'job_commute_or_independent', 'job_employment_channel',\n",
       "       'attend_school'],\n",
       "      dtype='object')"
      ]
     },
     "execution_count": 105,
     "metadata": {},
     "output_type": "execute_result"
    }
   ],
   "source": [
    "df2.columns"
   ]
  },
  {
   "cell_type": "code",
   "execution_count": 106,
   "metadata": {},
   "outputs": [],
   "source": [
    "df3 = pd.read_csv('0001_hei.dat',sep='\\t', error_bad_lines=False)\n"
   ]
  },
  {
   "cell_type": "code",
   "execution_count": 107,
   "metadata": {},
   "outputs": [
    {
     "data": {
      "text/plain": [
       "Index(['gakkou', 'seibetu', 'q2_1', 'q2_2', 'q2_3', 'q2_4', 'q2_5', 'q2_6',\n",
       "       'q3.1', 'q3.2', 'q4.1', 'q4.3.1', 'q4.3.2', 'q5', 'q7', 'q8'],\n",
       "      dtype='object')"
      ]
     },
     "execution_count": 107,
     "metadata": {},
     "output_type": "execute_result"
    }
   ],
   "source": [
    "df3.columns\n"
   ]
  },
  {
   "cell_type": "code",
   "execution_count": 108,
   "metadata": {},
   "outputs": [],
   "source": [
    "df3.columns = ['school_id','gender','course_1','course_2','course_3','course_4','course_5','counse_6','heir','relation_to_the_guardian','occupation_of_the_guardian','living_standard','family_size','reasons_not_employed','career_plan','attending_school']"
   ]
  },
  {
   "cell_type": "code",
   "execution_count": 109,
   "metadata": {},
   "outputs": [
    {
     "data": {
      "text/plain": [
       "Index(['school_id', 'gender', 'course_1', 'course_2', 'course_3', 'course_4',\n",
       "       'course_5', 'counse_6', 'heir', 'relation_to_the_guardian',\n",
       "       'occupation_of_the_guardian', 'living_standard', 'family_size',\n",
       "       'reasons_not_employed', 'career_plan', 'attending_school'],\n",
       "      dtype='object')"
      ]
     },
     "execution_count": 109,
     "metadata": {},
     "output_type": "execute_result"
    }
   ],
   "source": [
    "df3.columns"
   ]
  },
  {
   "cell_type": "code",
   "execution_count": 110,
   "metadata": {},
   "outputs": [],
   "source": [
    "df4 = pd.read_csv('0001_tei.dat',sep='\\t', error_bad_lines=False)\n"
   ]
  },
  {
   "cell_type": "code",
   "execution_count": 111,
   "metadata": {},
   "outputs": [
    {
     "data": {
      "text/plain": [
       "Index(['gakkou', 'seibetu', 'q1.1', 'q1.2', 'q2', 'q4', 'q6', 'q7'], dtype='object')"
      ]
     },
     "execution_count": 111,
     "metadata": {},
     "output_type": "execute_result"
    }
   ],
   "source": [
    "df4.columns"
   ]
  },
  {
   "cell_type": "code",
   "execution_count": 112,
   "metadata": {},
   "outputs": [],
   "source": [
    "df4.columns = ['school_id','gender','heir','relation_to_guardian','occupation_of_the_guardian','academic_scores','specialization','career_plan']"
   ]
  },
  {
   "cell_type": "code",
   "execution_count": 113,
   "metadata": {},
   "outputs": [
    {
     "data": {
      "text/plain": [
       "Index(['school_id', 'gender', 'heir', 'relation_to_guardian',\n",
       "       'occupation_of_the_guardian', 'academic_scores', 'specialization',\n",
       "       'career_plan'],\n",
       "      dtype='object')"
      ]
     },
     "execution_count": 113,
     "metadata": {},
     "output_type": "execute_result"
    }
   ],
   "source": [
    "df4.columns\n"
   ]
  },
  {
   "cell_type": "code",
   "execution_count": null,
   "metadata": {},
   "outputs": [],
   "source": []
  }
 ],
 "metadata": {
  "kernelspec": {
   "display_name": "Python 3",
   "language": "python",
   "name": "python3"
  },
  "language_info": {
   "codemirror_mode": {
    "name": "ipython",
    "version": 3
   },
   "file_extension": ".py",
   "mimetype": "text/x-python",
   "name": "python",
   "nbconvert_exporter": "python",
   "pygments_lexer": "ipython3",
   "version": "3.7.4"
  }
 },
 "nbformat": 4,
 "nbformat_minor": 4
}
