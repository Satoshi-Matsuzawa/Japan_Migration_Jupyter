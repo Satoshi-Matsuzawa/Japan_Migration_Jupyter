{
 "cells": [
  {
   "cell_type": "code",
   "execution_count": 1,
   "metadata": {},
   "outputs": [],
   "source": [
    "import pandas as pd\n",
    "import os\n",
    "\n",
    "directory = '../../Data/School/0001'\n",
    "file_name_label = '0001_tei label.txt'\n",
    "\n",
    "file_label = os.path.join(directory, file_name_label)"
   ]
  },
  {
   "cell_type": "code",
   "execution_count": 2,
   "metadata": {},
   "outputs": [],
   "source": [
    "file_name_data = '0001_tei.dat'\n",
    "\n",
    "file_data = os.path.join(directory, file_name_data)\n",
    "df = pd.read_csv(file_data, sep = '\\t', error_bad_lines = False)"
   ]
  },
  {
   "cell_type": "code",
   "execution_count": 3,
   "metadata": {},
   "outputs": [
    {
     "data": {
      "text/html": [
       "<div>\n",
       "<style scoped>\n",
       "    .dataframe tbody tr th:only-of-type {\n",
       "        vertical-align: middle;\n",
       "    }\n",
       "\n",
       "    .dataframe tbody tr th {\n",
       "        vertical-align: top;\n",
       "    }\n",
       "\n",
       "    .dataframe thead th {\n",
       "        text-align: right;\n",
       "    }\n",
       "</style>\n",
       "<table border=\"1\" class=\"dataframe\">\n",
       "  <thead>\n",
       "    <tr style=\"text-align: right;\">\n",
       "      <th></th>\n",
       "      <th>gakkou</th>\n",
       "      <th>seibetu</th>\n",
       "      <th>q1.1</th>\n",
       "      <th>q1.2</th>\n",
       "      <th>q2</th>\n",
       "      <th>q4</th>\n",
       "      <th>q6</th>\n",
       "      <th>q7</th>\n",
       "    </tr>\n",
       "  </thead>\n",
       "  <tbody>\n",
       "    <tr>\n",
       "      <th>0</th>\n",
       "      <td>101</td>\n",
       "      <td>1</td>\n",
       "      <td>9</td>\n",
       "      <td>1</td>\n",
       "      <td>10</td>\n",
       "      <td>1</td>\n",
       "      <td></td>\n",
       "      <td>2</td>\n",
       "    </tr>\n",
       "    <tr>\n",
       "      <th>1</th>\n",
       "      <td>101</td>\n",
       "      <td>1</td>\n",
       "      <td>9</td>\n",
       "      <td>1</td>\n",
       "      <td>10</td>\n",
       "      <td>1</td>\n",
       "      <td></td>\n",
       "      <td>1</td>\n",
       "    </tr>\n",
       "    <tr>\n",
       "      <th>2</th>\n",
       "      <td>101</td>\n",
       "      <td>1</td>\n",
       "      <td>9</td>\n",
       "      <td>4</td>\n",
       "      <td>4</td>\n",
       "      <td>2</td>\n",
       "      <td>1</td>\n",
       "      <td>2</td>\n",
       "    </tr>\n",
       "    <tr>\n",
       "      <th>3</th>\n",
       "      <td>101</td>\n",
       "      <td>1</td>\n",
       "      <td>9</td>\n",
       "      <td>1</td>\n",
       "      <td>5</td>\n",
       "      <td>1</td>\n",
       "      <td>1</td>\n",
       "      <td>2</td>\n",
       "    </tr>\n",
       "    <tr>\n",
       "      <th>4</th>\n",
       "      <td>101</td>\n",
       "      <td>1</td>\n",
       "      <td>9</td>\n",
       "      <td>2</td>\n",
       "      <td>14</td>\n",
       "      <td>1</td>\n",
       "      <td></td>\n",
       "      <td>1</td>\n",
       "    </tr>\n",
       "    <tr>\n",
       "      <th>...</th>\n",
       "      <td>...</td>\n",
       "      <td>...</td>\n",
       "      <td>...</td>\n",
       "      <td>...</td>\n",
       "      <td>...</td>\n",
       "      <td>...</td>\n",
       "      <td>...</td>\n",
       "      <td>...</td>\n",
       "    </tr>\n",
       "    <tr>\n",
       "      <th>16559</th>\n",
       "      <td>1312</td>\n",
       "      <td>2</td>\n",
       "      <td>9</td>\n",
       "      <td>2</td>\n",
       "      <td>1</td>\n",
       "      <td>1</td>\n",
       "      <td></td>\n",
       "      <td>2</td>\n",
       "    </tr>\n",
       "    <tr>\n",
       "      <th>16560</th>\n",
       "      <td>1312</td>\n",
       "      <td>2</td>\n",
       "      <td>9</td>\n",
       "      <td>3</td>\n",
       "      <td>1</td>\n",
       "      <td>1</td>\n",
       "      <td>1</td>\n",
       "      <td>2</td>\n",
       "    </tr>\n",
       "    <tr>\n",
       "      <th>16561</th>\n",
       "      <td>1312</td>\n",
       "      <td>2</td>\n",
       "      <td>9</td>\n",
       "      <td>4</td>\n",
       "      <td>1</td>\n",
       "      <td>1</td>\n",
       "      <td></td>\n",
       "      <td>1</td>\n",
       "    </tr>\n",
       "    <tr>\n",
       "      <th>16562</th>\n",
       "      <td>1312</td>\n",
       "      <td>2</td>\n",
       "      <td>9</td>\n",
       "      <td>4</td>\n",
       "      <td>1</td>\n",
       "      <td>1</td>\n",
       "      <td>1</td>\n",
       "      <td>2</td>\n",
       "    </tr>\n",
       "    <tr>\n",
       "      <th>16563</th>\n",
       "      <td>1312</td>\n",
       "      <td>2</td>\n",
       "      <td>9</td>\n",
       "      <td>1</td>\n",
       "      <td>5</td>\n",
       "      <td>1</td>\n",
       "      <td></td>\n",
       "      <td>2</td>\n",
       "    </tr>\n",
       "  </tbody>\n",
       "</table>\n",
       "<p>16564 rows × 8 columns</p>\n",
       "</div>"
      ],
      "text/plain": [
       "       gakkou  seibetu  q1.1  q1.2  q2  q4 q6  q7\n",
       "0         101        1     9     1  10   1      2\n",
       "1         101        1     9     1  10   1      1\n",
       "2         101        1     9     4   4   2  1   2\n",
       "3         101        1     9     1   5   1  1   2\n",
       "4         101        1     9     2  14   1      1\n",
       "...       ...      ...   ...   ...  ..  .. ..  ..\n",
       "16559    1312        2     9     2   1   1      2\n",
       "16560    1312        2     9     3   1   1  1   2\n",
       "16561    1312        2     9     4   1   1      1\n",
       "16562    1312        2     9     4   1   1  1   2\n",
       "16563    1312        2     9     1   5   1      2\n",
       "\n",
       "[16564 rows x 8 columns]"
      ]
     },
     "execution_count": 3,
     "metadata": {},
     "output_type": "execute_result"
    }
   ],
   "source": [
    "df"
   ]
  },
  {
   "cell_type": "code",
   "execution_count": 4,
   "metadata": {},
   "outputs": [],
   "source": [
    "with open(file_label, 'r') as f:\n",
    "    x = f.read().splitlines()"
   ]
  },
  {
   "cell_type": "code",
   "execution_count": 5,
   "metadata": {},
   "outputs": [],
   "source": [
    "def get_list_of_lists(x):\n",
    "    # Return each row as a list\n",
    "    list_of_lists = []\n",
    "    for line in x:\n",
    "        list_of_lists.append(line.split('\\t'))\n",
    "    return list_of_lists"
   ]
  },
  {
   "cell_type": "code",
   "execution_count": 6,
   "metadata": {},
   "outputs": [],
   "source": [
    "list_of_lists = get_list_of_lists(x)"
   ]
  },
  {
   "cell_type": "code",
   "execution_count": 7,
   "metadata": {},
   "outputs": [],
   "source": [
    "def search_index(keyword, list_of_lists = list_of_lists):\n",
    "    # Check if the keyword is in the list\n",
    "    idx_list = []\n",
    "    for idx, item in enumerate(list_of_lists):\n",
    "        if keyword in item[0]:\n",
    "            idx_list.append(idx)\n",
    "    return idx_list"
   ]
  },
  {
   "cell_type": "code",
   "execution_count": 8,
   "metadata": {},
   "outputs": [],
   "source": [
    "# Split list_of_lists to variable info list and varuable value list"
   ]
  },
  {
   "cell_type": "code",
   "execution_count": 9,
   "metadata": {},
   "outputs": [],
   "source": [
    "hensu_joho_idx = search_index('変数情報')[0] # id of 変数情報"
   ]
  },
  {
   "cell_type": "code",
   "execution_count": 10,
   "metadata": {},
   "outputs": [],
   "source": [
    "hensu_chi_idx = search_index('変数値')[0] # id of 変数値"
   ]
  },
  {
   "cell_type": "code",
   "execution_count": 11,
   "metadata": {},
   "outputs": [],
   "source": [
    "# split the list of lists\n",
    "list_of_lists_info = list_of_lists[hensu_joho_idx:hensu_chi_idx] # Contains value informaiotn\n",
    "list_of_lists_val = list_of_lists[hensu_chi_idx:-1] # Contains value variables"
   ]
  },
  {
   "cell_type": "code",
   "execution_count": 12,
   "metadata": {},
   "outputs": [],
   "source": [
    "list_of_lists_val_1st_elem = [item[0] for item in list_of_lists_val] # First elements in val list"
   ]
  },
  {
   "cell_type": "code",
   "execution_count": 13,
   "metadata": {},
   "outputs": [],
   "source": [
    "list_of_vars_info = [item[0] for item in list_of_lists_info] # list of variables in the info list"
   ]
  },
  {
   "cell_type": "code",
   "execution_count": 14,
   "metadata": {},
   "outputs": [],
   "source": [
    "list_of_vars_val  = [s for s in list_of_lists_val_1st_elem if s] # list of variables in the values list"
   ]
  },
  {
   "cell_type": "code",
   "execution_count": 15,
   "metadata": {},
   "outputs": [],
   "source": [
    "def search_keyword(keyword, list_of_lists = list_of_lists_info):\n",
    "    variables = []\n",
    "    for item in list_of_lists:\n",
    "        if len(item) == 3:\n",
    "            if keyword in item[2]:\n",
    "                variables.append(item[0])\n",
    "                \n",
    "    # Remove empty elements\n",
    "    variables = [item for item in variables if item]\n",
    "    return variables"
   ]
  },
  {
   "cell_type": "code",
   "execution_count": 16,
   "metadata": {},
   "outputs": [],
   "source": [
    "def return_next_var(var, list_of_vars):\n",
    "    # Use list of variables, taken from var_info, return the next variable\n",
    "    current_idx = list_of_vars.index(var)\n",
    "    next_var = list_of_vars[current_idx + 1]\n",
    "    return next_var"
   ]
  },
  {
   "cell_type": "code",
   "execution_count": 17,
   "metadata": {},
   "outputs": [],
   "source": [
    "def get_dict(var, \n",
    "             list_of_lists = list_of_lists_val,\n",
    "             list_of_lists_1st_elem = list_of_lists_val_1st_elem, \n",
    "             list_of_vars = list_of_vars_val):\n",
    "    # Return dictionary for var\n",
    "    \n",
    "    dict = {}    \n",
    "    idx = list_of_lists_1st_elem.index(var)    \n",
    "    \n",
    "    if var != 'q7':\n",
    "        # Get the next variable using the list of variables in the values list\n",
    "        next_var = return_next_var(var, list_of_vars)\n",
    "    \n",
    "        # Get the index for the list of lists of values        \n",
    "        next_idx = list_of_lists_1st_elem.index(next_var)\n",
    "        sublist = list_of_lists[idx:next_idx]\n",
    "        \n",
    "    else:\n",
    "        sublist = list_of_lists[idx:]\n",
    "    # Slice the list of lists\n",
    "        \n",
    "    for item in sublist:\n",
    "        new_dict = {item[1]:item[2]}\n",
    "        dict.update(new_dict)\n",
    "    return dict"
   ]
  },
  {
   "cell_type": "code",
   "execution_count": 18,
   "metadata": {},
   "outputs": [],
   "source": [
    "def replace_val(keyword, df = df):\n",
    "    variables = search_keyword(keyword)\n",
    "    dictionary = get_dict(variables[0])\n",
    "    for item in variables:\n",
    "        df[item] = df[item].astype(str)\n",
    "        df[item] = df[item].map(dictionary)"
   ]
  },
  {
   "cell_type": "code",
   "execution_count": 19,
   "metadata": {},
   "outputs": [
    {
     "data": {
      "text/plain": [
       "{'1': '男子', '2': '女子', '9': '無回答'}"
      ]
     },
     "execution_count": 19,
     "metadata": {},
     "output_type": "execute_result"
    }
   ],
   "source": [
    "get_dict('seibetu')"
   ]
  },
  {
   "cell_type": "code",
   "execution_count": 20,
   "metadata": {},
   "outputs": [
    {
     "data": {
      "text/plain": [
       "[['\\ufeff'],\n",
       " [''],\n",
       " ['変数情報', '', ''],\n",
       " ['変数', '位置', 'ラベル'],\n",
       " ['gakkou', '1', '<なし>'],\n",
       " ['seibetu', '2', '性別'],\n",
       " ['q1.1', '3', '跡取りか'],\n",
       " ['q1.2', '4', '保護者との続柄'],\n",
       " ['q2', '5', '保護者の職業'],\n",
       " ['q4', '6', '学業成績'],\n",
       " ['q6', '7', '学科'],\n",
       " ['q7', '8', '将来の希望'],\n",
       " [''],\n",
       " ['変数値', '', ''],\n",
       " ['値', '', 'ラベル'],\n",
       " ['seibetu', '1', '男子'],\n",
       " ['', '2', '女子'],\n",
       " ['', '9', '無回答'],\n",
       " ['q1.1', '1', '跡取り'],\n",
       " ['', '2', '跡取りでない'],\n",
       " ['', '9', '無回答'],\n",
       " ['q1.2', '1', '長男・長女'],\n",
       " ['', '2', '次男・次女'],\n",
       " ['', '3', '三男・三女'],\n",
       " ['', '4', '四男・四女以上'],\n",
       " ['', '5', '弟・妹'],\n",
       " ['', '6', 'おい・めい'],\n",
       " ['', '7', 'その他'],\n",
       " ['', '9', '無回答'],\n",
       " ['q2', '1', '農業'],\n",
       " ['', '2', '林業'],\n",
       " ['', '3', '水産業'],\n",
       " ['', '4', '独立工業者'],\n",
       " ['', '5', '工員'],\n",
       " ['', '6', '独立商業者'],\n",
       " ['', '7', '商業使用人'],\n",
       " ['', '8', '運輸通信従業者'],\n",
       " ['', '9', '電気・ガス・水道従業員'],\n",
       " ['', '10', '俸給生活者'],\n",
       " ['', '11', '単純労務者'],\n",
       " ['', '12', '自由業'],\n",
       " ['', '13', 'その他'],\n",
       " ['', '14', '無職'],\n",
       " ['', '15', '不明'],\n",
       " ['', '99', '無回答'],\n",
       " ['q4', '1', '上'],\n",
       " ['', '2', '中'],\n",
       " ['', '3', '下'],\n",
       " ['', '9', '無回答'],\n",
       " ['q6', '1', '職業科'],\n",
       " ['q7', '1', '進学'],\n",
       " ['', '2', '就職'],\n",
       " ['', '3', '家業'],\n",
       " ['', '4', '家事'],\n",
       " ['', '5', 'その他各種学校'],\n",
       " ['', '9', '無回答'],\n",
       " ['']]"
      ]
     },
     "execution_count": 20,
     "metadata": {},
     "output_type": "execute_result"
    }
   ],
   "source": [
    "list_of_lists"
   ]
  },
  {
   "cell_type": "code",
   "execution_count": 21,
   "metadata": {},
   "outputs": [
    {
     "data": {
      "text/plain": [
       "['seibetu']"
      ]
     },
     "execution_count": 21,
     "metadata": {},
     "output_type": "execute_result"
    }
   ],
   "source": [
    "search_keyword('性別')"
   ]
  },
  {
   "cell_type": "code",
   "execution_count": 22,
   "metadata": {},
   "outputs": [],
   "source": [
    "list_of_keywords = ['性別',\n",
    "                    '跡取りか',\n",
    "                    '保護者との続柄',\n",
    "                    '保護者の職業',\n",
    "                    '学業成績',\n",
    "                    '学科',\n",
    "                    '将来の希望',\n",
    "                   ]"
   ]
  },
  {
   "cell_type": "code",
   "execution_count": 23,
   "metadata": {},
   "outputs": [
    {
     "name": "stdout",
     "output_type": "stream",
     "text": [
      "['seibetu']\n",
      "['q1.1']\n",
      "['q1.2']\n",
      "['q2']\n",
      "['q4']\n",
      "['q6']\n",
      "['q7']\n"
     ]
    }
   ],
   "source": [
    "for keyword in list_of_keywords:\n",
    "    print(search_keyword(keyword))"
   ]
  },
  {
   "cell_type": "code",
   "execution_count": 24,
   "metadata": {},
   "outputs": [],
   "source": [
    "for keywords in list_of_keywords:\n",
    "    replace_val(keywords)"
   ]
  },
  {
   "cell_type": "code",
   "execution_count": 26,
   "metadata": {},
   "outputs": [
    {
     "data": {
      "text/html": [
       "<div>\n",
       "<style scoped>\n",
       "    .dataframe tbody tr th:only-of-type {\n",
       "        vertical-align: middle;\n",
       "    }\n",
       "\n",
       "    .dataframe tbody tr th {\n",
       "        vertical-align: top;\n",
       "    }\n",
       "\n",
       "    .dataframe thead th {\n",
       "        text-align: right;\n",
       "    }\n",
       "</style>\n",
       "<table border=\"1\" class=\"dataframe\">\n",
       "  <thead>\n",
       "    <tr style=\"text-align: right;\">\n",
       "      <th></th>\n",
       "      <th>gakkou</th>\n",
       "      <th>seibetu</th>\n",
       "      <th>q1.1</th>\n",
       "      <th>q1.2</th>\n",
       "      <th>q2</th>\n",
       "      <th>q4</th>\n",
       "      <th>q6</th>\n",
       "      <th>q7</th>\n",
       "    </tr>\n",
       "  </thead>\n",
       "  <tbody>\n",
       "    <tr>\n",
       "      <th>0</th>\n",
       "      <td>101</td>\n",
       "      <td>男子</td>\n",
       "      <td>無回答</td>\n",
       "      <td>長男・長女</td>\n",
       "      <td>俸給生活者</td>\n",
       "      <td>上</td>\n",
       "      <td>NaN</td>\n",
       "      <td>就職</td>\n",
       "    </tr>\n",
       "    <tr>\n",
       "      <th>1</th>\n",
       "      <td>101</td>\n",
       "      <td>男子</td>\n",
       "      <td>無回答</td>\n",
       "      <td>長男・長女</td>\n",
       "      <td>俸給生活者</td>\n",
       "      <td>上</td>\n",
       "      <td>NaN</td>\n",
       "      <td>進学</td>\n",
       "    </tr>\n",
       "    <tr>\n",
       "      <th>2</th>\n",
       "      <td>101</td>\n",
       "      <td>男子</td>\n",
       "      <td>無回答</td>\n",
       "      <td>四男・四女以上</td>\n",
       "      <td>独立工業者</td>\n",
       "      <td>中</td>\n",
       "      <td>職業科</td>\n",
       "      <td>就職</td>\n",
       "    </tr>\n",
       "    <tr>\n",
       "      <th>3</th>\n",
       "      <td>101</td>\n",
       "      <td>男子</td>\n",
       "      <td>無回答</td>\n",
       "      <td>長男・長女</td>\n",
       "      <td>工員</td>\n",
       "      <td>上</td>\n",
       "      <td>職業科</td>\n",
       "      <td>就職</td>\n",
       "    </tr>\n",
       "    <tr>\n",
       "      <th>4</th>\n",
       "      <td>101</td>\n",
       "      <td>男子</td>\n",
       "      <td>無回答</td>\n",
       "      <td>次男・次女</td>\n",
       "      <td>無職</td>\n",
       "      <td>上</td>\n",
       "      <td>NaN</td>\n",
       "      <td>進学</td>\n",
       "    </tr>\n",
       "    <tr>\n",
       "      <th>...</th>\n",
       "      <td>...</td>\n",
       "      <td>...</td>\n",
       "      <td>...</td>\n",
       "      <td>...</td>\n",
       "      <td>...</td>\n",
       "      <td>...</td>\n",
       "      <td>...</td>\n",
       "      <td>...</td>\n",
       "    </tr>\n",
       "    <tr>\n",
       "      <th>16559</th>\n",
       "      <td>1312</td>\n",
       "      <td>女子</td>\n",
       "      <td>無回答</td>\n",
       "      <td>次男・次女</td>\n",
       "      <td>農業</td>\n",
       "      <td>上</td>\n",
       "      <td>NaN</td>\n",
       "      <td>就職</td>\n",
       "    </tr>\n",
       "    <tr>\n",
       "      <th>16560</th>\n",
       "      <td>1312</td>\n",
       "      <td>女子</td>\n",
       "      <td>無回答</td>\n",
       "      <td>三男・三女</td>\n",
       "      <td>農業</td>\n",
       "      <td>上</td>\n",
       "      <td>職業科</td>\n",
       "      <td>就職</td>\n",
       "    </tr>\n",
       "    <tr>\n",
       "      <th>16561</th>\n",
       "      <td>1312</td>\n",
       "      <td>女子</td>\n",
       "      <td>無回答</td>\n",
       "      <td>四男・四女以上</td>\n",
       "      <td>農業</td>\n",
       "      <td>上</td>\n",
       "      <td>NaN</td>\n",
       "      <td>進学</td>\n",
       "    </tr>\n",
       "    <tr>\n",
       "      <th>16562</th>\n",
       "      <td>1312</td>\n",
       "      <td>女子</td>\n",
       "      <td>無回答</td>\n",
       "      <td>四男・四女以上</td>\n",
       "      <td>農業</td>\n",
       "      <td>上</td>\n",
       "      <td>職業科</td>\n",
       "      <td>就職</td>\n",
       "    </tr>\n",
       "    <tr>\n",
       "      <th>16563</th>\n",
       "      <td>1312</td>\n",
       "      <td>女子</td>\n",
       "      <td>無回答</td>\n",
       "      <td>長男・長女</td>\n",
       "      <td>工員</td>\n",
       "      <td>上</td>\n",
       "      <td>NaN</td>\n",
       "      <td>就職</td>\n",
       "    </tr>\n",
       "  </tbody>\n",
       "</table>\n",
       "<p>16564 rows × 8 columns</p>\n",
       "</div>"
      ],
      "text/plain": [
       "       gakkou seibetu q1.1     q1.2     q2 q4   q6  q7\n",
       "0         101      男子  無回答    長男・長女  俸給生活者  上  NaN  就職\n",
       "1         101      男子  無回答    長男・長女  俸給生活者  上  NaN  進学\n",
       "2         101      男子  無回答  四男・四女以上  独立工業者  中  職業科  就職\n",
       "3         101      男子  無回答    長男・長女     工員  上  職業科  就職\n",
       "4         101      男子  無回答    次男・次女     無職  上  NaN  進学\n",
       "...       ...     ...  ...      ...    ... ..  ...  ..\n",
       "16559    1312      女子  無回答    次男・次女     農業  上  NaN  就職\n",
       "16560    1312      女子  無回答    三男・三女     農業  上  職業科  就職\n",
       "16561    1312      女子  無回答  四男・四女以上     農業  上  NaN  進学\n",
       "16562    1312      女子  無回答  四男・四女以上     農業  上  職業科  就職\n",
       "16563    1312      女子  無回答    長男・長女     工員  上  NaN  就職\n",
       "\n",
       "[16564 rows x 8 columns]"
      ]
     },
     "execution_count": 26,
     "metadata": {},
     "output_type": "execute_result"
    }
   ],
   "source": [
    "df"
   ]
  },
  {
   "cell_type": "code",
   "execution_count": null,
   "metadata": {},
   "outputs": [],
   "source": []
  }
 ],
 "metadata": {
  "kernelspec": {
   "display_name": "Python 3",
   "language": "python",
   "name": "python3"
  },
  "language_info": {
   "codemirror_mode": {
    "name": "ipython",
    "version": 3
   },
   "file_extension": ".py",
   "mimetype": "text/x-python",
   "name": "python",
   "nbconvert_exporter": "python",
   "pygments_lexer": "ipython3",
   "version": "3.7.7"
  }
 },
 "nbformat": 4,
 "nbformat_minor": 4
}
