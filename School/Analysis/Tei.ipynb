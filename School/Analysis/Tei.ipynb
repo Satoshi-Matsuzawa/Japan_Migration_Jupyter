{
 "cells": [
  {
   "cell_type": "code",
   "execution_count": 1,
   "metadata": {},
   "outputs": [
    {
     "name": "stderr",
     "output_type": "stream",
     "text": [
      "\n",
      "Bad key \"text.kerning_factor\" on line 4 in\n",
      "/Users/satoshi/anaconda3/lib/python3.7/site-packages/matplotlib/mpl-data/stylelib/_classic_test_patch.mplstyle.\n",
      "You probably need to get an updated matplotlibrc file from\n",
      "https://github.com/matplotlib/matplotlib/blob/v3.1.3/matplotlibrc.template\n",
      "or from the matplotlib source distribution\n"
     ]
    }
   ],
   "source": [
    "import pandas as pd\n",
    "import os\n",
    "import numpy as np\n",
    "import matplotlib.pyplot as plt\n",
    "%matplotlib inline\n",
    "directory = '../../../../Data/School/0001/'\n",
    "file_name_label = '0001_tei label.txt'\n",
    "\n",
    "file_label = os.path.join(directory, file_name_label)"
   ]
  },
  {
   "cell_type": "code",
   "execution_count": 2,
   "metadata": {},
   "outputs": [],
   "source": [
    "file_name_data = '0001_tei.dat'\n",
    "\n",
    "file_data = os.path.join(directory, file_name_data)\n",
    "df = pd.read_csv(file_data, sep = '\\t', error_bad_lines = False)"
   ]
  },
  {
   "cell_type": "code",
   "execution_count": 3,
   "metadata": {},
   "outputs": [
    {
     "data": {
      "text/html": [
       "<div>\n",
       "<style scoped>\n",
       "    .dataframe tbody tr th:only-of-type {\n",
       "        vertical-align: middle;\n",
       "    }\n",
       "\n",
       "    .dataframe tbody tr th {\n",
       "        vertical-align: top;\n",
       "    }\n",
       "\n",
       "    .dataframe thead th {\n",
       "        text-align: right;\n",
       "    }\n",
       "</style>\n",
       "<table border=\"1\" class=\"dataframe\">\n",
       "  <thead>\n",
       "    <tr style=\"text-align: right;\">\n",
       "      <th></th>\n",
       "      <th>gakkou</th>\n",
       "      <th>seibetu</th>\n",
       "      <th>q1.1</th>\n",
       "      <th>q1.2</th>\n",
       "      <th>q2</th>\n",
       "      <th>q4</th>\n",
       "      <th>q6</th>\n",
       "      <th>q7</th>\n",
       "    </tr>\n",
       "  </thead>\n",
       "  <tbody>\n",
       "    <tr>\n",
       "      <th>0</th>\n",
       "      <td>101</td>\n",
       "      <td>1</td>\n",
       "      <td>9</td>\n",
       "      <td>1</td>\n",
       "      <td>10</td>\n",
       "      <td>1</td>\n",
       "      <td></td>\n",
       "      <td>2</td>\n",
       "    </tr>\n",
       "    <tr>\n",
       "      <th>1</th>\n",
       "      <td>101</td>\n",
       "      <td>1</td>\n",
       "      <td>9</td>\n",
       "      <td>1</td>\n",
       "      <td>10</td>\n",
       "      <td>1</td>\n",
       "      <td></td>\n",
       "      <td>1</td>\n",
       "    </tr>\n",
       "    <tr>\n",
       "      <th>2</th>\n",
       "      <td>101</td>\n",
       "      <td>1</td>\n",
       "      <td>9</td>\n",
       "      <td>4</td>\n",
       "      <td>4</td>\n",
       "      <td>2</td>\n",
       "      <td>1</td>\n",
       "      <td>2</td>\n",
       "    </tr>\n",
       "    <tr>\n",
       "      <th>3</th>\n",
       "      <td>101</td>\n",
       "      <td>1</td>\n",
       "      <td>9</td>\n",
       "      <td>1</td>\n",
       "      <td>5</td>\n",
       "      <td>1</td>\n",
       "      <td>1</td>\n",
       "      <td>2</td>\n",
       "    </tr>\n",
       "    <tr>\n",
       "      <th>4</th>\n",
       "      <td>101</td>\n",
       "      <td>1</td>\n",
       "      <td>9</td>\n",
       "      <td>2</td>\n",
       "      <td>14</td>\n",
       "      <td>1</td>\n",
       "      <td></td>\n",
       "      <td>1</td>\n",
       "    </tr>\n",
       "    <tr>\n",
       "      <th>...</th>\n",
       "      <td>...</td>\n",
       "      <td>...</td>\n",
       "      <td>...</td>\n",
       "      <td>...</td>\n",
       "      <td>...</td>\n",
       "      <td>...</td>\n",
       "      <td>...</td>\n",
       "      <td>...</td>\n",
       "    </tr>\n",
       "    <tr>\n",
       "      <th>16559</th>\n",
       "      <td>1312</td>\n",
       "      <td>2</td>\n",
       "      <td>9</td>\n",
       "      <td>2</td>\n",
       "      <td>1</td>\n",
       "      <td>1</td>\n",
       "      <td></td>\n",
       "      <td>2</td>\n",
       "    </tr>\n",
       "    <tr>\n",
       "      <th>16560</th>\n",
       "      <td>1312</td>\n",
       "      <td>2</td>\n",
       "      <td>9</td>\n",
       "      <td>3</td>\n",
       "      <td>1</td>\n",
       "      <td>1</td>\n",
       "      <td>1</td>\n",
       "      <td>2</td>\n",
       "    </tr>\n",
       "    <tr>\n",
       "      <th>16561</th>\n",
       "      <td>1312</td>\n",
       "      <td>2</td>\n",
       "      <td>9</td>\n",
       "      <td>4</td>\n",
       "      <td>1</td>\n",
       "      <td>1</td>\n",
       "      <td></td>\n",
       "      <td>1</td>\n",
       "    </tr>\n",
       "    <tr>\n",
       "      <th>16562</th>\n",
       "      <td>1312</td>\n",
       "      <td>2</td>\n",
       "      <td>9</td>\n",
       "      <td>4</td>\n",
       "      <td>1</td>\n",
       "      <td>1</td>\n",
       "      <td>1</td>\n",
       "      <td>2</td>\n",
       "    </tr>\n",
       "    <tr>\n",
       "      <th>16563</th>\n",
       "      <td>1312</td>\n",
       "      <td>2</td>\n",
       "      <td>9</td>\n",
       "      <td>1</td>\n",
       "      <td>5</td>\n",
       "      <td>1</td>\n",
       "      <td></td>\n",
       "      <td>2</td>\n",
       "    </tr>\n",
       "  </tbody>\n",
       "</table>\n",
       "<p>16564 rows × 8 columns</p>\n",
       "</div>"
      ],
      "text/plain": [
       "       gakkou  seibetu  q1.1  q1.2  q2  q4 q6  q7\n",
       "0         101        1     9     1  10   1      2\n",
       "1         101        1     9     1  10   1      1\n",
       "2         101        1     9     4   4   2  1   2\n",
       "3         101        1     9     1   5   1  1   2\n",
       "4         101        1     9     2  14   1      1\n",
       "...       ...      ...   ...   ...  ..  .. ..  ..\n",
       "16559    1312        2     9     2   1   1      2\n",
       "16560    1312        2     9     3   1   1  1   2\n",
       "16561    1312        2     9     4   1   1      1\n",
       "16562    1312        2     9     4   1   1  1   2\n",
       "16563    1312        2     9     1   5   1      2\n",
       "\n",
       "[16564 rows x 8 columns]"
      ]
     },
     "execution_count": 3,
     "metadata": {},
     "output_type": "execute_result"
    }
   ],
   "source": [
    "df"
   ]
  },
  {
   "cell_type": "code",
   "execution_count": 4,
   "metadata": {},
   "outputs": [],
   "source": [
    "abbrevaiton = {\n",
    "    'GNDR': 'gender',\n",
    "    'M':'male',\n",
    "    'F':'female',\n",
    "    'GDN':'guardian',\n",
    "    'AFF':'Agriculture Forestry and Fishing',\n",
    "    'MFG':'Manufacturing',\n",
    "    'SRV':'Service',\n",
    "    'ORS':'Others',\n",
    "    'WC':'White Collar',\n",
    "    'UE':'Unemployed',\n",
    "    'UNK':'Unknown',\n",
    "    'RSN':'reason',\n",
    "    'SZ':'size',\n",
    "    'FB':'family business',\n",
    "}"
   ]
  },
  {
   "cell_type": "code",
   "execution_count": 5,
   "metadata": {},
   "outputs": [],
   "source": [
    "gndr = {\n",
    "    1:'M',\n",
    "    2:'F'\n",
    "}"
   ]
  },
  {
   "cell_type": "code",
   "execution_count": 6,
   "metadata": {},
   "outputs": [],
   "source": [
    "gdn_occ = {\n",
    "    1:'AFF',\n",
    "    2:'AFF',\n",
    "    3:'AFF',\n",
    "    4:'MFG',\n",
    "    5:'MFG',\n",
    "    6:'SRV',\n",
    "    7:'SRV',\n",
    "    8:'SRV',\n",
    "    9:'SRV',\n",
    "    10:'WC',\n",
    "    11:'ORS',\n",
    "    12:'ORS',\n",
    "    13:'ORS',\n",
    "    14:'UE',\n",
    "    15:'UK',\n",
    "    99:'UNK',\n",
    "}"
   ]
  },
  {
   "cell_type": "code",
   "execution_count": 7,
   "metadata": {},
   "outputs": [],
   "source": [
    "heir = {\n",
    "    1:'Y',\n",
    "    2:'N',\n",
    "    9:'UNK'\n",
    "}"
   ]
  },
  {
   "cell_type": "code",
   "execution_count": 8,
   "metadata": {},
   "outputs": [],
   "source": [
    "gdn_rel = {\n",
    "    1: 'Eldest son / daughter',\n",
    "    2: 'Second son / daughter',\n",
    "    3: 'Third son / daughter',\n",
    "    4: 'Fourth or more',\n",
    "    5: 'Brother / Sister',\n",
    "    6: 'Nephew Niece',\n",
    "    7: 'UNK'\n",
    "}"
   ]
  },
  {
   "cell_type": "code",
   "execution_count": 9,
   "metadata": {},
   "outputs": [],
   "source": [
    "def apply_dict(col, dictionary, df = df):\n",
    "    df[col] = df[col].map(dictionary)"
   ]
  },
  {
   "cell_type": "code",
   "execution_count": 10,
   "metadata": {},
   "outputs": [],
   "source": [
    "col_dict = [['seibetu', gndr],\n",
    "            ['q1.1', heir],\n",
    "            ['q1.2', gdn_rel],\n",
    "            ['q2', gdn_occ],\n",
    "           ]"
   ]
  },
  {
   "cell_type": "code",
   "execution_count": 11,
   "metadata": {},
   "outputs": [],
   "source": [
    "for item in col_dict:\n",
    "    col = item[0]\n",
    "    dictionary = item[1]\n",
    "    apply_dict(col, dictionary)"
   ]
  },
  {
   "cell_type": "code",
   "execution_count": 12,
   "metadata": {},
   "outputs": [
    {
     "data": {
      "text/html": [
       "<div>\n",
       "<style scoped>\n",
       "    .dataframe tbody tr th:only-of-type {\n",
       "        vertical-align: middle;\n",
       "    }\n",
       "\n",
       "    .dataframe tbody tr th {\n",
       "        vertical-align: top;\n",
       "    }\n",
       "\n",
       "    .dataframe thead th {\n",
       "        text-align: right;\n",
       "    }\n",
       "</style>\n",
       "<table border=\"1\" class=\"dataframe\">\n",
       "  <thead>\n",
       "    <tr style=\"text-align: right;\">\n",
       "      <th></th>\n",
       "      <th>gakkou</th>\n",
       "      <th>seibetu</th>\n",
       "      <th>q1.1</th>\n",
       "      <th>q1.2</th>\n",
       "      <th>q2</th>\n",
       "      <th>q4</th>\n",
       "      <th>q6</th>\n",
       "      <th>q7</th>\n",
       "    </tr>\n",
       "  </thead>\n",
       "  <tbody>\n",
       "    <tr>\n",
       "      <th>0</th>\n",
       "      <td>101</td>\n",
       "      <td>M</td>\n",
       "      <td>UNK</td>\n",
       "      <td>Eldest son / daughter</td>\n",
       "      <td>WC</td>\n",
       "      <td>1</td>\n",
       "      <td></td>\n",
       "      <td>2</td>\n",
       "    </tr>\n",
       "    <tr>\n",
       "      <th>1</th>\n",
       "      <td>101</td>\n",
       "      <td>M</td>\n",
       "      <td>UNK</td>\n",
       "      <td>Eldest son / daughter</td>\n",
       "      <td>WC</td>\n",
       "      <td>1</td>\n",
       "      <td></td>\n",
       "      <td>1</td>\n",
       "    </tr>\n",
       "    <tr>\n",
       "      <th>2</th>\n",
       "      <td>101</td>\n",
       "      <td>M</td>\n",
       "      <td>UNK</td>\n",
       "      <td>Fourth or more</td>\n",
       "      <td>MFG</td>\n",
       "      <td>2</td>\n",
       "      <td>1</td>\n",
       "      <td>2</td>\n",
       "    </tr>\n",
       "    <tr>\n",
       "      <th>3</th>\n",
       "      <td>101</td>\n",
       "      <td>M</td>\n",
       "      <td>UNK</td>\n",
       "      <td>Eldest son / daughter</td>\n",
       "      <td>MFG</td>\n",
       "      <td>1</td>\n",
       "      <td>1</td>\n",
       "      <td>2</td>\n",
       "    </tr>\n",
       "    <tr>\n",
       "      <th>4</th>\n",
       "      <td>101</td>\n",
       "      <td>M</td>\n",
       "      <td>UNK</td>\n",
       "      <td>Second son / daughter</td>\n",
       "      <td>UE</td>\n",
       "      <td>1</td>\n",
       "      <td></td>\n",
       "      <td>1</td>\n",
       "    </tr>\n",
       "    <tr>\n",
       "      <th>...</th>\n",
       "      <td>...</td>\n",
       "      <td>...</td>\n",
       "      <td>...</td>\n",
       "      <td>...</td>\n",
       "      <td>...</td>\n",
       "      <td>...</td>\n",
       "      <td>...</td>\n",
       "      <td>...</td>\n",
       "    </tr>\n",
       "    <tr>\n",
       "      <th>16559</th>\n",
       "      <td>1312</td>\n",
       "      <td>F</td>\n",
       "      <td>UNK</td>\n",
       "      <td>Second son / daughter</td>\n",
       "      <td>AFF</td>\n",
       "      <td>1</td>\n",
       "      <td></td>\n",
       "      <td>2</td>\n",
       "    </tr>\n",
       "    <tr>\n",
       "      <th>16560</th>\n",
       "      <td>1312</td>\n",
       "      <td>F</td>\n",
       "      <td>UNK</td>\n",
       "      <td>Third son / daughter</td>\n",
       "      <td>AFF</td>\n",
       "      <td>1</td>\n",
       "      <td>1</td>\n",
       "      <td>2</td>\n",
       "    </tr>\n",
       "    <tr>\n",
       "      <th>16561</th>\n",
       "      <td>1312</td>\n",
       "      <td>F</td>\n",
       "      <td>UNK</td>\n",
       "      <td>Fourth or more</td>\n",
       "      <td>AFF</td>\n",
       "      <td>1</td>\n",
       "      <td></td>\n",
       "      <td>1</td>\n",
       "    </tr>\n",
       "    <tr>\n",
       "      <th>16562</th>\n",
       "      <td>1312</td>\n",
       "      <td>F</td>\n",
       "      <td>UNK</td>\n",
       "      <td>Fourth or more</td>\n",
       "      <td>AFF</td>\n",
       "      <td>1</td>\n",
       "      <td>1</td>\n",
       "      <td>2</td>\n",
       "    </tr>\n",
       "    <tr>\n",
       "      <th>16563</th>\n",
       "      <td>1312</td>\n",
       "      <td>F</td>\n",
       "      <td>UNK</td>\n",
       "      <td>Eldest son / daughter</td>\n",
       "      <td>MFG</td>\n",
       "      <td>1</td>\n",
       "      <td></td>\n",
       "      <td>2</td>\n",
       "    </tr>\n",
       "  </tbody>\n",
       "</table>\n",
       "<p>16564 rows × 8 columns</p>\n",
       "</div>"
      ],
      "text/plain": [
       "       gakkou seibetu q1.1                   q1.2   q2  q4 q6  q7\n",
       "0         101       M  UNK  Eldest son / daughter   WC   1      2\n",
       "1         101       M  UNK  Eldest son / daughter   WC   1      1\n",
       "2         101       M  UNK         Fourth or more  MFG   2  1   2\n",
       "3         101       M  UNK  Eldest son / daughter  MFG   1  1   2\n",
       "4         101       M  UNK  Second son / daughter   UE   1      1\n",
       "...       ...     ...  ...                    ...  ...  .. ..  ..\n",
       "16559    1312       F  UNK  Second son / daughter  AFF   1      2\n",
       "16560    1312       F  UNK   Third son / daughter  AFF   1  1   2\n",
       "16561    1312       F  UNK         Fourth or more  AFF   1      1\n",
       "16562    1312       F  UNK         Fourth or more  AFF   1  1   2\n",
       "16563    1312       F  UNK  Eldest son / daughter  MFG   1      2\n",
       "\n",
       "[16564 rows x 8 columns]"
      ]
     },
     "execution_count": 12,
     "metadata": {},
     "output_type": "execute_result"
    }
   ],
   "source": [
    "df"
   ]
  },
  {
   "cell_type": "code",
   "execution_count": 13,
   "metadata": {},
   "outputs": [],
   "source": [
    "col_names = {\n",
    "    'seibetu' : 'gndr',\n",
    "    'q1.1' : 'heir',\n",
    "    'q1.2' : 'gdn_rel',\n",
    "    'q2' : 'gdn_occ',\n",
    "}"
   ]
  },
  {
   "cell_type": "code",
   "execution_count": 14,
   "metadata": {},
   "outputs": [],
   "source": [
    "df.rename(columns = col_names, inplace=True)"
   ]
  },
  {
   "cell_type": "code",
   "execution_count": 23,
   "metadata": {},
   "outputs": [
    {
     "data": {
      "image/png": "[encoded data removed]",
      "text/plain": [
       "<Figure size 576x288 with 2 Axes>"
      ]
     },
     "metadata": {
      "needs_background": "light"
     },
     "output_type": "display_data"
    }
   ],
   "source": [
    "fig2, axs2 = plt.subplots(1,2, figsize=(8, 4))\n",
    "df[df.gndr == 'M'].gdn_rel.value_counts().plot(kind = 'bar', ax =axs2[0])\n",
    "df[df.gndr == 'F'].gdn_rel.value_counts().plot(kind = 'bar', ax = axs2[1])\n",
    "axs2[0].title.set_text('Male')\n",
    "axs2[1].title.set_text('Female')\n",
    "fig2.suptitle('Relationship to guardian')\n",
    "plt.show()"
   ]
  },
  {
   "cell_type": "code",
   "execution_count": 22,
   "metadata": {},
   "outputs": [
    {
     "data": {
      "image/png": "[encoded data removed]",
      "text/plain": [
       "<Figure size 576x288 with 2 Axes>"
      ]
     },
     "metadata": {
      "needs_background": "light"
     },
     "output_type": "display_data"
    }
   ],
   "source": [
    "fig2, axs2 = plt.subplots(1,2, figsize=(8, 4))\n",
    "df[df.gndr == 'M'].heir.value_counts().plot(kind = 'bar', ax =axs2[0])\n",
    "df[df.gndr == 'F'].heir.value_counts().plot(kind = 'bar', ax = axs2[1])\n",
    "axs2[0].title.set_text('Male')\n",
    "axs2[1].title.set_text('Female')\n",
    "fig2.suptitle('Heir or not')\n",
    "plt.show()"
   ]
  },
  {
   "cell_type": "code",
   "execution_count": 24,
   "metadata": {},
   "outputs": [
    {
     "data": {
      "image/png": "[encoded data removed]",
      "text/plain": [
       "<Figure size 432x288 with 1 Axes>"
      ]
     },
     "metadata": {
      "needs_background": "light"
     },
     "output_type": "display_data"
    }
   ],
   "source": [
    "ax = df.gdn_occ.value_counts().plot(kind = 'bar')\n",
    "ax.title.set_text(\"Guardian's occupation\")"
   ]
  },
  {
   "cell_type": "code",
   "execution_count": null,
   "metadata": {},
   "outputs": [],
   "source": []
  }
 ],
 "metadata": {
  "kernelspec": {
   "display_name": "Python 3",
   "language": "python",
   "name": "python3"
  },
  "language_info": {
   "codemirror_mode": {
    "name": "ipython",
    "version": 3
   },
   "file_extension": ".py",
   "mimetype": "text/x-python",
   "name": "python",
   "nbconvert_exporter": "python",
   "pygments_lexer": "ipython3",
   "version": "3.7.7"
  }
 },
 "nbformat": 4,
 "nbformat_minor": 4
}
