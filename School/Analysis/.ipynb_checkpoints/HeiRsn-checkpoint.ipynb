{
 "cells": [
  {
   "cell_type": "code",
   "execution_count": 1,
   "metadata": {},
   "outputs": [
    {
     "name": "stderr",
     "output_type": "stream",
     "text": [
      "\n",
      "Bad key \"text.kerning_factor\" on line 4 in\n",
      "/Users/satoshi/anaconda3/lib/python3.7/site-packages/matplotlib/mpl-data/stylelib/_classic_test_patch.mplstyle.\n",
      "You probably need to get an updated matplotlibrc file from\n",
      "https://github.com/matplotlib/matplotlib/blob/v3.1.3/matplotlibrc.template\n",
      "or from the matplotlib source distribution\n"
     ]
    }
   ],
   "source": [
    "import pandas as pd\n",
    "import os\n",
    "import numpy as np\n",
    "import matplotlib.pyplot as plt\n",
    "%matplotlib inline\n",
    "directory = '../../../../Data/School/0001/'\n",
    "file_name_label = '0001_hei label.txt'\n",
    "\n",
    "file_label = os.path.join(directory, file_name_label)"
   ]
  },
  {
   "cell_type": "code",
   "execution_count": 2,
   "metadata": {},
   "outputs": [],
   "source": [
    "file_name_data = '0001_hei.dat'\n",
    "\n",
    "file_data = os.path.join(directory, file_name_data)\n",
    "df = pd.read_csv(file_data, sep = '\\t', error_bad_lines = False)"
   ]
  },
  {
   "cell_type": "code",
   "execution_count": null,
   "metadata": {},
   "outputs": [],
   "source": [
    "df"
   ]
  },
  {
   "cell_type": "code",
   "execution_count": null,
   "metadata": {},
   "outputs": [],
   "source": [
    "abbrevaiton = {\n",
    "    'GNDR': 'gender',\n",
    "    'M':'male',\n",
    "    'F':'female',\n",
    "    'GDN':'guardian',\n",
    "    'AFF':'Agriculture Forestry and Fishing',\n",
    "    'MFG':'Manufacturing',\n",
    "    'SRV':'Service',\n",
    "    'ORS':'Others',\n",
    "    'WC':'White Collar',\n",
    "    'UE':'Unemployed',\n",
    "    'UNK':'Unknown',\n",
    "    'RSN':'reason',\n",
    "    'SZ':'size',\n",
    "    'FB':'family business',\n",
    "}"
   ]
  },
  {
   "cell_type": "code",
   "execution_count": null,
   "metadata": {},
   "outputs": [],
   "source": [
    "gndr = {\n",
    "    1:'M',\n",
    "    2:'F'\n",
    "}"
   ]
  },
  {
   "cell_type": "code",
   "execution_count": null,
   "metadata": {},
   "outputs": [],
   "source": [
    "gdn_occ = {\n",
    "    1:'AFF',\n",
    "    2:'AFF',\n",
    "    3:'AFF',\n",
    "    4:'MFG',\n",
    "    5:'MFG',\n",
    "    6:'SRV',\n",
    "    7:'SRV',\n",
    "    8:'SRV',\n",
    "    9:'SRV',\n",
    "    10:'WC',\n",
    "    11:'ORS',\n",
    "    12:'ORS',\n",
    "    13:'ORS',\n",
    "    14:'UE',\n",
    "    15:'UK',\n",
    "    99:'UNK',\n",
    "}"
   ]
  },
  {
   "cell_type": "code",
   "execution_count": null,
   "metadata": {},
   "outputs": [],
   "source": [
    "heir = {\n",
    "    1:'Y',\n",
    "    2:'N'\n",
    "}"
   ]
  },
  {
   "cell_type": "code",
   "execution_count": null,
   "metadata": {},
   "outputs": [],
   "source": [
    "gdn_rel = {\n",
    "    1: 'Eldest son / daughter',\n",
    "    2: 'Second son / daughter',\n",
    "    3: 'Third son / daughter',\n",
    "    4: 'Fourth or more',\n",
    "    5: 'Brother / Sister',\n",
    "    6: 'Nephew Niece',\n",
    "    7: 'UNK'\n",
    "}"
   ]
  },
  {
   "cell_type": "code",
   "execution_count": null,
   "metadata": {},
   "outputs": [],
   "source": [
    "rsn = {\n",
    "    1: 'Housework',\n",
    "    2: 'Family business',\n",
    "    3: 'Preparation for further study',\n",
    "    4: 'No job opportunity',\n",
    "    5: 'Technology acquisition',\n",
    "    6: 'Lack of labor capacity',\n",
    "    7: 'Once employed',\n",
    "    8: 'UNK',\n",
    "    9: 'UNK'    \n",
    "}"
   ]
  },
  {
   "cell_type": "code",
   "execution_count": null,
   "metadata": {},
   "outputs": [],
   "source": [
    "def apply_dict(col, dictionary, df = df):\n",
    "    df[col] = df[col].map(dictionary)"
   ]
  },
  {
   "cell_type": "code",
   "execution_count": null,
   "metadata": {},
   "outputs": [],
   "source": [
    "col_dict = [['seibetu', gndr],\n",
    "            ['q3.1', heir],\n",
    "            ['q3.2', gdn_rel],\n",
    "            ['q4.1', gdn_occ],\n",
    "            ['q5', rsn]\n",
    "           ]"
   ]
  },
  {
   "cell_type": "code",
   "execution_count": null,
   "metadata": {},
   "outputs": [],
   "source": [
    "for item in col_dict:\n",
    "    col = item[0]\n",
    "    dictionary = item[1]\n",
    "    apply_dict(col, dictionary)"
   ]
  },
  {
   "cell_type": "code",
   "execution_count": null,
   "metadata": {},
   "outputs": [],
   "source": [
    "def replace(col1, col2, key, df = df):\n",
    "    # If df.col1's element equals key, replace it with the element in col2\n",
    "    for idx, elements in enumerate(df[col1]):\n",
    "        if elements == key:\n",
    "            df[col1][idx] = df[col2][idx]\n",
    "        else:\n",
    "            df[col1][idx] = np.nan"
   ]
  },
  {
   "cell_type": "code",
   "execution_count": null,
   "metadata": {},
   "outputs": [],
   "source": [
    "#replace('q5', 'q4.1', 'Family business')"
   ]
  },
  {
   "cell_type": "code",
   "execution_count": null,
   "metadata": {},
   "outputs": [],
   "source": [
    "df['fb'] = df['q5'].copy()"
   ]
  },
  {
   "cell_type": "code",
   "execution_count": null,
   "metadata": {},
   "outputs": [],
   "source": [
    "replace('fb', 'q4.1', 'Family business')"
   ]
  },
  {
   "cell_type": "code",
   "execution_count": null,
   "metadata": {},
   "outputs": [],
   "source": [
    "df"
   ]
  },
  {
   "cell_type": "code",
   "execution_count": null,
   "metadata": {},
   "outputs": [],
   "source": [
    "col_names = {\n",
    "    'seibetu' : 'gndr',\n",
    "    'q2_1' : 'elec',\n",
    "    'q3.1' : 'heir',\n",
    "    'q3.2' : 'gdn_rel',\n",
    "    'q4.1' : 'gdn_occ',\n",
    "    'q4.3.2' : 'fam_sz',\n",
    "    'q5' : 'rsn',\n",
    "}"
   ]
  },
  {
   "cell_type": "code",
   "execution_count": null,
   "metadata": {},
   "outputs": [],
   "source": [
    "df.rename(columns = col_names, inplace=True)"
   ]
  },
  {
   "cell_type": "code",
   "execution_count": null,
   "metadata": {},
   "outputs": [],
   "source": [
    "ax = df.fb.value_counts().plot(kind = 'bar')\n",
    "ax.title.set_text('Family business')"
   ]
  },
  {
   "cell_type": "code",
   "execution_count": null,
   "metadata": {},
   "outputs": [],
   "source": [
    "ax = df.gdn_occ.value_counts().plot(kind = 'bar')\n",
    "ax.title.set_text(\"Guardian's occupation\")"
   ]
  },
  {
   "cell_type": "code",
   "execution_count": null,
   "metadata": {},
   "outputs": [],
   "source": [
    "fig2, axs2 = plt.subplots(1,2, figsize = (12,6))\n",
    "df[df.gndr == 'M'].rsn.value_counts().plot(kind = 'bar', ax =axs2[0])\n",
    "df[df.gndr == 'F'].rsn.value_counts().plot(kind = 'bar', ax = axs2[1])\n",
    "axs2[0].title.set_text('Male')\n",
    "axs2[1].title.set_text('Female')\n",
    "fig2.suptitle('Reasons not employed')\n",
    "plt.show()"
   ]
  },
  {
   "cell_type": "code",
   "execution_count": null,
   "metadata": {},
   "outputs": [],
   "source": [
    "fig2, axs2 = plt.subplots(1,2, figsize = (12,6))\n",
    "df[(df.heir == 'Y') & (df.gndr == 'M')].rsn.value_counts().plot(kind = 'bar', ax =axs2[0])\n",
    "df[(df.heir == 'N') & (df.gndr == 'M')].rsn.value_counts().plot(kind = 'bar', ax = axs2[1])\n",
    "axs2[0].title.set_text('Male and Heir')\n",
    "axs2[1].title.set_text('Male and Not heir')\n",
    "fig2.suptitle('Reasons not employed')\n",
    "plt.show()"
   ]
  },
  {
   "cell_type": "code",
   "execution_count": null,
   "metadata": {},
   "outputs": [],
   "source": [
    "fig2, axs2 = plt.subplots(1,2, figsize = (12,6))\n",
    "df[(df.heir == 'Y') & (df.gndr == 'F')].rsn.value_counts().plot(kind = 'bar', ax =axs2[0])\n",
    "df[(df.heir == 'N') & (df.gndr == 'F')].rsn.value_counts().plot(kind = 'bar', ax = axs2[1])\n",
    "axs2[0].title.set_text('Female and Heir')\n",
    "axs2[1].title.set_text('Female and Not heir')\n",
    "fig2.suptitle('Reasons not employed')\n",
    "plt.show()"
   ]
  },
  {
   "cell_type": "code",
   "execution_count": null,
   "metadata": {},
   "outputs": [],
   "source": []
  }
 ],
 "metadata": {
  "kernelspec": {
   "display_name": "Python 3",
   "language": "python",
   "name": "python3"
  },
  "language_info": {
   "codemirror_mode": {
    "name": "ipython",
    "version": 3
   },
   "file_extension": ".py",
   "mimetype": "text/x-python",
   "name": "python",
   "nbconvert_exporter": "python",
   "pygments_lexer": "ipython3",
   "version": "3.7.7"
  }
 },
 "nbformat": 4,
 "nbformat_minor": 4
}
