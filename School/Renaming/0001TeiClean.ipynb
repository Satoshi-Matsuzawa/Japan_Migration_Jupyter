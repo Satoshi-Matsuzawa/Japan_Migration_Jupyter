{
 "cells": [
  {
   "cell_type": "code",
   "execution_count": 1,
   "metadata": {},
   "outputs": [],
   "source": [
    "import pandas as pd\n",
    "import os\n",
    "\n",
    "directory = '../../Data/School/0001'\n",
    "file_name_label = '0001_tei label.txt'\n",
    "\n",
    "file_label = os.path.join(directory, file_name_label)"
   ]
  },
  {
   "cell_type": "code",
   "execution_count": 2,
   "metadata": {},
   "outputs": [],
   "source": [
    "file_name_data = '0001_tei.dat'\n",
    "\n",
    "file_data = os.path.join(directory, file_name_data)\n",
    "df = pd.read_csv(file_data, sep = '\\t', error_bad_lines = False)"
   ]
  },
  {
   "cell_type": "code",
   "execution_count": 4,
   "metadata": {},
   "outputs": [],
   "source": [
    "with open(file_label, 'r') as f:\n",
    "    x = f.read().splitlines()"
   ]
  },
  {
   "cell_type": "code",
   "execution_count": 5,
   "metadata": {},
   "outputs": [],
   "source": [
    "def get_list_of_lists(x):\n",
    "    # Return each row as a list\n",
    "    list_of_lists = []\n",
    "    for line in x:\n",
    "        list_of_lists.append(line.split('\\t'))\n",
    "    return list_of_lists"
   ]
  },
  {
   "cell_type": "code",
   "execution_count": 6,
   "metadata": {},
   "outputs": [],
   "source": [
    "list_of_lists = get_list_of_lists(x)"
   ]
  },
  {
   "cell_type": "code",
   "execution_count": 7,
   "metadata": {},
   "outputs": [],
   "source": [
    "def search_index(keyword, list_of_lists = list_of_lists):\n",
    "    # Check if the keyword is in the list\n",
    "    idx_list = []\n",
    "    for idx, item in enumerate(list_of_lists):\n",
    "        if keyword in item[0]:\n",
    "            idx_list.append(idx)\n",
    "    return idx_list"
   ]
  },
  {
   "cell_type": "code",
   "execution_count": 8,
   "metadata": {},
   "outputs": [],
   "source": [
    "# Split list_of_lists to variable info list and varuable value list"
   ]
  },
  {
   "cell_type": "code",
   "execution_count": 9,
   "metadata": {},
   "outputs": [],
   "source": [
    "hensu_joho_idx = search_index('変数情報')[0] # id of 変数情報"
   ]
  },
  {
   "cell_type": "code",
   "execution_count": 10,
   "metadata": {},
   "outputs": [],
   "source": [
    "hensu_chi_idx = search_index('変数値')[0] # id of 変数値"
   ]
  },
  {
   "cell_type": "code",
   "execution_count": 11,
   "metadata": {},
   "outputs": [],
   "source": [
    "# split the list of lists\n",
    "list_of_lists_info = list_of_lists[hensu_joho_idx:hensu_chi_idx] # Contains value informaiotn\n",
    "list_of_lists_val = list_of_lists[hensu_chi_idx:-1] # Contains value variables"
   ]
  },
  {
   "cell_type": "code",
   "execution_count": 12,
   "metadata": {},
   "outputs": [],
   "source": [
    "list_of_lists_val_1st_elem = [item[0] for item in list_of_lists_val] # First elements in val list"
   ]
  },
  {
   "cell_type": "code",
   "execution_count": 13,
   "metadata": {},
   "outputs": [],
   "source": [
    "_list_of_vars_val  = [s for s in list_of_lists_val_1st_elem if s] # list of variables in the values list"
   ]
  },
  {
   "cell_type": "code",
   "execution_count": 14,
   "metadata": {},
   "outputs": [],
   "source": [
    "list_of_vars_val = _list_of_vars_val[2:]"
   ]
  },
  {
   "cell_type": "code",
   "execution_count": 15,
   "metadata": {},
   "outputs": [],
   "source": [
    "def return_next_var(var, list_of_vars):\n",
    "    # Use list of variables, taken from var_info, return the next variable\n",
    "    current_idx = list_of_vars.index(var)\n",
    "    next_var = list_of_vars[current_idx + 1]\n",
    "    return next_var"
   ]
  },
  {
   "cell_type": "code",
   "execution_count": 16,
   "metadata": {},
   "outputs": [],
   "source": [
    "def get_dict(var, \n",
    "             list_of_lists = list_of_lists_val,\n",
    "             list_of_lists_1st_elem = list_of_lists_val_1st_elem, \n",
    "             list_of_vars = list_of_vars_val):\n",
    "    # Return dictionary for var\n",
    "    \n",
    "    dict = {}    \n",
    "    idx = list_of_lists_1st_elem.index(var)    \n",
    "    \n",
    "    if var != list_of_vars[-1]:\n",
    "        # Get the next variable using the list of variables in the values list\n",
    "        next_var = return_next_var(var, list_of_vars)\n",
    "    \n",
    "        # Get the index for the list of lists of values        \n",
    "        next_idx = list_of_lists_1st_elem.index(next_var)\n",
    "        sublist = list_of_lists[idx:next_idx]\n",
    "        \n",
    "    else:\n",
    "        sublist = list_of_lists[idx:]\n",
    "    # Slice the list of lists\n",
    "        \n",
    "    for item in sublist:\n",
    "        new_dict = {item[1]:item[2]}\n",
    "        dict.update(new_dict)\n",
    "    return dict"
   ]
  },
  {
   "cell_type": "code",
   "execution_count": 17,
   "metadata": {},
   "outputs": [],
   "source": [
    "def replace_val(var, df = df):\n",
    "    dictionary = get_dict(var)\n",
    "    df[var] = df[var].astype(str)\n",
    "    df[var] = df[var].map(dictionary)"
   ]
  },
  {
   "cell_type": "code",
   "execution_count": 18,
   "metadata": {},
   "outputs": [],
   "source": [
    "for var in list_of_vars_val:\n",
    "    replace_val(var)"
   ]
  },
  {
   "cell_type": "code",
   "execution_count": 20,
   "metadata": {},
   "outputs": [],
   "source": [
    "# Can be used to replace column names\n",
    "variables_list = [(item[0], item[2]) for item in list_of_lists_info[3:-1]]"
   ]
  },
  {
   "cell_type": "code",
   "execution_count": 21,
   "metadata": {},
   "outputs": [],
   "source": [
    "variables_dict = dict(variables_list)"
   ]
  },
  {
   "cell_type": "code",
   "execution_count": 23,
   "metadata": {},
   "outputs": [],
   "source": [
    "df.rename(columns = variables_dict, inplace=True)"
   ]
  },
  {
   "cell_type": "code",
   "execution_count": 24,
   "metadata": {},
   "outputs": [
    {
     "data": {
      "text/html": [
       "<div>\n",
       "<style scoped>\n",
       "    .dataframe tbody tr th:only-of-type {\n",
       "        vertical-align: middle;\n",
       "    }\n",
       "\n",
       "    .dataframe tbody tr th {\n",
       "        vertical-align: top;\n",
       "    }\n",
       "\n",
       "    .dataframe thead th {\n",
       "        text-align: right;\n",
       "    }\n",
       "</style>\n",
       "<table border=\"1\" class=\"dataframe\">\n",
       "  <thead>\n",
       "    <tr style=\"text-align: right;\">\n",
       "      <th></th>\n",
       "      <th>gakkou</th>\n",
       "      <th>性別</th>\n",
       "      <th>跡取りか</th>\n",
       "      <th>保護者との続柄</th>\n",
       "      <th>保護者の職業</th>\n",
       "      <th>学業成績</th>\n",
       "      <th>学科</th>\n",
       "      <th>将来の希望</th>\n",
       "    </tr>\n",
       "  </thead>\n",
       "  <tbody>\n",
       "    <tr>\n",
       "      <th>0</th>\n",
       "      <td>101</td>\n",
       "      <td>男子</td>\n",
       "      <td>無回答</td>\n",
       "      <td>長男・長女</td>\n",
       "      <td>俸給生活者</td>\n",
       "      <td>上</td>\n",
       "      <td>NaN</td>\n",
       "      <td>就職</td>\n",
       "    </tr>\n",
       "    <tr>\n",
       "      <th>1</th>\n",
       "      <td>101</td>\n",
       "      <td>男子</td>\n",
       "      <td>無回答</td>\n",
       "      <td>長男・長女</td>\n",
       "      <td>俸給生活者</td>\n",
       "      <td>上</td>\n",
       "      <td>NaN</td>\n",
       "      <td>進学</td>\n",
       "    </tr>\n",
       "    <tr>\n",
       "      <th>2</th>\n",
       "      <td>101</td>\n",
       "      <td>男子</td>\n",
       "      <td>無回答</td>\n",
       "      <td>四男・四女以上</td>\n",
       "      <td>独立工業者</td>\n",
       "      <td>中</td>\n",
       "      <td>職業科</td>\n",
       "      <td>就職</td>\n",
       "    </tr>\n",
       "    <tr>\n",
       "      <th>3</th>\n",
       "      <td>101</td>\n",
       "      <td>男子</td>\n",
       "      <td>無回答</td>\n",
       "      <td>長男・長女</td>\n",
       "      <td>工員</td>\n",
       "      <td>上</td>\n",
       "      <td>職業科</td>\n",
       "      <td>就職</td>\n",
       "    </tr>\n",
       "    <tr>\n",
       "      <th>4</th>\n",
       "      <td>101</td>\n",
       "      <td>男子</td>\n",
       "      <td>無回答</td>\n",
       "      <td>次男・次女</td>\n",
       "      <td>無職</td>\n",
       "      <td>上</td>\n",
       "      <td>NaN</td>\n",
       "      <td>進学</td>\n",
       "    </tr>\n",
       "    <tr>\n",
       "      <th>...</th>\n",
       "      <td>...</td>\n",
       "      <td>...</td>\n",
       "      <td>...</td>\n",
       "      <td>...</td>\n",
       "      <td>...</td>\n",
       "      <td>...</td>\n",
       "      <td>...</td>\n",
       "      <td>...</td>\n",
       "    </tr>\n",
       "    <tr>\n",
       "      <th>16559</th>\n",
       "      <td>1312</td>\n",
       "      <td>女子</td>\n",
       "      <td>無回答</td>\n",
       "      <td>次男・次女</td>\n",
       "      <td>農業</td>\n",
       "      <td>上</td>\n",
       "      <td>NaN</td>\n",
       "      <td>就職</td>\n",
       "    </tr>\n",
       "    <tr>\n",
       "      <th>16560</th>\n",
       "      <td>1312</td>\n",
       "      <td>女子</td>\n",
       "      <td>無回答</td>\n",
       "      <td>三男・三女</td>\n",
       "      <td>農業</td>\n",
       "      <td>上</td>\n",
       "      <td>職業科</td>\n",
       "      <td>就職</td>\n",
       "    </tr>\n",
       "    <tr>\n",
       "      <th>16561</th>\n",
       "      <td>1312</td>\n",
       "      <td>女子</td>\n",
       "      <td>無回答</td>\n",
       "      <td>四男・四女以上</td>\n",
       "      <td>農業</td>\n",
       "      <td>上</td>\n",
       "      <td>NaN</td>\n",
       "      <td>進学</td>\n",
       "    </tr>\n",
       "    <tr>\n",
       "      <th>16562</th>\n",
       "      <td>1312</td>\n",
       "      <td>女子</td>\n",
       "      <td>無回答</td>\n",
       "      <td>四男・四女以上</td>\n",
       "      <td>農業</td>\n",
       "      <td>上</td>\n",
       "      <td>職業科</td>\n",
       "      <td>就職</td>\n",
       "    </tr>\n",
       "    <tr>\n",
       "      <th>16563</th>\n",
       "      <td>1312</td>\n",
       "      <td>女子</td>\n",
       "      <td>無回答</td>\n",
       "      <td>長男・長女</td>\n",
       "      <td>工員</td>\n",
       "      <td>上</td>\n",
       "      <td>NaN</td>\n",
       "      <td>就職</td>\n",
       "    </tr>\n",
       "  </tbody>\n",
       "</table>\n",
       "<p>16564 rows × 8 columns</p>\n",
       "</div>"
      ],
      "text/plain": [
       "       gakkou  性別 跡取りか  保護者との続柄 保護者の職業 学業成績   学科 将来の希望\n",
       "0         101  男子  無回答    長男・長女  俸給生活者    上  NaN    就職\n",
       "1         101  男子  無回答    長男・長女  俸給生活者    上  NaN    進学\n",
       "2         101  男子  無回答  四男・四女以上  独立工業者    中  職業科    就職\n",
       "3         101  男子  無回答    長男・長女     工員    上  職業科    就職\n",
       "4         101  男子  無回答    次男・次女     無職    上  NaN    進学\n",
       "...       ...  ..  ...      ...    ...  ...  ...   ...\n",
       "16559    1312  女子  無回答    次男・次女     農業    上  NaN    就職\n",
       "16560    1312  女子  無回答    三男・三女     農業    上  職業科    就職\n",
       "16561    1312  女子  無回答  四男・四女以上     農業    上  NaN    進学\n",
       "16562    1312  女子  無回答  四男・四女以上     農業    上  職業科    就職\n",
       "16563    1312  女子  無回答    長男・長女     工員    上  NaN    就職\n",
       "\n",
       "[16564 rows x 8 columns]"
      ]
     },
     "execution_count": 24,
     "metadata": {},
     "output_type": "execute_result"
    }
   ],
   "source": [
    "df"
   ]
  },
  {
   "cell_type": "code",
   "execution_count": null,
   "metadata": {},
   "outputs": [],
   "source": []
  }
 ],
 "metadata": {
  "kernelspec": {
   "display_name": "Python 3",
   "language": "python",
   "name": "python3"
  },
  "language_info": {
   "codemirror_mode": {
    "name": "ipython",
    "version": 3
   },
   "file_extension": ".py",
   "mimetype": "text/x-python",
   "name": "python",
   "nbconvert_exporter": "python",
   "pygments_lexer": "ipython3",
   "version": "3.7.7"
  }
 },
 "nbformat": 4,
 "nbformat_minor": 4
}
