{
 "cells": [
  {
   "cell_type": "code",
   "execution_count": 5,
   "metadata": {},
   "outputs": [],
   "source": [
    "import pandas as pd\n",
    "import os\n",
    "\n",
    "directory_data = '../../Data/School/0001'\n",
    "file_name = 'student_employed.csv'\n",
    "file_read = os.path.join(directory_data, file_name)\n",
    "\n",
    "df = pd.read_csv(file_read)\n",
    "\n",
    "# Aggregate Employmnet Channels\n",
    "dict_channel = {1: 'school', 2: 'school', 3: 'school',\n",
    "                4: 'connections', 5: 'connections', 6: 'connections',\n",
    "                7: 'ad', 8: 'high_school', 9: 'firm', 99: 'no_response'}\n",
    "df['channel_agg'] = df.employment_channel\n",
    "df.channel_agg = df.channel_agg.map(dict_channel)\n",
    "# May create a file that maps categorical variables\n",
    "\n",
    "# Drop rows which don't have the salary and firm size info.\n",
    "df = df[(df.salary != 99999) & (df.firm_size != 9999)]\n",
    "\n",
    "\n",
    "\n",
    "# Distribution of salary at individual level.\n",
    "# Ignore these graphs because they are not informative.\n",
    "# plot_dist(df[df.firm_size != 9999], 'firm_size',\n",
    "#          'firm_size', 'firm_size_unconditional')\n",
    "\n",
    "# plot_dist(df[(df.firm_size != 9999) & (df.channel_agg == 'school')],\n",
    "#          'firm_size', 'firm size whose channel is school',\n",
    "#          'firm_size_school')\n",
    "\n",
    "# plot_dist(df[(df.firm_size != 9999) & (df.channel_agg == 'connections')],\n",
    "#          'firm_size', 'firm size whose channel is connections',\n",
    "#          'firm_size_connections')\n",
    "\n",
    "#\n",
    "# Get average salary for each channel at the school level.\n",
    "df_mean = df.groupby(['school_id', 'channel_agg']).mean()\n",
    "df_mean_salary = df_mean.salary.unstack(level=-1).reset_index()\n",
    "df_mean_firm_size = df_mean.firm_size.unstack(level=-1).reset_index()\n",
    "df_mean_salary['salary_gap'] = df_mean_salary.school - \\\n",
    "    df_mean_salary.connections\n",
    "df_mean_firm_size['firm_size_gap'] = df_mean_firm_size.school - \\\n",
    "    df_mean_firm_size.connections"
   ]
  },
  {
   "cell_type": "code",
   "execution_count": 6,
   "metadata": {},
   "outputs": [],
   "source": [
    "df_mean_salary.describe().to_csv('mean_salary_describe.csv')"
   ]
  },
  {
   "cell_type": "code",
   "execution_count": 7,
   "metadata": {},
   "outputs": [],
   "source": [
    "df_mean_firm_size.describe().to_csv('mean_firm_size_describe.csv')"
   ]
  },
  {
   "cell_type": "code",
   "execution_count": null,
   "metadata": {},
   "outputs": [],
   "source": []
  }
 ],
 "metadata": {
  "kernelspec": {
   "display_name": "Python 3",
   "language": "python",
   "name": "python3"
  },
  "language_info": {
   "codemirror_mode": {
    "name": "ipython",
    "version": 3
   },
   "file_extension": ".py",
   "mimetype": "text/x-python",
   "name": "python",
   "nbconvert_exporter": "python",
   "pygments_lexer": "ipython3",
   "version": "3.7.4"
  }
 },
 "nbformat": 4,
 "nbformat_minor": 4
}
