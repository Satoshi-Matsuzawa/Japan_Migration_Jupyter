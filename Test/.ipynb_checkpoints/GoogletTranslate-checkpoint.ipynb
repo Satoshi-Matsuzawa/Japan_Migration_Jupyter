{
 "cells": [
  {
   "cell_type": "code",
   "execution_count": 1,
   "metadata": {},
   "outputs": [],
   "source": [
    "import googletrans\n",
    "from googletrans import Translator"
   ]
  },
  {
   "cell_type": "code",
   "execution_count": 3,
   "metadata": {},
   "outputs": [
    {
     "name": "stdout",
     "output_type": "stream",
     "text": [
      "Translated(src=es, dest=en, text=Hello World, pronunciation=Hello World, extra_data=\"{'translat...\")\n"
     ]
    }
   ],
   "source": [
    "translator = Translator()\n",
    "translated = translator.translate('Hola Mundo')\n",
    "print(translated)"
   ]
  },
  {
   "cell_type": "code",
   "execution_count": 4,
   "metadata": {},
   "outputs": [
    {
     "data": {
      "text/plain": [
       "'Hello World'"
      ]
     },
     "execution_count": 4,
     "metadata": {},
     "output_type": "execute_result"
    }
   ],
   "source": [
    "translated.text"
   ]
  },
  {
   "cell_type": "code",
   "execution_count": 5,
   "metadata": {},
   "outputs": [
    {
     "data": {
      "text/plain": [
       "'Ciao mondo'"
      ]
     },
     "execution_count": 5,
     "metadata": {},
     "output_type": "execute_result"
    }
   ],
   "source": [
    "translated_ita =translator.translate('Hola Mundo',dest='it')\n",
    "translated_ita.text"
   ]
  },
  {
   "cell_type": "code",
   "execution_count": 6,
   "metadata": {},
   "outputs": [
    {
     "data": {
      "text/plain": [
       "'Hallo Welt'"
      ]
     },
     "execution_count": 6,
     "metadata": {},
     "output_type": "execute_result"
    }
   ],
   "source": [
    "translated_de = translator.translate('Hola Mundo', dest ='de')\n",
    "translated_de.text"
   ]
  },
  {
   "cell_type": "code",
   "execution_count": 7,
   "metadata": {},
   "outputs": [
    {
     "name": "stdout",
     "output_type": "stream",
     "text": [
      "{'af': 'afrikaans', 'sq': 'albanian', 'am': 'amharic', 'ar': 'arabic', 'hy': 'armenian', 'az': 'azerbaijani', 'eu': 'basque', 'be': 'belarusian', 'bn': 'bengali', 'bs': 'bosnian', 'bg': 'bulgarian', 'ca': 'catalan', 'ceb': 'cebuano', 'ny': 'chichewa', 'zh-cn': 'chinese (simplified)', 'zh-tw': 'chinese (traditional)', 'co': 'corsican', 'hr': 'croatian', 'cs': 'czech', 'da': 'danish', 'nl': 'dutch', 'en': 'english', 'eo': 'esperanto', 'et': 'estonian', 'tl': 'filipino', 'fi': 'finnish', 'fr': 'french', 'fy': 'frisian', 'gl': 'galician', 'ka': 'georgian', 'de': 'german', 'el': 'greek', 'gu': 'gujarati', 'ht': 'haitian creole', 'ha': 'hausa', 'haw': 'hawaiian', 'iw': 'hebrew', 'hi': 'hindi', 'hmn': 'hmong', 'hu': 'hungarian', 'is': 'icelandic', 'ig': 'igbo', 'id': 'indonesian', 'ga': 'irish', 'it': 'italian', 'ja': 'japanese', 'jw': 'javanese', 'kn': 'kannada', 'kk': 'kazakh', 'km': 'khmer', 'ko': 'korean', 'ku': 'kurdish (kurmanji)', 'ky': 'kyrgyz', 'lo': 'lao', 'la': 'latin', 'lv': 'latvian', 'lt': 'lithuanian', 'lb': 'luxembourgish', 'mk': 'macedonian', 'mg': 'malagasy', 'ms': 'malay', 'ml': 'malayalam', 'mt': 'maltese', 'mi': 'maori', 'mr': 'marathi', 'mn': 'mongolian', 'my': 'myanmar (burmese)', 'ne': 'nepali', 'no': 'norwegian', 'ps': 'pashto', 'fa': 'persian', 'pl': 'polish', 'pt': 'portuguese', 'pa': 'punjabi', 'ro': 'romanian', 'ru': 'russian', 'sm': 'samoan', 'gd': 'scots gaelic', 'sr': 'serbian', 'st': 'sesotho', 'sn': 'shona', 'sd': 'sindhi', 'si': 'sinhala', 'sk': 'slovak', 'sl': 'slovenian', 'so': 'somali', 'es': 'spanish', 'su': 'sundanese', 'sw': 'swahili', 'sv': 'swedish', 'tg': 'tajik', 'ta': 'tamil', 'te': 'telugu', 'th': 'thai', 'tr': 'turkish', 'uk': 'ukrainian', 'ur': 'urdu', 'uz': 'uzbek', 'vi': 'vietnamese', 'cy': 'welsh', 'xh': 'xhosa', 'yi': 'yiddish', 'yo': 'yoruba', 'zu': 'zulu', 'fil': 'Filipino', 'he': 'Hebrew'}\n"
     ]
    }
   ],
   "source": [
    "print(googletrans.LANGUAGES)"
   ]
  },
  {
   "cell_type": "code",
   "execution_count": 8,
   "metadata": {},
   "outputs": [],
   "source": [
    "translated_ja = translator.translate('Hola Mundo', dest = 'ja')"
   ]
  },
  {
   "cell_type": "code",
   "execution_count": 9,
   "metadata": {},
   "outputs": [
    {
     "data": {
      "text/plain": [
       "'こんにちは世界'"
      ]
     },
     "execution_count": 9,
     "metadata": {},
     "output_type": "execute_result"
    }
   ],
   "source": [
    "translated_ja.text"
   ]
  },
  {
   "cell_type": "code",
   "execution_count": 10,
   "metadata": {},
   "outputs": [
    {
     "data": {
      "text/plain": [
       "'Hello World'"
      ]
     },
     "execution_count": 10,
     "metadata": {},
     "output_type": "execute_result"
    }
   ],
   "source": [
    "translated.text"
   ]
  },
  {
   "cell_type": "code",
   "execution_count": 11,
   "metadata": {},
   "outputs": [
    {
     "data": {
      "text/plain": [
       "'es'"
      ]
     },
     "execution_count": 11,
     "metadata": {},
     "output_type": "execute_result"
    }
   ],
   "source": [
    "translated.src"
   ]
  },
  {
   "cell_type": "code",
   "execution_count": 12,
   "metadata": {},
   "outputs": [
    {
     "data": {
      "text/plain": [
       "'en'"
      ]
     },
     "execution_count": 12,
     "metadata": {},
     "output_type": "execute_result"
    }
   ],
   "source": [
    "translated.dest"
   ]
  },
  {
   "cell_type": "code",
   "execution_count": 13,
   "metadata": {},
   "outputs": [],
   "source": [
    "import pandas as pd"
   ]
  },
  {
   "cell_type": "code",
   "execution_count": 14,
   "metadata": {},
   "outputs": [
    {
     "data": {
      "text/html": [
       "<div>\n",
       "<style scoped>\n",
       "    .dataframe tbody tr th:only-of-type {\n",
       "        vertical-align: middle;\n",
       "    }\n",
       "\n",
       "    .dataframe tbody tr th {\n",
       "        vertical-align: top;\n",
       "    }\n",
       "\n",
       "    .dataframe thead th {\n",
       "        text-align: right;\n",
       "    }\n",
       "</style>\n",
       "<table border=\"1\" class=\"dataframe\">\n",
       "  <thead>\n",
       "    <tr style=\"text-align: right;\">\n",
       "      <th></th>\n",
       "      <th>Año</th>\n",
       "      <th>Mes</th>\n",
       "      <th>Nivel</th>\n",
       "      <th>Sexo</th>\n",
       "      <th>Edad</th>\n",
       "      <th>Situación administrativa</th>\n",
       "      <th>Nacionalidad-País</th>\n",
       "      <th>Area Geográfica</th>\n",
       "      <th>Categoría profesional</th>\n",
       "      <th>Nivel de estudios</th>\n",
       "      <th>Oficina</th>\n",
       "    </tr>\n",
       "  </thead>\n",
       "  <tbody>\n",
       "    <tr>\n",
       "      <th>0</th>\n",
       "      <td>2019</td>\n",
       "      <td>Enero</td>\n",
       "      <td>A2</td>\n",
       "      <td>Mujer</td>\n",
       "      <td>31 a 50 años</td>\n",
       "      <td>ART</td>\n",
       "      <td>Nigeria</td>\n",
       "      <td>África Subsahariana</td>\n",
       "      <td>Desempleado con prestación</td>\n",
       "      <td>Secundaria</td>\n",
       "      <td>Oficina Norte</td>\n",
       "    </tr>\n",
       "    <tr>\n",
       "      <th>1</th>\n",
       "      <td>2019</td>\n",
       "      <td>Enero</td>\n",
       "      <td>A2</td>\n",
       "      <td>Mujer</td>\n",
       "      <td>18 a 30 años</td>\n",
       "      <td>ART</td>\n",
       "      <td>Filipinas</td>\n",
       "      <td>Asia</td>\n",
       "      <td>Desempleado sin prestación</td>\n",
       "      <td>Universitario</td>\n",
       "      <td>Oficina Norte</td>\n",
       "    </tr>\n",
       "    <tr>\n",
       "      <th>2</th>\n",
       "      <td>2019</td>\n",
       "      <td>Enero</td>\n",
       "      <td>A2</td>\n",
       "      <td>Mujer</td>\n",
       "      <td>31 a 50 años</td>\n",
       "      <td>ART</td>\n",
       "      <td>Filipinas</td>\n",
       "      <td>Asia</td>\n",
       "      <td>Empleado</td>\n",
       "      <td>Secundaria</td>\n",
       "      <td>Oficina Norte</td>\n",
       "    </tr>\n",
       "    <tr>\n",
       "      <th>3</th>\n",
       "      <td>2019</td>\n",
       "      <td>Enero</td>\n",
       "      <td>A2</td>\n",
       "      <td>Mujer</td>\n",
       "      <td>31 a 50 años</td>\n",
       "      <td>Irregular</td>\n",
       "      <td>Marruecos</td>\n",
       "      <td>Magreb</td>\n",
       "      <td>Empleado</td>\n",
       "      <td>Secundaria</td>\n",
       "      <td>Oficina Norte</td>\n",
       "    </tr>\n",
       "    <tr>\n",
       "      <th>4</th>\n",
       "      <td>2019</td>\n",
       "      <td>Enero</td>\n",
       "      <td>A2</td>\n",
       "      <td>Mujer</td>\n",
       "      <td>31 a 50 años</td>\n",
       "      <td>Irregular</td>\n",
       "      <td>Marruecos</td>\n",
       "      <td>Magreb</td>\n",
       "      <td>Desempleado sin prestación</td>\n",
       "      <td>Bachillerato</td>\n",
       "      <td>Oficina Norte</td>\n",
       "    </tr>\n",
       "  </tbody>\n",
       "</table>\n",
       "</div>"
      ],
      "text/plain": [
       "    Año    Mes Nivel   Sexo          Edad Situación administrativa  \\\n",
       "0  2019  Enero    A2  Mujer  31 a 50 años                      ART   \n",
       "1  2019  Enero    A2  Mujer  18 a 30 años                      ART   \n",
       "2  2019  Enero    A2  Mujer  31 a 50 años                      ART   \n",
       "3  2019  Enero    A2  Mujer  31 a 50 años                Irregular   \n",
       "4  2019  Enero    A2  Mujer  31 a 50 años                Irregular   \n",
       "\n",
       "  Nacionalidad-País      Area Geográfica       Categoría profesional  \\\n",
       "0           Nigeria  África Subsahariana  Desempleado con prestación   \n",
       "1         Filipinas                 Asia  Desempleado sin prestación   \n",
       "2         Filipinas                 Asia                    Empleado   \n",
       "3         Marruecos               Magreb                    Empleado   \n",
       "4         Marruecos               Magreb  Desempleado sin prestación   \n",
       "\n",
       "  Nivel de estudios        Oficina  \n",
       "0        Secundaria  Oficina Norte  \n",
       "1     Universitario  Oficina Norte  \n",
       "2        Secundaria  Oficina Norte  \n",
       "3        Secundaria  Oficina Norte  \n",
       "4      Bachillerato  Oficina Norte  "
      ]
     },
     "execution_count": 14,
     "metadata": {},
     "output_type": "execute_result"
    }
   ],
   "source": [
    "df_es = pd.read_csv('CEspanol_2019_ene_septiembre.csv',sep = ';', encoding = 'latin-1')\n",
    "df_es.head()"
   ]
  },
  {
   "cell_type": "code",
   "execution_count": 15,
   "metadata": {},
   "outputs": [],
   "source": [
    "df_en = df_es.copy()\n",
    "df_en.rename(columns = lambda x: translator.translate(x).text, inplace=True)"
   ]
  },
  {
   "cell_type": "code",
   "execution_count": 16,
   "metadata": {},
   "outputs": [
    {
     "data": {
      "text/plain": [
       "Index(['Year', 'My', 'level', 'Sex', 'Age', 'administrative status',\n",
       "       'Nationality country', 'Geographical area', 'Professional category',\n",
       "       'Level studies', 'Office'],\n",
       "      dtype='object')"
      ]
     },
     "execution_count": 16,
     "metadata": {},
     "output_type": "execute_result"
    }
   ],
   "source": [
    "df_en.columns"
   ]
  },
  {
   "cell_type": "code",
   "execution_count": 27,
   "metadata": {},
   "outputs": [
    {
     "data": {
      "text/plain": [
       "Index(['Year', 'My', 'level', 'Sex', 'Age', 'administrative status',\n",
       "       'Nationality country', 'Geographical area', 'Professional category',\n",
       "       'Level studies', 'Office'],\n",
       "      dtype='object')"
      ]
     },
     "execution_count": 27,
     "metadata": {},
     "output_type": "execute_result"
    }
   ],
   "source": [
    "df_en.columns"
   ]
  },
  {
   "cell_type": "code",
   "execution_count": 33,
   "metadata": {},
   "outputs": [
    {
     "data": {
      "text/plain": [
       "Index(['My', 'level', 'Sex', 'Age', 'administrative status',\n",
       "       'Nationality country', 'Geographical area', 'Professional category',\n",
       "       'Level studies', 'Office'],\n",
       "      dtype='object')"
      ]
     },
     "execution_count": 33,
     "metadata": {},
     "output_type": "execute_result"
    }
   ],
   "source": [
    "df_en.columns[1:]"
   ]
  },
  {
   "cell_type": "code",
   "execution_count": 37,
   "metadata": {},
   "outputs": [],
   "source": [
    "translations = {}\n",
    "for column in df_en.columns[1:]:\n",
    "    unique_elements = df_en[column].unique()\n",
    "    for element in unique_elements:\n",
    "        try:\n",
    "            translations[element] = translator.translate(element).text\n",
    "        except:\n",
    "            pass"
   ]
  },
  {
   "cell_type": "code",
   "execution_count": 38,
   "metadata": {},
   "outputs": [
    {
     "data": {
      "text/plain": [
       "{'Enero': 'January',\n",
       " 'Febrero': 'February',\n",
       " 'Marzo': 'March',\n",
       " 'Abril': 'April',\n",
       " 'Mayo': 'Mayo',\n",
       " 'Junio': 'June',\n",
       " 'Julio': 'July',\n",
       " 'Agosto': 'August',\n",
       " 'Septiembre': 'September',\n",
       " 'A2': 'Aa',\n",
       " 'A1': 'A1',\n",
       " 'A2 DELE': 'A2 PARTS',\n",
       " 'B1 conversación': 'B1 conversation',\n",
       " 'B1': 'B1',\n",
       " 'Alfabetización': 'literacy',\n",
       " 'Lectoescritura': 'literacy',\n",
       " 'B2': 'B2',\n",
       " 'Alfabetización y Lectoescritura': 'Literacy and Literacy',\n",
       " 'Mujer': 'Woman',\n",
       " 'Hombre': 'Man',\n",
       " 'mujer': 'woman',\n",
       " 'hombre': 'man',\n",
       " '31 a 50 años': '31 to 50 years',\n",
       " '18 a 30 años': '18 to 30 years',\n",
       " '51 a 65 años': '51 to 65 years',\n",
       " '4 a 17 años': '4 to 17 years',\n",
       " '65': '65',\n",
       " 'ART': 'ART',\n",
       " 'Irregular': 'Irregular',\n",
       " 'Comunitario': 'Community',\n",
       " 'A R ': 'A R',\n",
       " 'Familiar Comunitario': 'family Community',\n",
       " 'Otros': 'Others',\n",
       " 'Estudiante': 'student',\n",
       " 'Asilo / Refugio': 'Asylum / Shelter',\n",
       " 'Familiar comunitario': 'family Community',\n",
       " 'comunitario': 'Community',\n",
       " 'Turista': 'Tourist',\n",
       " 'Nigeria': 'Nigeria',\n",
       " 'Filipinas': 'Philippines',\n",
       " 'Marruecos': 'Morocco',\n",
       " 'India': 'India',\n",
       " 'Estados Unidos de América': 'United States of America',\n",
       " 'Sri Lanka': 'Sri Lanka',\n",
       " 'China': 'China',\n",
       " 'Ucrania': 'Ukraine',\n",
       " 'Irán': 'Iran',\n",
       " 'República Árabe Siria': 'Syrian Arab Republic',\n",
       " 'Argelia': 'Algeria',\n",
       " 'Gabón': 'Gabon',\n",
       " 'Etiopía': 'Ethiopia',\n",
       " 'Bangladesh': 'Bangladesh',\n",
       " 'Brasil': 'Brazil',\n",
       " 'Guinea': 'Guinea',\n",
       " 'Libia': 'Libya',\n",
       " 'Yemen': 'Yemen',\n",
       " 'Senegal': 'Senegal',\n",
       " 'Cabo Verde': 'Cape Verde',\n",
       " 'Ghana': 'Ghana',\n",
       " 'irán': 'Iran',\n",
       " 'Sahara': 'Sahara',\n",
       " 'Mongolia': 'Mongolia',\n",
       " 'Rusia': 'Russia',\n",
       " 'Azerbaiyán': 'Azerbaijan',\n",
       " 'Irlanda': 'Ireland',\n",
       " 'Rumania': 'Romania',\n",
       " 'República de Moldova': 'Republic of Moldova',\n",
       " 'Costa de Marfil': 'Ivory Coast',\n",
       " 'Malí': 'Mali',\n",
       " 'República Checa': 'Czech Republic',\n",
       " 'Burkina Faso': 'Burkina Faso',\n",
       " 'Bulgaria': 'Bulgaria',\n",
       " 'Uzbekistán': 'Uzbekistan',\n",
       " 'Suecia': 'Sweden',\n",
       " 'Armenia': 'Armenia',\n",
       " 'Haití': 'Haiti',\n",
       " 'Belarús': 'Belarus',\n",
       " 'Portugal': 'Portugal',\n",
       " 'Camerún': 'Cameroon',\n",
       " 'Italia': 'Italy',\n",
       " 'Dinamarca': 'Denmark',\n",
       " 'Turquía': 'Turkey',\n",
       " 'Trinidad y Tabago': 'Trinidad and Tobago',\n",
       " 'Camboya': 'Cambodia',\n",
       " 'Croacia': 'Croatia',\n",
       " 'Francia': 'France',\n",
       " 'Niger': 'Niger',\n",
       " 'Túnez': 'Tunisia',\n",
       " 'Palestina': 'Palestine',\n",
       " 'Georgia': 'Georgia',\n",
       " 'República Democrática del Congo': 'Democratic Republic of Congo',\n",
       " 'Pakistán': 'Pakistan',\n",
       " 'Taiwán': 'Taiwan',\n",
       " 'Egipto': 'Egypt',\n",
       " 'República Federal Democrática de Nepal': 'Federal Democratic Republic of Nepal',\n",
       " 'Viet Nam': 'Vietnam',\n",
       " 'Indonesia': 'Indonesia',\n",
       " 'Kazajstán': 'Kazakhstan',\n",
       " 'Kenya': 'Kenya',\n",
       " 'Iraq': 'Iraq',\n",
       " 'Polonia': 'Poland',\n",
       " 'Liberia': 'Liberia',\n",
       " 'República Dominicana': 'Dominican Republic',\n",
       " 'Bélgica': 'Belgium',\n",
       " 'República de Corea': 'Republic of Korea',\n",
       " 'Sudán': 'Sudan',\n",
       " 'Congo': 'Congo',\n",
       " 'Serbia': 'Serbia',\n",
       " 'Mauritania': 'Mauritania',\n",
       " 'Hungría': 'Hungary',\n",
       " 'Malawi': 'Malawi',\n",
       " 'Guinea Bissau': 'Guinea Bissau',\n",
       " 'Jordania': 'Jordan',\n",
       " 'Eritrea': 'Eritrea',\n",
       " 'Alemania': 'Germany',\n",
       " 'Chad': 'Chad',\n",
       " 'Ecuador': 'Ecuador',\n",
       " 'El Salvador': 'The Savior',\n",
       " 'Benin': 'Benin',\n",
       " 'Gambia': 'Gambia',\n",
       " 'Togo': 'Togo',\n",
       " 'España': 'Spain',\n",
       " 'Japón': 'Japan',\n",
       " 'Somalia': 'Somalia',\n",
       " 'África Subsahariana': 'Sub-Saharan Africa',\n",
       " 'Asia': 'Asia',\n",
       " 'Magreb': 'Magreb',\n",
       " 'Norte América': 'North America',\n",
       " 'Europa Extracomunitaria': 'Europe outside the EU',\n",
       " 'asia': 'asia',\n",
       " 'América Latina': 'Latin America',\n",
       " 'Unión Europea': 'European Union',\n",
       " 'África subsahariana': 'Sub-Saharan Africa',\n",
       " 'Europa extracomunitaria': 'Europe outside the EU',\n",
       " 'Desempleado con prestación': 'Unemployed with benefit',\n",
       " 'Desempleado sin prestación': 'Unemployed without benefits',\n",
       " 'Empleado': 'Employee',\n",
       " 'estudiante': 'student',\n",
       " 'desempleado con prestación': 'unemployed with benefit',\n",
       " 'Secundaria': 'High school',\n",
       " 'Universitario': 'academic',\n",
       " 'Bachillerato': 'baccalaureate',\n",
       " 'Primaria': 'Primary',\n",
       " 'Sin estudios': 'uneducated',\n",
       " 'F.P': 'F.P',\n",
       " 'No consta': 'Not included or provided',\n",
       " 'sin estudios': 'uneducated',\n",
       " 'secundaria': 'high school',\n",
       " 'Oficina Norte': 'North office',\n",
       " 'Oficina Sur': 'South office'}"
      ]
     },
     "execution_count": 38,
     "metadata": {},
     "output_type": "execute_result"
    }
   ],
   "source": [
    "translations"
   ]
  },
  {
   "cell_type": "code",
   "execution_count": 39,
   "metadata": {},
   "outputs": [],
   "source": [
    "df_en.replace(translations, inplace= True)"
   ]
  },
  {
   "cell_type": "code",
   "execution_count": 40,
   "metadata": {},
   "outputs": [
    {
     "data": {
      "text/html": [
       "<div>\n",
       "<style scoped>\n",
       "    .dataframe tbody tr th:only-of-type {\n",
       "        vertical-align: middle;\n",
       "    }\n",
       "\n",
       "    .dataframe tbody tr th {\n",
       "        vertical-align: top;\n",
       "    }\n",
       "\n",
       "    .dataframe thead th {\n",
       "        text-align: right;\n",
       "    }\n",
       "</style>\n",
       "<table border=\"1\" class=\"dataframe\">\n",
       "  <thead>\n",
       "    <tr style=\"text-align: right;\">\n",
       "      <th></th>\n",
       "      <th>Year</th>\n",
       "      <th>My</th>\n",
       "      <th>level</th>\n",
       "      <th>Sex</th>\n",
       "      <th>Age</th>\n",
       "      <th>administrative status</th>\n",
       "      <th>Nationality country</th>\n",
       "      <th>Geographical area</th>\n",
       "      <th>Professional category</th>\n",
       "      <th>Level studies</th>\n",
       "      <th>Office</th>\n",
       "    </tr>\n",
       "  </thead>\n",
       "  <tbody>\n",
       "    <tr>\n",
       "      <th>0</th>\n",
       "      <td>2019</td>\n",
       "      <td>January</td>\n",
       "      <td>Aa</td>\n",
       "      <td>Woman</td>\n",
       "      <td>31 to 50 years</td>\n",
       "      <td>ART</td>\n",
       "      <td>Nigeria</td>\n",
       "      <td>Sub-Saharan Africa</td>\n",
       "      <td>Unemployed with benefit</td>\n",
       "      <td>High school</td>\n",
       "      <td>North office</td>\n",
       "    </tr>\n",
       "    <tr>\n",
       "      <th>1</th>\n",
       "      <td>2019</td>\n",
       "      <td>January</td>\n",
       "      <td>Aa</td>\n",
       "      <td>Woman</td>\n",
       "      <td>18 to 30 years</td>\n",
       "      <td>ART</td>\n",
       "      <td>Philippines</td>\n",
       "      <td>Asia</td>\n",
       "      <td>Unemployed without benefits</td>\n",
       "      <td>academic</td>\n",
       "      <td>North office</td>\n",
       "    </tr>\n",
       "    <tr>\n",
       "      <th>2</th>\n",
       "      <td>2019</td>\n",
       "      <td>January</td>\n",
       "      <td>Aa</td>\n",
       "      <td>Woman</td>\n",
       "      <td>31 to 50 years</td>\n",
       "      <td>ART</td>\n",
       "      <td>Philippines</td>\n",
       "      <td>Asia</td>\n",
       "      <td>Employee</td>\n",
       "      <td>High school</td>\n",
       "      <td>North office</td>\n",
       "    </tr>\n",
       "    <tr>\n",
       "      <th>3</th>\n",
       "      <td>2019</td>\n",
       "      <td>January</td>\n",
       "      <td>Aa</td>\n",
       "      <td>Woman</td>\n",
       "      <td>31 to 50 years</td>\n",
       "      <td>Irregular</td>\n",
       "      <td>Morocco</td>\n",
       "      <td>Magreb</td>\n",
       "      <td>Employee</td>\n",
       "      <td>High school</td>\n",
       "      <td>North office</td>\n",
       "    </tr>\n",
       "    <tr>\n",
       "      <th>4</th>\n",
       "      <td>2019</td>\n",
       "      <td>January</td>\n",
       "      <td>Aa</td>\n",
       "      <td>Woman</td>\n",
       "      <td>31 to 50 years</td>\n",
       "      <td>Irregular</td>\n",
       "      <td>Morocco</td>\n",
       "      <td>Magreb</td>\n",
       "      <td>Unemployed without benefits</td>\n",
       "      <td>baccalaureate</td>\n",
       "      <td>North office</td>\n",
       "    </tr>\n",
       "  </tbody>\n",
       "</table>\n",
       "</div>"
      ],
      "text/plain": [
       "   Year       My level    Sex             Age administrative status  \\\n",
       "0  2019  January    Aa  Woman  31 to 50 years                   ART   \n",
       "1  2019  January    Aa  Woman  18 to 30 years                   ART   \n",
       "2  2019  January    Aa  Woman  31 to 50 years                   ART   \n",
       "3  2019  January    Aa  Woman  31 to 50 years             Irregular   \n",
       "4  2019  January    Aa  Woman  31 to 50 years             Irregular   \n",
       "\n",
       "  Nationality country   Geographical area        Professional category  \\\n",
       "0             Nigeria  Sub-Saharan Africa      Unemployed with benefit   \n",
       "1         Philippines                Asia  Unemployed without benefits   \n",
       "2         Philippines                Asia                     Employee   \n",
       "3             Morocco              Magreb                     Employee   \n",
       "4             Morocco              Magreb  Unemployed without benefits   \n",
       "\n",
       "   Level studies        Office  \n",
       "0    High school  North office  \n",
       "1       academic  North office  \n",
       "2    High school  North office  \n",
       "3    High school  North office  \n",
       "4  baccalaureate  North office  "
      ]
     },
     "execution_count": 40,
     "metadata": {},
     "output_type": "execute_result"
    }
   ],
   "source": [
    "df_en.head()"
   ]
  },
  {
   "cell_type": "code",
   "execution_count": null,
   "metadata": {},
   "outputs": [],
   "source": []
  }
 ],
 "metadata": {
  "kernelspec": {
   "display_name": "Python 3",
   "language": "python",
   "name": "python3"
  },
  "language_info": {
   "codemirror_mode": {
    "name": "ipython",
    "version": 3
   },
   "file_extension": ".py",
   "mimetype": "text/x-python",
   "name": "python",
   "nbconvert_exporter": "python",
   "pygments_lexer": "ipython3",
   "version": "3.7.7"
  }
 },
 "nbformat": 4,
 "nbformat_minor": 4
}
